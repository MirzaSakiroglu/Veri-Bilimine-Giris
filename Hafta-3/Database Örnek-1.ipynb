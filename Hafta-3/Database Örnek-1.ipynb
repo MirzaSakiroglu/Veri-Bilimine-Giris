{
 "cells": [
  {
   "cell_type": "markdown",
   "metadata": {},
   "source": [
    "#### 1- Kütüphanelerin Yüklenmesi"
   ]
  },
  {
   "cell_type": "code",
   "execution_count": 1,
   "metadata": {},
   "outputs": [],
   "source": [
    "import numpy as np ## numpy kütüphanesinin import edilmesi\n",
    "import pandas as pd ## pandas kütüphanesinin import edilmesi\n",
    "import seaborn as sns ## seaborn kütüphanesinin import edilmesi\n",
    "import matplotlib.pyplot as plt ## matplotlip kütüphanesinin import edilmesi\n",
    "import datetime as dt ## datetime kütüphanesinin import edilmesi\n",
    "pd.pandas.set_option('display.max_columns', None) ## dataframein tüm sutunlarının görülmesi için gereken kod"
   ]
  },
  {
   "cell_type": "markdown",
   "metadata": {},
   "source": [
    "### 2- Verisetinin Yüklenmesi"
   ]
  },
  {
   "cell_type": "code",
   "execution_count": 2,
   "metadata": {
    "collapsed": true,
    "jupyter": {
     "outputs_hidden": true
    },
    "tags": []
   },
   "outputs": [
    {
     "ename": "KeyboardInterrupt",
     "evalue": "",
     "output_type": "error",
     "traceback": [
      "\u001b[1;31m---------------------------------------------------------------------------\u001b[0m",
      "\u001b[1;31mKeyboardInterrupt\u001b[0m                         Traceback (most recent call last)",
      "\u001b[1;32m~\\AppData\\Local\\Temp/ipykernel_2016/898343272.py\u001b[0m in \u001b[0;36m<module>\u001b[1;34m\u001b[0m\n\u001b[0;32m      1\u001b[0m \u001b[1;31m### Veri Çok fazla olduğundan biraz zaman alabilir.\u001b[0m\u001b[1;33m\u001b[0m\u001b[1;33m\u001b[0m\u001b[0m\n\u001b[1;32m----> 2\u001b[1;33m \u001b[0mdata\u001b[0m \u001b[1;33m=\u001b[0m \u001b[0mpd\u001b[0m\u001b[1;33m.\u001b[0m\u001b[0mread_excel\u001b[0m\u001b[1;33m(\u001b[0m\u001b[1;34m\"MarketSales.xlsx\"\u001b[0m\u001b[1;33m)\u001b[0m\u001b[1;33m\u001b[0m\u001b[1;33m\u001b[0m\u001b[0m\n\u001b[0m",
      "\u001b[1;32m~\\anaconda3\\lib\\site-packages\\pandas\\util\\_decorators.py\u001b[0m in \u001b[0;36mwrapper\u001b[1;34m(*args, **kwargs)\u001b[0m\n\u001b[0;32m    209\u001b[0m                 \u001b[1;32melse\u001b[0m\u001b[1;33m:\u001b[0m\u001b[1;33m\u001b[0m\u001b[1;33m\u001b[0m\u001b[0m\n\u001b[0;32m    210\u001b[0m                     \u001b[0mkwargs\u001b[0m\u001b[1;33m[\u001b[0m\u001b[0mnew_arg_name\u001b[0m\u001b[1;33m]\u001b[0m \u001b[1;33m=\u001b[0m \u001b[0mnew_arg_value\u001b[0m\u001b[1;33m\u001b[0m\u001b[1;33m\u001b[0m\u001b[0m\n\u001b[1;32m--> 211\u001b[1;33m             \u001b[1;32mreturn\u001b[0m \u001b[0mfunc\u001b[0m\u001b[1;33m(\u001b[0m\u001b[1;33m*\u001b[0m\u001b[0margs\u001b[0m\u001b[1;33m,\u001b[0m \u001b[1;33m**\u001b[0m\u001b[0mkwargs\u001b[0m\u001b[1;33m)\u001b[0m\u001b[1;33m\u001b[0m\u001b[1;33m\u001b[0m\u001b[0m\n\u001b[0m\u001b[0;32m    212\u001b[0m \u001b[1;33m\u001b[0m\u001b[0m\n\u001b[0;32m    213\u001b[0m         \u001b[1;32mreturn\u001b[0m \u001b[0mcast\u001b[0m\u001b[1;33m(\u001b[0m\u001b[0mF\u001b[0m\u001b[1;33m,\u001b[0m \u001b[0mwrapper\u001b[0m\u001b[1;33m)\u001b[0m\u001b[1;33m\u001b[0m\u001b[1;33m\u001b[0m\u001b[0m\n",
      "\u001b[1;32m~\\anaconda3\\lib\\site-packages\\pandas\\util\\_decorators.py\u001b[0m in \u001b[0;36mwrapper\u001b[1;34m(*args, **kwargs)\u001b[0m\n\u001b[0;32m    329\u001b[0m                     \u001b[0mstacklevel\u001b[0m\u001b[1;33m=\u001b[0m\u001b[0mfind_stack_level\u001b[0m\u001b[1;33m(\u001b[0m\u001b[1;33m)\u001b[0m\u001b[1;33m,\u001b[0m\u001b[1;33m\u001b[0m\u001b[1;33m\u001b[0m\u001b[0m\n\u001b[0;32m    330\u001b[0m                 )\n\u001b[1;32m--> 331\u001b[1;33m             \u001b[1;32mreturn\u001b[0m \u001b[0mfunc\u001b[0m\u001b[1;33m(\u001b[0m\u001b[1;33m*\u001b[0m\u001b[0margs\u001b[0m\u001b[1;33m,\u001b[0m \u001b[1;33m**\u001b[0m\u001b[0mkwargs\u001b[0m\u001b[1;33m)\u001b[0m\u001b[1;33m\u001b[0m\u001b[1;33m\u001b[0m\u001b[0m\n\u001b[0m\u001b[0;32m    332\u001b[0m \u001b[1;33m\u001b[0m\u001b[0m\n\u001b[0;32m    333\u001b[0m         \u001b[1;31m# error: \"Callable[[VarArg(Any), KwArg(Any)], Any]\" has no\u001b[0m\u001b[1;33m\u001b[0m\u001b[1;33m\u001b[0m\u001b[0m\n",
      "\u001b[1;32m~\\anaconda3\\lib\\site-packages\\pandas\\io\\excel\\_base.py\u001b[0m in \u001b[0;36mread_excel\u001b[1;34m(io, sheet_name, header, names, index_col, usecols, squeeze, dtype, engine, converters, true_values, false_values, skiprows, nrows, na_values, keep_default_na, na_filter, verbose, parse_dates, date_parser, thousands, decimal, comment, skipfooter, convert_float, mangle_dupe_cols, storage_options)\u001b[0m\n\u001b[0;32m    488\u001b[0m \u001b[1;33m\u001b[0m\u001b[0m\n\u001b[0;32m    489\u001b[0m     \u001b[1;32mtry\u001b[0m\u001b[1;33m:\u001b[0m\u001b[1;33m\u001b[0m\u001b[1;33m\u001b[0m\u001b[0m\n\u001b[1;32m--> 490\u001b[1;33m         data = io.parse(\n\u001b[0m\u001b[0;32m    491\u001b[0m             \u001b[0msheet_name\u001b[0m\u001b[1;33m=\u001b[0m\u001b[0msheet_name\u001b[0m\u001b[1;33m,\u001b[0m\u001b[1;33m\u001b[0m\u001b[1;33m\u001b[0m\u001b[0m\n\u001b[0;32m    492\u001b[0m             \u001b[0mheader\u001b[0m\u001b[1;33m=\u001b[0m\u001b[0mheader\u001b[0m\u001b[1;33m,\u001b[0m\u001b[1;33m\u001b[0m\u001b[1;33m\u001b[0m\u001b[0m\n",
      "\u001b[1;32m~\\anaconda3\\lib\\site-packages\\pandas\\io\\excel\\_base.py\u001b[0m in \u001b[0;36mparse\u001b[1;34m(self, sheet_name, header, names, index_col, usecols, squeeze, converters, true_values, false_values, skiprows, nrows, na_values, parse_dates, date_parser, thousands, comment, skipfooter, convert_float, mangle_dupe_cols, **kwds)\u001b[0m\n\u001b[0;32m   1732\u001b[0m             \u001b[0mDataFrame\u001b[0m \u001b[1;32mfrom\u001b[0m \u001b[0mthe\u001b[0m \u001b[0mpassed\u001b[0m \u001b[1;32min\u001b[0m \u001b[0mExcel\u001b[0m \u001b[0mfile\u001b[0m\u001b[1;33m.\u001b[0m\u001b[1;33m\u001b[0m\u001b[1;33m\u001b[0m\u001b[0m\n\u001b[0;32m   1733\u001b[0m         \"\"\"\n\u001b[1;32m-> 1734\u001b[1;33m         return self._reader.parse(\n\u001b[0m\u001b[0;32m   1735\u001b[0m             \u001b[0msheet_name\u001b[0m\u001b[1;33m=\u001b[0m\u001b[0msheet_name\u001b[0m\u001b[1;33m,\u001b[0m\u001b[1;33m\u001b[0m\u001b[1;33m\u001b[0m\u001b[0m\n\u001b[0;32m   1736\u001b[0m             \u001b[0mheader\u001b[0m\u001b[1;33m=\u001b[0m\u001b[0mheader\u001b[0m\u001b[1;33m,\u001b[0m\u001b[1;33m\u001b[0m\u001b[1;33m\u001b[0m\u001b[0m\n",
      "\u001b[1;32m~\\anaconda3\\lib\\site-packages\\pandas\\io\\excel\\_base.py\u001b[0m in \u001b[0;36mparse\u001b[1;34m(self, sheet_name, header, names, index_col, usecols, squeeze, dtype, true_values, false_values, skiprows, nrows, na_values, verbose, parse_dates, date_parser, thousands, decimal, comment, skipfooter, convert_float, mangle_dupe_cols, **kwds)\u001b[0m\n\u001b[0;32m    763\u001b[0m \u001b[1;33m\u001b[0m\u001b[0m\n\u001b[0;32m    764\u001b[0m             \u001b[0mfile_rows_needed\u001b[0m \u001b[1;33m=\u001b[0m \u001b[0mself\u001b[0m\u001b[1;33m.\u001b[0m\u001b[0m_calc_rows\u001b[0m\u001b[1;33m(\u001b[0m\u001b[0mheader\u001b[0m\u001b[1;33m,\u001b[0m \u001b[0mindex_col\u001b[0m\u001b[1;33m,\u001b[0m \u001b[0mskiprows\u001b[0m\u001b[1;33m,\u001b[0m \u001b[0mnrows\u001b[0m\u001b[1;33m)\u001b[0m\u001b[1;33m\u001b[0m\u001b[1;33m\u001b[0m\u001b[0m\n\u001b[1;32m--> 765\u001b[1;33m             \u001b[0mdata\u001b[0m \u001b[1;33m=\u001b[0m \u001b[0mself\u001b[0m\u001b[1;33m.\u001b[0m\u001b[0mget_sheet_data\u001b[0m\u001b[1;33m(\u001b[0m\u001b[0msheet\u001b[0m\u001b[1;33m,\u001b[0m \u001b[0mconvert_float\u001b[0m\u001b[1;33m,\u001b[0m \u001b[0mfile_rows_needed\u001b[0m\u001b[1;33m)\u001b[0m\u001b[1;33m\u001b[0m\u001b[1;33m\u001b[0m\u001b[0m\n\u001b[0m\u001b[0;32m    766\u001b[0m             \u001b[1;32mif\u001b[0m \u001b[0mhasattr\u001b[0m\u001b[1;33m(\u001b[0m\u001b[0msheet\u001b[0m\u001b[1;33m,\u001b[0m \u001b[1;34m\"close\"\u001b[0m\u001b[1;33m)\u001b[0m\u001b[1;33m:\u001b[0m\u001b[1;33m\u001b[0m\u001b[1;33m\u001b[0m\u001b[0m\n\u001b[0;32m    767\u001b[0m                 \u001b[1;31m# pyxlsb opens two TemporaryFiles\u001b[0m\u001b[1;33m\u001b[0m\u001b[1;33m\u001b[0m\u001b[0m\n",
      "\u001b[1;32m~\\anaconda3\\lib\\site-packages\\pandas\\io\\excel\\_openpyxl.py\u001b[0m in \u001b[0;36mget_sheet_data\u001b[1;34m(self, sheet, convert_float, file_rows_needed)\u001b[0m\n\u001b[0;32m    613\u001b[0m         \u001b[0mdata\u001b[0m\u001b[1;33m:\u001b[0m \u001b[0mlist\u001b[0m\u001b[1;33m[\u001b[0m\u001b[0mlist\u001b[0m\u001b[1;33m[\u001b[0m\u001b[0mScalar\u001b[0m\u001b[1;33m]\u001b[0m\u001b[1;33m]\u001b[0m \u001b[1;33m=\u001b[0m \u001b[1;33m[\u001b[0m\u001b[1;33m]\u001b[0m\u001b[1;33m\u001b[0m\u001b[1;33m\u001b[0m\u001b[0m\n\u001b[0;32m    614\u001b[0m         \u001b[0mlast_row_with_data\u001b[0m \u001b[1;33m=\u001b[0m \u001b[1;33m-\u001b[0m\u001b[1;36m1\u001b[0m\u001b[1;33m\u001b[0m\u001b[1;33m\u001b[0m\u001b[0m\n\u001b[1;32m--> 615\u001b[1;33m         \u001b[1;32mfor\u001b[0m \u001b[0mrow_number\u001b[0m\u001b[1;33m,\u001b[0m \u001b[0mrow\u001b[0m \u001b[1;32min\u001b[0m \u001b[0menumerate\u001b[0m\u001b[1;33m(\u001b[0m\u001b[0msheet\u001b[0m\u001b[1;33m.\u001b[0m\u001b[0mrows\u001b[0m\u001b[1;33m)\u001b[0m\u001b[1;33m:\u001b[0m\u001b[1;33m\u001b[0m\u001b[1;33m\u001b[0m\u001b[0m\n\u001b[0m\u001b[0;32m    616\u001b[0m             \u001b[0mconverted_row\u001b[0m \u001b[1;33m=\u001b[0m \u001b[1;33m[\u001b[0m\u001b[0mself\u001b[0m\u001b[1;33m.\u001b[0m\u001b[0m_convert_cell\u001b[0m\u001b[1;33m(\u001b[0m\u001b[0mcell\u001b[0m\u001b[1;33m,\u001b[0m \u001b[0mconvert_float\u001b[0m\u001b[1;33m)\u001b[0m \u001b[1;32mfor\u001b[0m \u001b[0mcell\u001b[0m \u001b[1;32min\u001b[0m \u001b[0mrow\u001b[0m\u001b[1;33m]\u001b[0m\u001b[1;33m\u001b[0m\u001b[1;33m\u001b[0m\u001b[0m\n\u001b[0;32m    617\u001b[0m             \u001b[1;32mwhile\u001b[0m \u001b[0mconverted_row\u001b[0m \u001b[1;32mand\u001b[0m \u001b[0mconverted_row\u001b[0m\u001b[1;33m[\u001b[0m\u001b[1;33m-\u001b[0m\u001b[1;36m1\u001b[0m\u001b[1;33m]\u001b[0m \u001b[1;33m==\u001b[0m \u001b[1;34m\"\"\u001b[0m\u001b[1;33m:\u001b[0m\u001b[1;33m\u001b[0m\u001b[1;33m\u001b[0m\u001b[0m\n",
      "\u001b[1;32m~\\anaconda3\\lib\\site-packages\\openpyxl\\worksheet\\_read_only.py\u001b[0m in \u001b[0;36m_cells_by_row\u001b[1;34m(self, min_col, min_row, max_col, max_row, values_only)\u001b[0m\n\u001b[0;32m     77\u001b[0m                                  \u001b[0mdata_only\u001b[0m\u001b[1;33m=\u001b[0m\u001b[0mself\u001b[0m\u001b[1;33m.\u001b[0m\u001b[0mparent\u001b[0m\u001b[1;33m.\u001b[0m\u001b[0mdata_only\u001b[0m\u001b[1;33m,\u001b[0m \u001b[0mepoch\u001b[0m\u001b[1;33m=\u001b[0m\u001b[0mself\u001b[0m\u001b[1;33m.\u001b[0m\u001b[0mparent\u001b[0m\u001b[1;33m.\u001b[0m\u001b[0mepoch\u001b[0m\u001b[1;33m,\u001b[0m\u001b[1;33m\u001b[0m\u001b[1;33m\u001b[0m\u001b[0m\n\u001b[0;32m     78\u001b[0m                                  date_formats=self.parent._date_formats)\n\u001b[1;32m---> 79\u001b[1;33m         \u001b[1;32mfor\u001b[0m \u001b[0midx\u001b[0m\u001b[1;33m,\u001b[0m \u001b[0mrow\u001b[0m \u001b[1;32min\u001b[0m \u001b[0mparser\u001b[0m\u001b[1;33m.\u001b[0m\u001b[0mparse\u001b[0m\u001b[1;33m(\u001b[0m\u001b[1;33m)\u001b[0m\u001b[1;33m:\u001b[0m\u001b[1;33m\u001b[0m\u001b[1;33m\u001b[0m\u001b[0m\n\u001b[0m\u001b[0;32m     80\u001b[0m             \u001b[1;32mif\u001b[0m \u001b[0mmax_row\u001b[0m \u001b[1;32mis\u001b[0m \u001b[1;32mnot\u001b[0m \u001b[1;32mNone\u001b[0m \u001b[1;32mand\u001b[0m \u001b[0midx\u001b[0m \u001b[1;33m>\u001b[0m \u001b[0mmax_row\u001b[0m\u001b[1;33m:\u001b[0m\u001b[1;33m\u001b[0m\u001b[1;33m\u001b[0m\u001b[0m\n\u001b[0;32m     81\u001b[0m                 \u001b[1;32mbreak\u001b[0m\u001b[1;33m\u001b[0m\u001b[1;33m\u001b[0m\u001b[0m\n",
      "\u001b[1;32m~\\anaconda3\\lib\\site-packages\\openpyxl\\worksheet\\_reader.py\u001b[0m in \u001b[0;36mparse\u001b[1;34m(self)\u001b[0m\n\u001b[0;32m    142\u001b[0m         \u001b[0mit\u001b[0m \u001b[1;33m=\u001b[0m \u001b[0miterparse\u001b[0m\u001b[1;33m(\u001b[0m\u001b[0mself\u001b[0m\u001b[1;33m.\u001b[0m\u001b[0msource\u001b[0m\u001b[1;33m)\u001b[0m \u001b[1;31m# add a finaliser to close the source when this becomes possible\u001b[0m\u001b[1;33m\u001b[0m\u001b[1;33m\u001b[0m\u001b[0m\n\u001b[0;32m    143\u001b[0m \u001b[1;33m\u001b[0m\u001b[0m\n\u001b[1;32m--> 144\u001b[1;33m         \u001b[1;32mfor\u001b[0m \u001b[0m_\u001b[0m\u001b[1;33m,\u001b[0m \u001b[0melement\u001b[0m \u001b[1;32min\u001b[0m \u001b[0mit\u001b[0m\u001b[1;33m:\u001b[0m\u001b[1;33m\u001b[0m\u001b[1;33m\u001b[0m\u001b[0m\n\u001b[0m\u001b[0;32m    145\u001b[0m             \u001b[0mtag_name\u001b[0m \u001b[1;33m=\u001b[0m \u001b[0melement\u001b[0m\u001b[1;33m.\u001b[0m\u001b[0mtag\u001b[0m\u001b[1;33m\u001b[0m\u001b[1;33m\u001b[0m\u001b[0m\n\u001b[0;32m    146\u001b[0m             \u001b[1;32mif\u001b[0m \u001b[0mtag_name\u001b[0m \u001b[1;32min\u001b[0m \u001b[0mdispatcher\u001b[0m\u001b[1;33m:\u001b[0m\u001b[1;33m\u001b[0m\u001b[1;33m\u001b[0m\u001b[0m\n",
      "\u001b[1;32m~\\anaconda3\\lib\\xml\\etree\\ElementTree.py\u001b[0m in \u001b[0;36miterator\u001b[1;34m()\u001b[0m\n\u001b[0;32m   1257\u001b[0m                 \u001b[1;32mif\u001b[0m \u001b[1;32mnot\u001b[0m \u001b[0mdata\u001b[0m\u001b[1;33m:\u001b[0m\u001b[1;33m\u001b[0m\u001b[1;33m\u001b[0m\u001b[0m\n\u001b[0;32m   1258\u001b[0m                     \u001b[1;32mbreak\u001b[0m\u001b[1;33m\u001b[0m\u001b[1;33m\u001b[0m\u001b[0m\n\u001b[1;32m-> 1259\u001b[1;33m                 \u001b[0mpullparser\u001b[0m\u001b[1;33m.\u001b[0m\u001b[0mfeed\u001b[0m\u001b[1;33m(\u001b[0m\u001b[0mdata\u001b[0m\u001b[1;33m)\u001b[0m\u001b[1;33m\u001b[0m\u001b[1;33m\u001b[0m\u001b[0m\n\u001b[0m\u001b[0;32m   1260\u001b[0m             \u001b[0mroot\u001b[0m \u001b[1;33m=\u001b[0m \u001b[0mpullparser\u001b[0m\u001b[1;33m.\u001b[0m\u001b[0m_close_and_return_root\u001b[0m\u001b[1;33m(\u001b[0m\u001b[1;33m)\u001b[0m\u001b[1;33m\u001b[0m\u001b[1;33m\u001b[0m\u001b[0m\n\u001b[0;32m   1261\u001b[0m             \u001b[1;32myield\u001b[0m \u001b[1;32mfrom\u001b[0m \u001b[0mpullparser\u001b[0m\u001b[1;33m.\u001b[0m\u001b[0mread_events\u001b[0m\u001b[1;33m(\u001b[0m\u001b[1;33m)\u001b[0m\u001b[1;33m\u001b[0m\u001b[1;33m\u001b[0m\u001b[0m\n",
      "\u001b[1;32m~\\anaconda3\\lib\\xml\\etree\\ElementTree.py\u001b[0m in \u001b[0;36mfeed\u001b[1;34m(self, data)\u001b[0m\n\u001b[0;32m   1299\u001b[0m         \u001b[1;32mif\u001b[0m \u001b[0mdata\u001b[0m\u001b[1;33m:\u001b[0m\u001b[1;33m\u001b[0m\u001b[1;33m\u001b[0m\u001b[0m\n\u001b[0;32m   1300\u001b[0m             \u001b[1;32mtry\u001b[0m\u001b[1;33m:\u001b[0m\u001b[1;33m\u001b[0m\u001b[1;33m\u001b[0m\u001b[0m\n\u001b[1;32m-> 1301\u001b[1;33m                 \u001b[0mself\u001b[0m\u001b[1;33m.\u001b[0m\u001b[0m_parser\u001b[0m\u001b[1;33m.\u001b[0m\u001b[0mfeed\u001b[0m\u001b[1;33m(\u001b[0m\u001b[0mdata\u001b[0m\u001b[1;33m)\u001b[0m\u001b[1;33m\u001b[0m\u001b[1;33m\u001b[0m\u001b[0m\n\u001b[0m\u001b[0;32m   1302\u001b[0m             \u001b[1;32mexcept\u001b[0m \u001b[0mSyntaxError\u001b[0m \u001b[1;32mas\u001b[0m \u001b[0mexc\u001b[0m\u001b[1;33m:\u001b[0m\u001b[1;33m\u001b[0m\u001b[1;33m\u001b[0m\u001b[0m\n\u001b[0;32m   1303\u001b[0m                 \u001b[0mself\u001b[0m\u001b[1;33m.\u001b[0m\u001b[0m_events_queue\u001b[0m\u001b[1;33m.\u001b[0m\u001b[0mappend\u001b[0m\u001b[1;33m(\u001b[0m\u001b[0mexc\u001b[0m\u001b[1;33m)\u001b[0m\u001b[1;33m\u001b[0m\u001b[1;33m\u001b[0m\u001b[0m\n",
      "\u001b[1;32m~\\anaconda3\\lib\\xml\\etree\\ElementTree.py\u001b[0m in \u001b[0;36mfeed\u001b[1;34m(self, data)\u001b[0m\n\u001b[0;32m   1718\u001b[0m         \u001b[1;34m\"\"\"Feed encoded data to parser.\"\"\"\u001b[0m\u001b[1;33m\u001b[0m\u001b[1;33m\u001b[0m\u001b[0m\n\u001b[0;32m   1719\u001b[0m         \u001b[1;32mtry\u001b[0m\u001b[1;33m:\u001b[0m\u001b[1;33m\u001b[0m\u001b[1;33m\u001b[0m\u001b[0m\n\u001b[1;32m-> 1720\u001b[1;33m             \u001b[0mself\u001b[0m\u001b[1;33m.\u001b[0m\u001b[0mparser\u001b[0m\u001b[1;33m.\u001b[0m\u001b[0mParse\u001b[0m\u001b[1;33m(\u001b[0m\u001b[0mdata\u001b[0m\u001b[1;33m,\u001b[0m \u001b[1;32mFalse\u001b[0m\u001b[1;33m)\u001b[0m\u001b[1;33m\u001b[0m\u001b[1;33m\u001b[0m\u001b[0m\n\u001b[0m\u001b[0;32m   1721\u001b[0m         \u001b[1;32mexcept\u001b[0m \u001b[0mself\u001b[0m\u001b[1;33m.\u001b[0m\u001b[0m_error\u001b[0m \u001b[1;32mas\u001b[0m \u001b[0mv\u001b[0m\u001b[1;33m:\u001b[0m\u001b[1;33m\u001b[0m\u001b[1;33m\u001b[0m\u001b[0m\n\u001b[0;32m   1722\u001b[0m             \u001b[0mself\u001b[0m\u001b[1;33m.\u001b[0m\u001b[0m_raiseerror\u001b[0m\u001b[1;33m(\u001b[0m\u001b[0mv\u001b[0m\u001b[1;33m)\u001b[0m\u001b[1;33m\u001b[0m\u001b[1;33m\u001b[0m\u001b[0m\n",
      "\u001b[1;32mc:\\ci\\python-split_1631828652012\\work\\modules\\pyexpat.c\u001b[0m in \u001b[0;36mStartElement\u001b[1;34m()\u001b[0m\n",
      "\u001b[1;32m~\\anaconda3\\lib\\xml\\etree\\ElementTree.py\u001b[0m in \u001b[0;36m_start\u001b[1;34m(self, tag, attr_list)\u001b[0m\n\u001b[0;32m   1646\u001b[0m         \u001b[1;32mreturn\u001b[0m \u001b[0mself\u001b[0m\u001b[1;33m.\u001b[0m\u001b[0mtarget\u001b[0m\u001b[1;33m.\u001b[0m\u001b[0mend_ns\u001b[0m\u001b[1;33m(\u001b[0m\u001b[0mprefix\u001b[0m \u001b[1;32mor\u001b[0m \u001b[1;34m''\u001b[0m\u001b[1;33m)\u001b[0m\u001b[1;33m\u001b[0m\u001b[1;33m\u001b[0m\u001b[0m\n\u001b[0;32m   1647\u001b[0m \u001b[1;33m\u001b[0m\u001b[0m\n\u001b[1;32m-> 1648\u001b[1;33m     \u001b[1;32mdef\u001b[0m \u001b[0m_start\u001b[0m\u001b[1;33m(\u001b[0m\u001b[0mself\u001b[0m\u001b[1;33m,\u001b[0m \u001b[0mtag\u001b[0m\u001b[1;33m,\u001b[0m \u001b[0mattr_list\u001b[0m\u001b[1;33m)\u001b[0m\u001b[1;33m:\u001b[0m\u001b[1;33m\u001b[0m\u001b[1;33m\u001b[0m\u001b[0m\n\u001b[0m\u001b[0;32m   1649\u001b[0m         \u001b[1;31m# Handler for expat's StartElementHandler. Since ordered_attributes\u001b[0m\u001b[1;33m\u001b[0m\u001b[1;33m\u001b[0m\u001b[0m\n\u001b[0;32m   1650\u001b[0m         \u001b[1;31m# is set, the attributes are reported as a list of alternating\u001b[0m\u001b[1;33m\u001b[0m\u001b[1;33m\u001b[0m\u001b[0m\n",
      "\u001b[1;31mKeyboardInterrupt\u001b[0m: "
     ]
    }
   ],
   "source": [
    "### Veri Çok fazla olduğundan biraz zaman alabilir.\n",
    "data = pd.read_excel(\"MarketSales.xlsx\")"
   ]
  },
  {
   "cell_type": "code",
   "execution_count": null,
   "metadata": {},
   "outputs": [],
   "source": [
    "data.head(2)"
   ]
  },
  {
   "cell_type": "markdown",
   "metadata": {},
   "source": [
    "### 3- Verisetinin Orjinalınde değişiklik gelmemesei için veriyi başka bir değişkene atayın"
   ]
  },
  {
   "cell_type": "code",
   "execution_count": 3,
   "metadata": {},
   "outputs": [],
   "source": [
    "df=data.copy()"
   ]
  },
  {
   "cell_type": "markdown",
   "metadata": {},
   "source": [
    "### 4-Verisetinin Boyutlarına bulunuz"
   ]
  },
  {
   "cell_type": "code",
   "execution_count": 4,
   "metadata": {},
   "outputs": [
    {
     "data": {
      "text/plain": [
       "(611108, 26)"
      ]
     },
     "execution_count": 4,
     "metadata": {},
     "output_type": "execute_result"
    }
   ],
   "source": [
    "df.shape"
   ]
  },
  {
   "cell_type": "markdown",
   "metadata": {},
   "source": [
    "### 5-Verisetinin Sutunlarının İsimlerini Yazdırın"
   ]
  },
  {
   "cell_type": "code",
   "execution_count": 5,
   "metadata": {
    "collapsed": true,
    "jupyter": {
     "outputs_hidden": true
    }
   },
   "outputs": [
    {
     "data": {
      "text/plain": [
       "Index(['ID', 'ITEMCODE', 'ITEMNAME', 'FICHENO', 'DATE_', 'AMOUNT', 'PRICE',\n",
       "       'LINENETTOTAL', 'LINENET', 'BRANCHNR', 'BRANCH', 'SALESMAN', 'CITY',\n",
       "       'REGION', 'LATITUDE', 'LONGITUDE', 'CLIENTCODE', 'CLIENTNAME',\n",
       "       'BRANDCODE', 'BRAND', 'CATEGORY_NAME1', 'CATEGORY_NAME2',\n",
       "       'CATEGORY_NAME3', 'STARTDATE', 'ENDDATE', 'GENDER'],\n",
       "      dtype='object')"
      ]
     },
     "execution_count": 5,
     "metadata": {},
     "output_type": "execute_result"
    }
   ],
   "source": [
    "df.columns"
   ]
  },
  {
   "cell_type": "markdown",
   "metadata": {},
   "source": [
    "### 6- Veri setinin bilgilerine ulaşılması"
   ]
  },
  {
   "cell_type": "code",
   "execution_count": 6,
   "metadata": {
    "collapsed": true,
    "jupyter": {
     "outputs_hidden": true
    }
   },
   "outputs": [
    {
     "name": "stdout",
     "output_type": "stream",
     "text": [
      "<class 'pandas.core.frame.DataFrame'>\n",
      "RangeIndex: 611108 entries, 0 to 611107\n",
      "Data columns (total 26 columns):\n",
      " #   Column          Non-Null Count   Dtype         \n",
      "---  ------          --------------   -----         \n",
      " 0   ID              611107 non-null  float64       \n",
      " 1   ITEMCODE        603941 non-null  float64       \n",
      " 2   ITEMNAME        603941 non-null  object        \n",
      " 3   FICHENO         611108 non-null  int64         \n",
      " 4   DATE_           611107 non-null  datetime64[ns]\n",
      " 5   AMOUNT          611107 non-null  float64       \n",
      " 6   PRICE           611107 non-null  float64       \n",
      " 7   LINENETTOTAL    611107 non-null  float64       \n",
      " 8   LINENET         611107 non-null  float64       \n",
      " 9   BRANCHNR        611107 non-null  float64       \n",
      " 10  BRANCH          611107 non-null  object        \n",
      " 11  SALESMAN        611108 non-null  object        \n",
      " 12  CITY            611107 non-null  object        \n",
      " 13  REGION          611107 non-null  object        \n",
      " 14  LATITUDE        611107 non-null  float64       \n",
      " 15  LONGITUDE       611107 non-null  float64       \n",
      " 16  CLIENTCODE      592760 non-null  object        \n",
      " 17  CLIENTNAME      592743 non-null  object        \n",
      " 18  BRANDCODE       575551 non-null  object        \n",
      " 19  BRAND           575551 non-null  object        \n",
      " 20  CATEGORY_NAME1  603941 non-null  object        \n",
      " 21  CATEGORY_NAME2  583448 non-null  object        \n",
      " 22  CATEGORY_NAME3  401649 non-null  object        \n",
      " 23  STARTDATE       611108 non-null  datetime64[ns]\n",
      " 24  ENDDATE         611108 non-null  datetime64[ns]\n",
      " 25  GENDER          592743 non-null  object        \n",
      "dtypes: datetime64[ns](3), float64(9), int64(1), object(13)\n",
      "memory usage: 121.2+ MB\n"
     ]
    }
   ],
   "source": [
    "df.info()"
   ]
  },
  {
   "cell_type": "markdown",
   "metadata": {},
   "source": [
    "### 7- Veri Setinde Boş Değer Varmı sorgulanması"
   ]
  },
  {
   "cell_type": "code",
   "execution_count": 7,
   "metadata": {
    "collapsed": true,
    "jupyter": {
     "outputs_hidden": true
    }
   },
   "outputs": [
    {
     "data": {
      "text/plain": [
       "ID                 True\n",
       "ITEMCODE           True\n",
       "ITEMNAME           True\n",
       "FICHENO           False\n",
       "DATE_              True\n",
       "AMOUNT             True\n",
       "PRICE              True\n",
       "LINENETTOTAL       True\n",
       "LINENET            True\n",
       "BRANCHNR           True\n",
       "BRANCH             True\n",
       "SALESMAN          False\n",
       "CITY               True\n",
       "REGION             True\n",
       "LATITUDE           True\n",
       "LONGITUDE          True\n",
       "CLIENTCODE         True\n",
       "CLIENTNAME         True\n",
       "BRANDCODE          True\n",
       "BRAND              True\n",
       "CATEGORY_NAME1     True\n",
       "CATEGORY_NAME2     True\n",
       "CATEGORY_NAME3     True\n",
       "STARTDATE         False\n",
       "ENDDATE           False\n",
       "GENDER             True\n",
       "dtype: bool"
      ]
     },
     "execution_count": 7,
     "metadata": {},
     "output_type": "execute_result"
    }
   ],
   "source": [
    "df.isnull().any()"
   ]
  },
  {
   "cell_type": "markdown",
   "metadata": {},
   "source": [
    "### 8- Verisetindeki Sutunlarda Toplam Kaç Adet Değer Var Bulunuz"
   ]
  },
  {
   "cell_type": "code",
   "execution_count": 8,
   "metadata": {
    "collapsed": true,
    "jupyter": {
     "outputs_hidden": true
    }
   },
   "outputs": [
    {
     "data": {
      "text/plain": [
       "ID                     1\n",
       "ITEMCODE            7167\n",
       "ITEMNAME            7167\n",
       "FICHENO                0\n",
       "DATE_                  1\n",
       "AMOUNT                 1\n",
       "PRICE                  1\n",
       "LINENETTOTAL           1\n",
       "LINENET                1\n",
       "BRANCHNR               1\n",
       "BRANCH                 1\n",
       "SALESMAN               0\n",
       "CITY                   1\n",
       "REGION                 1\n",
       "LATITUDE               1\n",
       "LONGITUDE              1\n",
       "CLIENTCODE         18348\n",
       "CLIENTNAME         18365\n",
       "BRANDCODE          35557\n",
       "BRAND              35557\n",
       "CATEGORY_NAME1      7167\n",
       "CATEGORY_NAME2     27660\n",
       "CATEGORY_NAME3    209459\n",
       "STARTDATE              0\n",
       "ENDDATE                0\n",
       "GENDER             18365\n",
       "dtype: int64"
      ]
     },
     "execution_count": 8,
     "metadata": {},
     "output_type": "execute_result"
    }
   ],
   "source": [
    "df.isnull().sum()"
   ]
  },
  {
   "cell_type": "markdown",
   "metadata": {},
   "source": [
    "### 9- Verisetinde Toplam Kaç Adet Değer Var Bulunuz"
   ]
  },
  {
   "cell_type": "code",
   "execution_count": 9,
   "metadata": {},
   "outputs": [
    {
     "data": {
      "text/plain": [
       "384824"
      ]
     },
     "execution_count": 9,
     "metadata": {},
     "output_type": "execute_result"
    }
   ],
   "source": [
    "df.isnull().sum().sum()"
   ]
  },
  {
   "cell_type": "markdown",
   "metadata": {},
   "source": [
    "### 10- Verisetinde Boş Değer Olan Sutunların İsimlerini yazdıralım"
   ]
  },
  {
   "cell_type": "code",
   "execution_count": 10,
   "metadata": {
    "collapsed": true,
    "jupyter": {
     "outputs_hidden": true
    }
   },
   "outputs": [
    {
     "data": {
      "text/plain": [
       "ID                 True\n",
       "ITEMCODE           True\n",
       "ITEMNAME           True\n",
       "FICHENO           False\n",
       "DATE_              True\n",
       "AMOUNT             True\n",
       "PRICE              True\n",
       "LINENETTOTAL       True\n",
       "LINENET            True\n",
       "BRANCHNR           True\n",
       "BRANCH             True\n",
       "SALESMAN          False\n",
       "CITY               True\n",
       "REGION             True\n",
       "LATITUDE           True\n",
       "LONGITUDE          True\n",
       "CLIENTCODE         True\n",
       "CLIENTNAME         True\n",
       "BRANDCODE          True\n",
       "BRAND              True\n",
       "CATEGORY_NAME1     True\n",
       "CATEGORY_NAME2     True\n",
       "CATEGORY_NAME3     True\n",
       "STARTDATE         False\n",
       "ENDDATE           False\n",
       "GENDER             True\n",
       "dtype: bool"
      ]
     },
     "execution_count": 10,
     "metadata": {},
     "output_type": "execute_result"
    }
   ],
   "source": [
    "df.isnull().any()"
   ]
  },
  {
   "cell_type": "code",
   "execution_count": 15,
   "metadata": {
    "collapsed": true,
    "jupyter": {
     "outputs_hidden": true
    }
   },
   "outputs": [
    {
     "data": {
      "text/plain": [
       "ID                False\n",
       "ITEMCODE          False\n",
       "ITEMNAME          False\n",
       "FICHENO            True\n",
       "DATE_             False\n",
       "AMOUNT            False\n",
       "PRICE             False\n",
       "LINENETTOTAL      False\n",
       "LINENET           False\n",
       "BRANCHNR          False\n",
       "BRANCH            False\n",
       "SALESMAN           True\n",
       "CITY              False\n",
       "REGION            False\n",
       "LATITUDE          False\n",
       "LONGITUDE         False\n",
       "CLIENTCODE        False\n",
       "CLIENTNAME        False\n",
       "BRANDCODE         False\n",
       "BRAND             False\n",
       "CATEGORY_NAME1    False\n",
       "CATEGORY_NAME2    False\n",
       "CATEGORY_NAME3    False\n",
       "STARTDATE          True\n",
       "ENDDATE            True\n",
       "GENDER            False\n",
       "dtype: bool"
      ]
     },
     "execution_count": 15,
     "metadata": {},
     "output_type": "execute_result"
    }
   ],
   "source": [
    "df.isnull().any() == False ### tüm değerleri dolu olan sutunlar için "
   ]
  },
  {
   "cell_type": "code",
   "execution_count": 13,
   "metadata": {
    "collapsed": true,
    "jupyter": {
     "outputs_hidden": true
    },
    "tags": []
   },
   "outputs": [
    {
     "data": {
      "text/plain": [
       "Index(['ID', 'ITEMCODE', 'ITEMNAME', 'DATE_', 'AMOUNT', 'PRICE',\n",
       "       'LINENETTOTAL', 'LINENET', 'BRANCHNR', 'BRANCH', 'CITY', 'REGION',\n",
       "       'LATITUDE', 'LONGITUDE', 'CLIENTCODE', 'CLIENTNAME', 'BRANDCODE',\n",
       "       'BRAND', 'CATEGORY_NAME1', 'CATEGORY_NAME2', 'CATEGORY_NAME3',\n",
       "       'GENDER'],\n",
       "      dtype='object')"
      ]
     },
     "execution_count": 13,
     "metadata": {},
     "output_type": "execute_result"
    }
   ],
   "source": [
    "df.columns[df.isnull().any()]"
   ]
  },
  {
   "cell_type": "code",
   "execution_count": 14,
   "metadata": {
    "collapsed": true,
    "jupyter": {
     "outputs_hidden": true
    }
   },
   "outputs": [
    {
     "data": {
      "text/plain": [
       "Index(['FICHENO', 'SALESMAN', 'STARTDATE', 'ENDDATE'], dtype='object')"
      ]
     },
     "execution_count": 14,
     "metadata": {},
     "output_type": "execute_result"
    }
   ],
   "source": [
    "df.columns[df.isnull().any() == False]"
   ]
  },
  {
   "cell_type": "markdown",
   "metadata": {},
   "source": [
    "### 11-Verisetinin Sutunlarında Kaç farklı Tip var Onu Bulalım"
   ]
  },
  {
   "cell_type": "code",
   "execution_count": 11,
   "metadata": {},
   "outputs": [
    {
     "data": {
      "text/plain": [
       "4"
      ]
     },
     "execution_count": 11,
     "metadata": {},
     "output_type": "execute_result"
    }
   ],
   "source": [
    "df.dtypes.nunique()"
   ]
  },
  {
   "cell_type": "markdown",
   "metadata": {},
   "source": [
    "### 12- Verisetinin Sutunlarındaki Eşsiz Tipler Nelerdir Onlara Bakalım "
   ]
  },
  {
   "cell_type": "code",
   "execution_count": 12,
   "metadata": {},
   "outputs": [
    {
     "data": {
      "text/plain": [
       "array([dtype('float64'), dtype('O'), dtype('int64'), dtype('<M8[ns]')],\n",
       "      dtype=object)"
      ]
     },
     "execution_count": 12,
     "metadata": {},
     "output_type": "execute_result"
    }
   ],
   "source": [
    "df.dtypes.unique()"
   ]
  },
  {
   "cell_type": "markdown",
   "metadata": {},
   "source": [
    "### 13-Verisetinin İlk 5 Satırını Yazdıralım"
   ]
  },
  {
   "cell_type": "code",
   "execution_count": 13,
   "metadata": {
    "collapsed": true,
    "jupyter": {
     "outputs_hidden": true
    }
   },
   "outputs": [
    {
     "data": {
      "text/html": [
       "<div>\n",
       "<style scoped>\n",
       "    .dataframe tbody tr th:only-of-type {\n",
       "        vertical-align: middle;\n",
       "    }\n",
       "\n",
       "    .dataframe tbody tr th {\n",
       "        vertical-align: top;\n",
       "    }\n",
       "\n",
       "    .dataframe thead th {\n",
       "        text-align: right;\n",
       "    }\n",
       "</style>\n",
       "<table border=\"1\" class=\"dataframe\">\n",
       "  <thead>\n",
       "    <tr style=\"text-align: right;\">\n",
       "      <th></th>\n",
       "      <th>ID</th>\n",
       "      <th>ITEMCODE</th>\n",
       "      <th>ITEMNAME</th>\n",
       "      <th>FICHENO</th>\n",
       "      <th>DATE_</th>\n",
       "      <th>AMOUNT</th>\n",
       "      <th>PRICE</th>\n",
       "      <th>LINENETTOTAL</th>\n",
       "      <th>LINENET</th>\n",
       "      <th>BRANCHNR</th>\n",
       "      <th>BRANCH</th>\n",
       "      <th>SALESMAN</th>\n",
       "      <th>CITY</th>\n",
       "      <th>REGION</th>\n",
       "      <th>LATITUDE</th>\n",
       "      <th>LONGITUDE</th>\n",
       "      <th>CLIENTCODE</th>\n",
       "      <th>CLIENTNAME</th>\n",
       "      <th>BRANDCODE</th>\n",
       "      <th>BRAND</th>\n",
       "      <th>CATEGORY_NAME1</th>\n",
       "      <th>CATEGORY_NAME2</th>\n",
       "      <th>CATEGORY_NAME3</th>\n",
       "      <th>STARTDATE</th>\n",
       "      <th>ENDDATE</th>\n",
       "      <th>GENDER</th>\n",
       "    </tr>\n",
       "  </thead>\n",
       "  <tbody>\n",
       "    <tr>\n",
       "      <th>0</th>\n",
       "      <td>11738.0</td>\n",
       "      <td>5863.0</td>\n",
       "      <td>SPRITE 1 LT LIMON AROMALI GAZOZ</td>\n",
       "      <td>18456</td>\n",
       "      <td>2017-01-07</td>\n",
       "      <td>1.0</td>\n",
       "      <td>2.00</td>\n",
       "      <td>2.00</td>\n",
       "      <td>1.85</td>\n",
       "      <td>52.0</td>\n",
       "      <td>Kocaeli Subesi</td>\n",
       "      <td>Eyüp CİNE</td>\n",
       "      <td>Kocaeli</td>\n",
       "      <td>Marmara</td>\n",
       "      <td>40.8533</td>\n",
       "      <td>29.8815</td>\n",
       "      <td>467369</td>\n",
       "      <td>Sercan KIZILOK</td>\n",
       "      <td>156</td>\n",
       "      <td>SPRİTE</td>\n",
       "      <td>İÇECEK</td>\n",
       "      <td>GAZLI İÇECEK</td>\n",
       "      <td>GAZOZ</td>\n",
       "      <td>2017-01-08 16:16:11</td>\n",
       "      <td>2017-01-08 16:17:13</td>\n",
       "      <td>E</td>\n",
       "    </tr>\n",
       "    <tr>\n",
       "      <th>1</th>\n",
       "      <td>10537.0</td>\n",
       "      <td>8.0</td>\n",
       "      <td>TOZ SEKER</td>\n",
       "      <td>18105</td>\n",
       "      <td>2017-01-06</td>\n",
       "      <td>5.0</td>\n",
       "      <td>2.65</td>\n",
       "      <td>13.25</td>\n",
       "      <td>12.27</td>\n",
       "      <td>8.0</td>\n",
       "      <td>Antalya Subesi</td>\n",
       "      <td>İlhan ÖRENLİ</td>\n",
       "      <td>Antalya</td>\n",
       "      <td>Akdeniz</td>\n",
       "      <td>36.8841</td>\n",
       "      <td>30.7056</td>\n",
       "      <td>131464</td>\n",
       "      <td>İsmet ŞINGIR</td>\n",
       "      <td>NaN</td>\n",
       "      <td>NaN</td>\n",
       "      <td>İÇECEK</td>\n",
       "      <td>ÇAY KAHVE</td>\n",
       "      <td>SEKER TATLANDIRICI</td>\n",
       "      <td>2017-01-07 11:04:34</td>\n",
       "      <td>2017-01-07 11:05:37</td>\n",
       "      <td>E</td>\n",
       "    </tr>\n",
       "    <tr>\n",
       "      <th>2</th>\n",
       "      <td>11335.0</td>\n",
       "      <td>5979.0</td>\n",
       "      <td>FALIM SAKIZ 5LI NANE</td>\n",
       "      <td>18350</td>\n",
       "      <td>2017-01-03</td>\n",
       "      <td>1.0</td>\n",
       "      <td>0.40</td>\n",
       "      <td>0.40</td>\n",
       "      <td>0.37</td>\n",
       "      <td>40.0</td>\n",
       "      <td>İstanbul Subesi</td>\n",
       "      <td>İsmet SARTIK</td>\n",
       "      <td>İstanbul</td>\n",
       "      <td>Marmara</td>\n",
       "      <td>41.0053</td>\n",
       "      <td>28.9770</td>\n",
       "      <td>656969</td>\n",
       "      <td>Yağız KUBAL</td>\n",
       "      <td>300</td>\n",
       "      <td>FALIM</td>\n",
       "      <td>GIDA</td>\n",
       "      <td>SAKIZ SEKERLEME</td>\n",
       "      <td>SAKIZ</td>\n",
       "      <td>2017-01-04 14:00:03</td>\n",
       "      <td>2017-01-04 14:01:01</td>\n",
       "      <td>E</td>\n",
       "    </tr>\n",
       "    <tr>\n",
       "      <th>3</th>\n",
       "      <td>11336.0</td>\n",
       "      <td>5979.0</td>\n",
       "      <td>FALIM SAKIZ 5LI NANE</td>\n",
       "      <td>18350</td>\n",
       "      <td>2017-01-03</td>\n",
       "      <td>1.0</td>\n",
       "      <td>0.40</td>\n",
       "      <td>0.40</td>\n",
       "      <td>0.37</td>\n",
       "      <td>40.0</td>\n",
       "      <td>İstanbul Subesi</td>\n",
       "      <td>İsmet SARTIK</td>\n",
       "      <td>İstanbul</td>\n",
       "      <td>Marmara</td>\n",
       "      <td>41.0053</td>\n",
       "      <td>28.9770</td>\n",
       "      <td>656969</td>\n",
       "      <td>Yağız KUBAL</td>\n",
       "      <td>300</td>\n",
       "      <td>FALIM</td>\n",
       "      <td>GIDA</td>\n",
       "      <td>SAKIZ SEKERLEME</td>\n",
       "      <td>SAKIZ</td>\n",
       "      <td>2017-01-04 14:00:03</td>\n",
       "      <td>2017-01-04 14:01:01</td>\n",
       "      <td>E</td>\n",
       "    </tr>\n",
       "    <tr>\n",
       "      <th>4</th>\n",
       "      <td>10115.0</td>\n",
       "      <td>12808.0</td>\n",
       "      <td>FALIM SAKIZ 5LI CILEK</td>\n",
       "      <td>18005</td>\n",
       "      <td>2017-01-05</td>\n",
       "      <td>1.0</td>\n",
       "      <td>0.40</td>\n",
       "      <td>0.40</td>\n",
       "      <td>0.37</td>\n",
       "      <td>41.0</td>\n",
       "      <td>İzmir Subesi</td>\n",
       "      <td>Gülten IŞLAK</td>\n",
       "      <td>İzmir</td>\n",
       "      <td>Ege</td>\n",
       "      <td>38.4189</td>\n",
       "      <td>27.1287</td>\n",
       "      <td>447336</td>\n",
       "      <td>Habibe AYSAN</td>\n",
       "      <td>300</td>\n",
       "      <td>FALIM</td>\n",
       "      <td>GIDA</td>\n",
       "      <td>SAKIZ SEKERLEME</td>\n",
       "      <td>SAKIZ</td>\n",
       "      <td>2017-01-06 14:00:30</td>\n",
       "      <td>2017-01-06 14:01:03</td>\n",
       "      <td>K</td>\n",
       "    </tr>\n",
       "  </tbody>\n",
       "</table>\n",
       "</div>"
      ],
      "text/plain": [
       "        ID  ITEMCODE                         ITEMNAME  FICHENO      DATE_  \\\n",
       "0  11738.0    5863.0  SPRITE 1 LT LIMON AROMALI GAZOZ    18456 2017-01-07   \n",
       "1  10537.0       8.0                        TOZ SEKER    18105 2017-01-06   \n",
       "2  11335.0    5979.0             FALIM SAKIZ 5LI NANE    18350 2017-01-03   \n",
       "3  11336.0    5979.0             FALIM SAKIZ 5LI NANE    18350 2017-01-03   \n",
       "4  10115.0   12808.0            FALIM SAKIZ 5LI CILEK    18005 2017-01-05   \n",
       "\n",
       "   AMOUNT  PRICE  LINENETTOTAL  LINENET  BRANCHNR           BRANCH  \\\n",
       "0     1.0   2.00          2.00     1.85      52.0   Kocaeli Subesi   \n",
       "1     5.0   2.65         13.25    12.27       8.0   Antalya Subesi   \n",
       "2     1.0   0.40          0.40     0.37      40.0  İstanbul Subesi   \n",
       "3     1.0   0.40          0.40     0.37      40.0  İstanbul Subesi   \n",
       "4     1.0   0.40          0.40     0.37      41.0     İzmir Subesi   \n",
       "\n",
       "       SALESMAN      CITY   REGION  LATITUDE  LONGITUDE CLIENTCODE  \\\n",
       "0     Eyüp CİNE   Kocaeli  Marmara   40.8533    29.8815     467369   \n",
       "1  İlhan ÖRENLİ   Antalya  Akdeniz   36.8841    30.7056     131464   \n",
       "2  İsmet SARTIK  İstanbul  Marmara   41.0053    28.9770     656969   \n",
       "3  İsmet SARTIK  İstanbul  Marmara   41.0053    28.9770     656969   \n",
       "4  Gülten IŞLAK     İzmir      Ege   38.4189    27.1287     447336   \n",
       "\n",
       "       CLIENTNAME BRANDCODE   BRAND CATEGORY_NAME1   CATEGORY_NAME2  \\\n",
       "0  Sercan KIZILOK       156  SPRİTE         İÇECEK     GAZLI İÇECEK   \n",
       "1    İsmet ŞINGIR       NaN     NaN         İÇECEK        ÇAY KAHVE   \n",
       "2     Yağız KUBAL       300   FALIM           GIDA  SAKIZ SEKERLEME   \n",
       "3     Yağız KUBAL       300   FALIM           GIDA  SAKIZ SEKERLEME   \n",
       "4    Habibe AYSAN       300   FALIM           GIDA  SAKIZ SEKERLEME   \n",
       "\n",
       "       CATEGORY_NAME3           STARTDATE             ENDDATE GENDER  \n",
       "0               GAZOZ 2017-01-08 16:16:11 2017-01-08 16:17:13      E  \n",
       "1  SEKER TATLANDIRICI 2017-01-07 11:04:34 2017-01-07 11:05:37      E  \n",
       "2               SAKIZ 2017-01-04 14:00:03 2017-01-04 14:01:01      E  \n",
       "3               SAKIZ 2017-01-04 14:00:03 2017-01-04 14:01:01      E  \n",
       "4               SAKIZ 2017-01-06 14:00:30 2017-01-06 14:01:03      K  "
      ]
     },
     "execution_count": 13,
     "metadata": {},
     "output_type": "execute_result"
    }
   ],
   "source": [
    "df.head()"
   ]
  },
  {
   "cell_type": "markdown",
   "metadata": {},
   "source": [
    "### 14-Verisetinin son 7 Satırını Yazdıralım"
   ]
  },
  {
   "cell_type": "code",
   "execution_count": 14,
   "metadata": {
    "collapsed": true,
    "jupyter": {
     "outputs_hidden": true
    }
   },
   "outputs": [
    {
     "data": {
      "text/html": [
       "<div>\n",
       "<style scoped>\n",
       "    .dataframe tbody tr th:only-of-type {\n",
       "        vertical-align: middle;\n",
       "    }\n",
       "\n",
       "    .dataframe tbody tr th {\n",
       "        vertical-align: top;\n",
       "    }\n",
       "\n",
       "    .dataframe thead th {\n",
       "        text-align: right;\n",
       "    }\n",
       "</style>\n",
       "<table border=\"1\" class=\"dataframe\">\n",
       "  <thead>\n",
       "    <tr style=\"text-align: right;\">\n",
       "      <th></th>\n",
       "      <th>ID</th>\n",
       "      <th>ITEMCODE</th>\n",
       "      <th>ITEMNAME</th>\n",
       "      <th>FICHENO</th>\n",
       "      <th>DATE_</th>\n",
       "      <th>AMOUNT</th>\n",
       "      <th>PRICE</th>\n",
       "      <th>LINENETTOTAL</th>\n",
       "      <th>LINENET</th>\n",
       "      <th>BRANCHNR</th>\n",
       "      <th>BRANCH</th>\n",
       "      <th>SALESMAN</th>\n",
       "      <th>CITY</th>\n",
       "      <th>REGION</th>\n",
       "      <th>LATITUDE</th>\n",
       "      <th>LONGITUDE</th>\n",
       "      <th>CLIENTCODE</th>\n",
       "      <th>CLIENTNAME</th>\n",
       "      <th>BRANDCODE</th>\n",
       "      <th>BRAND</th>\n",
       "      <th>CATEGORY_NAME1</th>\n",
       "      <th>CATEGORY_NAME2</th>\n",
       "      <th>CATEGORY_NAME3</th>\n",
       "      <th>STARTDATE</th>\n",
       "      <th>ENDDATE</th>\n",
       "      <th>GENDER</th>\n",
       "    </tr>\n",
       "  </thead>\n",
       "  <tbody>\n",
       "    <tr>\n",
       "      <th>611101</th>\n",
       "      <td>511342.0</td>\n",
       "      <td>6480.0</td>\n",
       "      <td>UNO KEPEKLI EKMEK 470GR.</td>\n",
       "      <td>134601</td>\n",
       "      <td>2017-03-18</td>\n",
       "      <td>1.0</td>\n",
       "      <td>3.25</td>\n",
       "      <td>3.25</td>\n",
       "      <td>3.22</td>\n",
       "      <td>73.0</td>\n",
       "      <td>Tekirdağ Subesi</td>\n",
       "      <td>Aleyna ÇUKUREL</td>\n",
       "      <td>Tekirdağ</td>\n",
       "      <td>Marmara</td>\n",
       "      <td>40.9833</td>\n",
       "      <td>27.5167</td>\n",
       "      <td>16670</td>\n",
       "      <td>Berat ÖGMEN</td>\n",
       "      <td>145</td>\n",
       "      <td>UNO</td>\n",
       "      <td>GIDA</td>\n",
       "      <td>UNLU MAMÜLLER</td>\n",
       "      <td>EKMEK</td>\n",
       "      <td>2017-03-19 18:54:51</td>\n",
       "      <td>2017-03-19 18:54:58</td>\n",
       "      <td>E</td>\n",
       "    </tr>\n",
       "    <tr>\n",
       "      <th>611102</th>\n",
       "      <td>512198.0</td>\n",
       "      <td>7.0</td>\n",
       "      <td>EKMEK 250 GR</td>\n",
       "      <td>134742</td>\n",
       "      <td>2017-03-18</td>\n",
       "      <td>1.0</td>\n",
       "      <td>0.90</td>\n",
       "      <td>0.90</td>\n",
       "      <td>0.89</td>\n",
       "      <td>40.0</td>\n",
       "      <td>İstanbul Subesi</td>\n",
       "      <td>İsmet SARTIK</td>\n",
       "      <td>İstanbul</td>\n",
       "      <td>Marmara</td>\n",
       "      <td>41.0053</td>\n",
       "      <td>28.9770</td>\n",
       "      <td>523722</td>\n",
       "      <td>Özcan PAPİR</td>\n",
       "      <td>NaN</td>\n",
       "      <td>NaN</td>\n",
       "      <td>GIDA</td>\n",
       "      <td>UNLU MAMÜLLER</td>\n",
       "      <td>EKMEK</td>\n",
       "      <td>2017-03-19 16:09:39</td>\n",
       "      <td>2017-03-19 16:11:10</td>\n",
       "      <td>E</td>\n",
       "    </tr>\n",
       "    <tr>\n",
       "      <th>611103</th>\n",
       "      <td>511703.0</td>\n",
       "      <td>7.0</td>\n",
       "      <td>EKMEK 250 GR</td>\n",
       "      <td>134656</td>\n",
       "      <td>2017-03-18</td>\n",
       "      <td>1.0</td>\n",
       "      <td>0.90</td>\n",
       "      <td>0.90</td>\n",
       "      <td>0.89</td>\n",
       "      <td>66.0</td>\n",
       "      <td>Sakarya Subesi</td>\n",
       "      <td>Beren BULGURCU</td>\n",
       "      <td>Sakarya</td>\n",
       "      <td>Marmara</td>\n",
       "      <td>40.6940</td>\n",
       "      <td>30.4358</td>\n",
       "      <td>374191</td>\n",
       "      <td>Mahmut BAYATGİL</td>\n",
       "      <td>NaN</td>\n",
       "      <td>NaN</td>\n",
       "      <td>GIDA</td>\n",
       "      <td>UNLU MAMÜLLER</td>\n",
       "      <td>EKMEK</td>\n",
       "      <td>2017-03-19 09:39:54</td>\n",
       "      <td>2017-03-19 09:40:50</td>\n",
       "      <td>E</td>\n",
       "    </tr>\n",
       "    <tr>\n",
       "      <th>611104</th>\n",
       "      <td>511496.0</td>\n",
       "      <td>7.0</td>\n",
       "      <td>EKMEK 250 GR</td>\n",
       "      <td>134630</td>\n",
       "      <td>2017-03-18</td>\n",
       "      <td>1.0</td>\n",
       "      <td>0.90</td>\n",
       "      <td>0.90</td>\n",
       "      <td>0.89</td>\n",
       "      <td>7.0</td>\n",
       "      <td>Ankara Subesi</td>\n",
       "      <td>Eda SINAV</td>\n",
       "      <td>Ankara</td>\n",
       "      <td>İç Anadolu</td>\n",
       "      <td>39.9208</td>\n",
       "      <td>32.8541</td>\n",
       "      <td>656248</td>\n",
       "      <td>Gamze BOTUÇ</td>\n",
       "      <td>NaN</td>\n",
       "      <td>NaN</td>\n",
       "      <td>GIDA</td>\n",
       "      <td>UNLU MAMÜLLER</td>\n",
       "      <td>EKMEK</td>\n",
       "      <td>2017-03-19 20:30:58</td>\n",
       "      <td>2017-03-19 20:31:17</td>\n",
       "      <td>K</td>\n",
       "    </tr>\n",
       "    <tr>\n",
       "      <th>611105</th>\n",
       "      <td>492612.0</td>\n",
       "      <td>7.0</td>\n",
       "      <td>EKMEK 250 GR</td>\n",
       "      <td>130100</td>\n",
       "      <td>2017-03-15</td>\n",
       "      <td>1.0</td>\n",
       "      <td>0.90</td>\n",
       "      <td>0.90</td>\n",
       "      <td>0.89</td>\n",
       "      <td>59.0</td>\n",
       "      <td>Muğla Subesi</td>\n",
       "      <td>Nisa nur SAĞIM</td>\n",
       "      <td>Muğla</td>\n",
       "      <td>Ege</td>\n",
       "      <td>37.2153</td>\n",
       "      <td>28.3636</td>\n",
       "      <td>78643</td>\n",
       "      <td>Cengiz BEREKETÇİ</td>\n",
       "      <td>NaN</td>\n",
       "      <td>NaN</td>\n",
       "      <td>GIDA</td>\n",
       "      <td>UNLU MAMÜLLER</td>\n",
       "      <td>EKMEK</td>\n",
       "      <td>2017-03-16 17:51:04</td>\n",
       "      <td>2017-03-16 17:51:18</td>\n",
       "      <td>E</td>\n",
       "    </tr>\n",
       "    <tr>\n",
       "      <th>611106</th>\n",
       "      <td>512343.0</td>\n",
       "      <td>7.0</td>\n",
       "      <td>EKMEK 250 GR</td>\n",
       "      <td>134762</td>\n",
       "      <td>2017-03-18</td>\n",
       "      <td>1.0</td>\n",
       "      <td>0.90</td>\n",
       "      <td>0.90</td>\n",
       "      <td>0.88</td>\n",
       "      <td>40.0</td>\n",
       "      <td>İstanbul Subesi</td>\n",
       "      <td>Arife DORAP</td>\n",
       "      <td>İstanbul</td>\n",
       "      <td>Marmara</td>\n",
       "      <td>41.0053</td>\n",
       "      <td>28.9770</td>\n",
       "      <td>926041</td>\n",
       "      <td>Elifnur EGİNKAYA</td>\n",
       "      <td>NaN</td>\n",
       "      <td>NaN</td>\n",
       "      <td>GIDA</td>\n",
       "      <td>UNLU MAMÜLLER</td>\n",
       "      <td>EKMEK</td>\n",
       "      <td>2017-03-19 17:00:12</td>\n",
       "      <td>2017-03-19 17:01:20</td>\n",
       "      <td>K</td>\n",
       "    </tr>\n",
       "    <tr>\n",
       "      <th>611107</th>\n",
       "      <td>512179.0</td>\n",
       "      <td>3942.0</td>\n",
       "      <td>ETI 80 GR KARAM BITTER</td>\n",
       "      <td>134738</td>\n",
       "      <td>2017-03-18</td>\n",
       "      <td>1.0</td>\n",
       "      <td>1.90</td>\n",
       "      <td>1.90</td>\n",
       "      <td>1.76</td>\n",
       "      <td>74.0</td>\n",
       "      <td>Tokat Subesi</td>\n",
       "      <td>Lütfiye DÖŞEME</td>\n",
       "      <td>Tokat</td>\n",
       "      <td>Karadeniz</td>\n",
       "      <td>40.3167</td>\n",
       "      <td>36.5500</td>\n",
       "      <td>241748</td>\n",
       "      <td>Hacer CANDEMİR</td>\n",
       "      <td>44</td>\n",
       "      <td>ETİ</td>\n",
       "      <td>GIDA</td>\n",
       "      <td>BÜSKİVİ ÇEREZ</td>\n",
       "      <td>BÜSKİVİ</td>\n",
       "      <td>2017-03-19 16:00:15</td>\n",
       "      <td>2017-03-19 16:00:37</td>\n",
       "      <td>K</td>\n",
       "    </tr>\n",
       "  </tbody>\n",
       "</table>\n",
       "</div>"
      ],
      "text/plain": [
       "              ID  ITEMCODE                  ITEMNAME  FICHENO      DATE_  \\\n",
       "611101  511342.0    6480.0  UNO KEPEKLI EKMEK 470GR.   134601 2017-03-18   \n",
       "611102  512198.0       7.0              EKMEK 250 GR   134742 2017-03-18   \n",
       "611103  511703.0       7.0              EKMEK 250 GR   134656 2017-03-18   \n",
       "611104  511496.0       7.0              EKMEK 250 GR   134630 2017-03-18   \n",
       "611105  492612.0       7.0              EKMEK 250 GR   130100 2017-03-15   \n",
       "611106  512343.0       7.0              EKMEK 250 GR   134762 2017-03-18   \n",
       "611107  512179.0    3942.0    ETI 80 GR KARAM BITTER   134738 2017-03-18   \n",
       "\n",
       "        AMOUNT  PRICE  LINENETTOTAL  LINENET  BRANCHNR           BRANCH  \\\n",
       "611101     1.0   3.25          3.25     3.22      73.0  Tekirdağ Subesi   \n",
       "611102     1.0   0.90          0.90     0.89      40.0  İstanbul Subesi   \n",
       "611103     1.0   0.90          0.90     0.89      66.0   Sakarya Subesi   \n",
       "611104     1.0   0.90          0.90     0.89       7.0    Ankara Subesi   \n",
       "611105     1.0   0.90          0.90     0.89      59.0     Muğla Subesi   \n",
       "611106     1.0   0.90          0.90     0.88      40.0  İstanbul Subesi   \n",
       "611107     1.0   1.90          1.90     1.76      74.0     Tokat Subesi   \n",
       "\n",
       "              SALESMAN      CITY      REGION  LATITUDE  LONGITUDE CLIENTCODE  \\\n",
       "611101  Aleyna ÇUKUREL  Tekirdağ     Marmara   40.9833    27.5167      16670   \n",
       "611102    İsmet SARTIK  İstanbul     Marmara   41.0053    28.9770     523722   \n",
       "611103  Beren BULGURCU   Sakarya     Marmara   40.6940    30.4358     374191   \n",
       "611104       Eda SINAV    Ankara  İç Anadolu   39.9208    32.8541     656248   \n",
       "611105  Nisa nur SAĞIM     Muğla         Ege   37.2153    28.3636      78643   \n",
       "611106     Arife DORAP  İstanbul     Marmara   41.0053    28.9770     926041   \n",
       "611107  Lütfiye DÖŞEME     Tokat   Karadeniz   40.3167    36.5500     241748   \n",
       "\n",
       "              CLIENTNAME BRANDCODE BRAND CATEGORY_NAME1 CATEGORY_NAME2  \\\n",
       "611101       Berat ÖGMEN       145   UNO           GIDA  UNLU MAMÜLLER   \n",
       "611102       Özcan PAPİR       NaN   NaN           GIDA  UNLU MAMÜLLER   \n",
       "611103   Mahmut BAYATGİL       NaN   NaN           GIDA  UNLU MAMÜLLER   \n",
       "611104       Gamze BOTUÇ       NaN   NaN           GIDA  UNLU MAMÜLLER   \n",
       "611105  Cengiz BEREKETÇİ       NaN   NaN           GIDA  UNLU MAMÜLLER   \n",
       "611106  Elifnur EGİNKAYA       NaN   NaN           GIDA  UNLU MAMÜLLER   \n",
       "611107    Hacer CANDEMİR        44   ETİ           GIDA  BÜSKİVİ ÇEREZ   \n",
       "\n",
       "       CATEGORY_NAME3           STARTDATE             ENDDATE GENDER  \n",
       "611101          EKMEK 2017-03-19 18:54:51 2017-03-19 18:54:58      E  \n",
       "611102          EKMEK 2017-03-19 16:09:39 2017-03-19 16:11:10      E  \n",
       "611103          EKMEK 2017-03-19 09:39:54 2017-03-19 09:40:50      E  \n",
       "611104          EKMEK 2017-03-19 20:30:58 2017-03-19 20:31:17      K  \n",
       "611105          EKMEK 2017-03-16 17:51:04 2017-03-16 17:51:18      E  \n",
       "611106          EKMEK 2017-03-19 17:00:12 2017-03-19 17:01:20      K  \n",
       "611107        BÜSKİVİ 2017-03-19 16:00:15 2017-03-19 16:00:37      K  "
      ]
     },
     "execution_count": 14,
     "metadata": {},
     "output_type": "execute_result"
    }
   ],
   "source": [
    "df.tail(n=7)"
   ]
  },
  {
   "cell_type": "markdown",
   "metadata": {},
   "source": [
    "### 15- Verisetinde her satır için AMOUNT PRICE LINENETTOTAL sutunlarına ait bilgileri yazdıralım"
   ]
  },
  {
   "cell_type": "code",
   "execution_count": 16,
   "metadata": {
    "collapsed": true,
    "jupyter": {
     "outputs_hidden": true
    }
   },
   "outputs": [
    {
     "data": {
      "text/plain": [
       "0    1.0\n",
       "1    5.0\n",
       "2    1.0\n",
       "3    1.0\n",
       "4    1.0\n",
       "Name: AMOUNT, dtype: float64"
      ]
     },
     "execution_count": 16,
     "metadata": {},
     "output_type": "execute_result"
    }
   ],
   "source": [
    "df[\"AMOUNT\"].head()"
   ]
  },
  {
   "cell_type": "code",
   "execution_count": 17,
   "metadata": {
    "collapsed": true,
    "jupyter": {
     "outputs_hidden": true
    }
   },
   "outputs": [
    {
     "ename": "KeyError",
     "evalue": "('AMOUNT', 'PRICE')",
     "output_type": "error",
     "traceback": [
      "\u001b[1;31m---------------------------------------------------------------------------\u001b[0m",
      "\u001b[1;31mKeyError\u001b[0m                                  Traceback (most recent call last)",
      "\u001b[1;32mE:\\Anaconda3\\lib\\site-packages\\pandas\\core\\indexes\\base.py\u001b[0m in \u001b[0;36mget_loc\u001b[1;34m(self, key, method, tolerance)\u001b[0m\n\u001b[0;32m   2888\u001b[0m             \u001b[1;32mtry\u001b[0m\u001b[1;33m:\u001b[0m\u001b[1;33m\u001b[0m\u001b[1;33m\u001b[0m\u001b[0m\n\u001b[1;32m-> 2889\u001b[1;33m                 \u001b[1;32mreturn\u001b[0m \u001b[0mself\u001b[0m\u001b[1;33m.\u001b[0m\u001b[0m_engine\u001b[0m\u001b[1;33m.\u001b[0m\u001b[0mget_loc\u001b[0m\u001b[1;33m(\u001b[0m\u001b[0mcasted_key\u001b[0m\u001b[1;33m)\u001b[0m\u001b[1;33m\u001b[0m\u001b[1;33m\u001b[0m\u001b[0m\n\u001b[0m\u001b[0;32m   2890\u001b[0m             \u001b[1;32mexcept\u001b[0m \u001b[0mKeyError\u001b[0m \u001b[1;32mas\u001b[0m \u001b[0merr\u001b[0m\u001b[1;33m:\u001b[0m\u001b[1;33m\u001b[0m\u001b[1;33m\u001b[0m\u001b[0m\n",
      "\u001b[1;32mpandas\\_libs\\index.pyx\u001b[0m in \u001b[0;36mpandas._libs.index.IndexEngine.get_loc\u001b[1;34m()\u001b[0m\n",
      "\u001b[1;32mpandas\\_libs\\index.pyx\u001b[0m in \u001b[0;36mpandas._libs.index.IndexEngine.get_loc\u001b[1;34m()\u001b[0m\n",
      "\u001b[1;32mpandas\\_libs\\hashtable_class_helper.pxi\u001b[0m in \u001b[0;36mpandas._libs.hashtable.PyObjectHashTable.get_item\u001b[1;34m()\u001b[0m\n",
      "\u001b[1;32mpandas\\_libs\\hashtable_class_helper.pxi\u001b[0m in \u001b[0;36mpandas._libs.hashtable.PyObjectHashTable.get_item\u001b[1;34m()\u001b[0m\n",
      "\u001b[1;31mKeyError\u001b[0m: ('AMOUNT', 'PRICE')",
      "\nThe above exception was the direct cause of the following exception:\n",
      "\u001b[1;31mKeyError\u001b[0m                                  Traceback (most recent call last)",
      "\u001b[1;32m<ipython-input-17-6352e07777bb>\u001b[0m in \u001b[0;36m<module>\u001b[1;34m\u001b[0m\n\u001b[1;32m----> 1\u001b[1;33m \u001b[0mdf\u001b[0m\u001b[1;33m[\u001b[0m\u001b[1;34m\"AMOUNT\"\u001b[0m\u001b[1;33m,\u001b[0m\u001b[1;34m\"PRICE\"\u001b[0m\u001b[1;33m]\u001b[0m\u001b[1;33m\u001b[0m\u001b[1;33m\u001b[0m\u001b[0m\n\u001b[0m",
      "\u001b[1;32mE:\\Anaconda3\\lib\\site-packages\\pandas\\core\\frame.py\u001b[0m in \u001b[0;36m__getitem__\u001b[1;34m(self, key)\u001b[0m\n\u001b[0;32m   2900\u001b[0m             \u001b[1;32mif\u001b[0m \u001b[0mself\u001b[0m\u001b[1;33m.\u001b[0m\u001b[0mcolumns\u001b[0m\u001b[1;33m.\u001b[0m\u001b[0mnlevels\u001b[0m \u001b[1;33m>\u001b[0m \u001b[1;36m1\u001b[0m\u001b[1;33m:\u001b[0m\u001b[1;33m\u001b[0m\u001b[1;33m\u001b[0m\u001b[0m\n\u001b[0;32m   2901\u001b[0m                 \u001b[1;32mreturn\u001b[0m \u001b[0mself\u001b[0m\u001b[1;33m.\u001b[0m\u001b[0m_getitem_multilevel\u001b[0m\u001b[1;33m(\u001b[0m\u001b[0mkey\u001b[0m\u001b[1;33m)\u001b[0m\u001b[1;33m\u001b[0m\u001b[1;33m\u001b[0m\u001b[0m\n\u001b[1;32m-> 2902\u001b[1;33m             \u001b[0mindexer\u001b[0m \u001b[1;33m=\u001b[0m \u001b[0mself\u001b[0m\u001b[1;33m.\u001b[0m\u001b[0mcolumns\u001b[0m\u001b[1;33m.\u001b[0m\u001b[0mget_loc\u001b[0m\u001b[1;33m(\u001b[0m\u001b[0mkey\u001b[0m\u001b[1;33m)\u001b[0m\u001b[1;33m\u001b[0m\u001b[1;33m\u001b[0m\u001b[0m\n\u001b[0m\u001b[0;32m   2903\u001b[0m             \u001b[1;32mif\u001b[0m \u001b[0mis_integer\u001b[0m\u001b[1;33m(\u001b[0m\u001b[0mindexer\u001b[0m\u001b[1;33m)\u001b[0m\u001b[1;33m:\u001b[0m\u001b[1;33m\u001b[0m\u001b[1;33m\u001b[0m\u001b[0m\n\u001b[0;32m   2904\u001b[0m                 \u001b[0mindexer\u001b[0m \u001b[1;33m=\u001b[0m \u001b[1;33m[\u001b[0m\u001b[0mindexer\u001b[0m\u001b[1;33m]\u001b[0m\u001b[1;33m\u001b[0m\u001b[1;33m\u001b[0m\u001b[0m\n",
      "\u001b[1;32mE:\\Anaconda3\\lib\\site-packages\\pandas\\core\\indexes\\base.py\u001b[0m in \u001b[0;36mget_loc\u001b[1;34m(self, key, method, tolerance)\u001b[0m\n\u001b[0;32m   2889\u001b[0m                 \u001b[1;32mreturn\u001b[0m \u001b[0mself\u001b[0m\u001b[1;33m.\u001b[0m\u001b[0m_engine\u001b[0m\u001b[1;33m.\u001b[0m\u001b[0mget_loc\u001b[0m\u001b[1;33m(\u001b[0m\u001b[0mcasted_key\u001b[0m\u001b[1;33m)\u001b[0m\u001b[1;33m\u001b[0m\u001b[1;33m\u001b[0m\u001b[0m\n\u001b[0;32m   2890\u001b[0m             \u001b[1;32mexcept\u001b[0m \u001b[0mKeyError\u001b[0m \u001b[1;32mas\u001b[0m \u001b[0merr\u001b[0m\u001b[1;33m:\u001b[0m\u001b[1;33m\u001b[0m\u001b[1;33m\u001b[0m\u001b[0m\n\u001b[1;32m-> 2891\u001b[1;33m                 \u001b[1;32mraise\u001b[0m \u001b[0mKeyError\u001b[0m\u001b[1;33m(\u001b[0m\u001b[0mkey\u001b[0m\u001b[1;33m)\u001b[0m \u001b[1;32mfrom\u001b[0m \u001b[0merr\u001b[0m\u001b[1;33m\u001b[0m\u001b[1;33m\u001b[0m\u001b[0m\n\u001b[0m\u001b[0;32m   2892\u001b[0m \u001b[1;33m\u001b[0m\u001b[0m\n\u001b[0;32m   2893\u001b[0m         \u001b[1;32mif\u001b[0m \u001b[0mtolerance\u001b[0m \u001b[1;32mis\u001b[0m \u001b[1;32mnot\u001b[0m \u001b[1;32mNone\u001b[0m\u001b[1;33m:\u001b[0m\u001b[1;33m\u001b[0m\u001b[1;33m\u001b[0m\u001b[0m\n",
      "\u001b[1;31mKeyError\u001b[0m: ('AMOUNT', 'PRICE')"
     ]
    }
   ],
   "source": [
    "df[\"AMOUNT\",\"PRICE\"]"
   ]
  },
  {
   "cell_type": "code",
   "execution_count": 15,
   "metadata": {
    "collapsed": true,
    "jupyter": {
     "outputs_hidden": true
    }
   },
   "outputs": [
    {
     "data": {
      "text/html": [
       "<div>\n",
       "<style scoped>\n",
       "    .dataframe tbody tr th:only-of-type {\n",
       "        vertical-align: middle;\n",
       "    }\n",
       "\n",
       "    .dataframe tbody tr th {\n",
       "        vertical-align: top;\n",
       "    }\n",
       "\n",
       "    .dataframe thead th {\n",
       "        text-align: right;\n",
       "    }\n",
       "</style>\n",
       "<table border=\"1\" class=\"dataframe\">\n",
       "  <thead>\n",
       "    <tr style=\"text-align: right;\">\n",
       "      <th></th>\n",
       "      <th>AMOUNT</th>\n",
       "      <th>PRICE</th>\n",
       "      <th>LINENETTOTAL</th>\n",
       "    </tr>\n",
       "  </thead>\n",
       "  <tbody>\n",
       "    <tr>\n",
       "      <th>0</th>\n",
       "      <td>1.0</td>\n",
       "      <td>2.00</td>\n",
       "      <td>2.00</td>\n",
       "    </tr>\n",
       "    <tr>\n",
       "      <th>1</th>\n",
       "      <td>5.0</td>\n",
       "      <td>2.65</td>\n",
       "      <td>13.25</td>\n",
       "    </tr>\n",
       "    <tr>\n",
       "      <th>2</th>\n",
       "      <td>1.0</td>\n",
       "      <td>0.40</td>\n",
       "      <td>0.40</td>\n",
       "    </tr>\n",
       "    <tr>\n",
       "      <th>3</th>\n",
       "      <td>1.0</td>\n",
       "      <td>0.40</td>\n",
       "      <td>0.40</td>\n",
       "    </tr>\n",
       "    <tr>\n",
       "      <th>4</th>\n",
       "      <td>1.0</td>\n",
       "      <td>0.40</td>\n",
       "      <td>0.40</td>\n",
       "    </tr>\n",
       "  </tbody>\n",
       "</table>\n",
       "</div>"
      ],
      "text/plain": [
       "   AMOUNT  PRICE  LINENETTOTAL\n",
       "0     1.0   2.00          2.00\n",
       "1     5.0   2.65         13.25\n",
       "2     1.0   0.40          0.40\n",
       "3     1.0   0.40          0.40\n",
       "4     1.0   0.40          0.40"
      ]
     },
     "execution_count": 15,
     "metadata": {},
     "output_type": "execute_result"
    }
   ],
   "source": [
    "df[[\"AMOUNT\",\"PRICE\",\"LINENETTOTAL\"]].head()"
   ]
  },
  {
   "cell_type": "markdown",
   "metadata": {},
   "source": [
    "### 16- Verisetinde LINENETTOTAL sutunda 15 den büyük olan satırları yazdıralım"
   ]
  },
  {
   "cell_type": "code",
   "execution_count": 16,
   "metadata": {
    "collapsed": true,
    "jupyter": {
     "outputs_hidden": true
    }
   },
   "outputs": [
    {
     "data": {
      "text/html": [
       "<div>\n",
       "<style scoped>\n",
       "    .dataframe tbody tr th:only-of-type {\n",
       "        vertical-align: middle;\n",
       "    }\n",
       "\n",
       "    .dataframe tbody tr th {\n",
       "        vertical-align: top;\n",
       "    }\n",
       "\n",
       "    .dataframe thead th {\n",
       "        text-align: right;\n",
       "    }\n",
       "</style>\n",
       "<table border=\"1\" class=\"dataframe\">\n",
       "  <thead>\n",
       "    <tr style=\"text-align: right;\">\n",
       "      <th></th>\n",
       "      <th>ID</th>\n",
       "      <th>ITEMCODE</th>\n",
       "      <th>ITEMNAME</th>\n",
       "      <th>FICHENO</th>\n",
       "      <th>DATE_</th>\n",
       "      <th>AMOUNT</th>\n",
       "      <th>PRICE</th>\n",
       "      <th>LINENETTOTAL</th>\n",
       "      <th>LINENET</th>\n",
       "      <th>BRANCHNR</th>\n",
       "      <th>BRANCH</th>\n",
       "      <th>SALESMAN</th>\n",
       "      <th>CITY</th>\n",
       "      <th>REGION</th>\n",
       "      <th>LATITUDE</th>\n",
       "      <th>LONGITUDE</th>\n",
       "      <th>CLIENTCODE</th>\n",
       "      <th>CLIENTNAME</th>\n",
       "      <th>BRANDCODE</th>\n",
       "      <th>BRAND</th>\n",
       "      <th>CATEGORY_NAME1</th>\n",
       "      <th>CATEGORY_NAME2</th>\n",
       "      <th>CATEGORY_NAME3</th>\n",
       "      <th>STARTDATE</th>\n",
       "      <th>ENDDATE</th>\n",
       "      <th>GENDER</th>\n",
       "    </tr>\n",
       "  </thead>\n",
       "  <tbody>\n",
       "    <tr>\n",
       "      <th>62</th>\n",
       "      <td>9745.0</td>\n",
       "      <td>10429.0</td>\n",
       "      <td>YUDUM AYCICEK YAGI 5 LT TNK</td>\n",
       "      <td>17902</td>\n",
       "      <td>2017-01-06</td>\n",
       "      <td>1.0</td>\n",
       "      <td>20.49</td>\n",
       "      <td>20.49</td>\n",
       "      <td>18.97</td>\n",
       "      <td>12.0</td>\n",
       "      <td>Balıkesir Subesi</td>\n",
       "      <td>Sami KASIMOVA</td>\n",
       "      <td>Balıkesir</td>\n",
       "      <td>Ege</td>\n",
       "      <td>39.6484</td>\n",
       "      <td>27.8826</td>\n",
       "      <td>521495</td>\n",
       "      <td>Bilal PORSUK</td>\n",
       "      <td>152</td>\n",
       "      <td>YUDUM</td>\n",
       "      <td>GIDA</td>\n",
       "      <td>SIVI YAĞLAR</td>\n",
       "      <td>AYÇİÇEK</td>\n",
       "      <td>2017-01-07 14:28:00</td>\n",
       "      <td>2017-01-07 14:29:39</td>\n",
       "      <td>E</td>\n",
       "    </tr>\n",
       "    <tr>\n",
       "      <th>64</th>\n",
       "      <td>3322.0</td>\n",
       "      <td>19108.0</td>\n",
       "      <td>F NEFFIS AYCICEK YAGI 5 LT PET</td>\n",
       "      <td>16540</td>\n",
       "      <td>2017-01-05</td>\n",
       "      <td>1.0</td>\n",
       "      <td>17.90</td>\n",
       "      <td>17.90</td>\n",
       "      <td>16.57</td>\n",
       "      <td>39.0</td>\n",
       "      <td>Isparta Subesi</td>\n",
       "      <td>Elif nur GÜNLER</td>\n",
       "      <td>Isparta</td>\n",
       "      <td>Akdeniz</td>\n",
       "      <td>37.7648</td>\n",
       "      <td>30.5566</td>\n",
       "      <td>791614</td>\n",
       "      <td>Tayfun BATAK</td>\n",
       "      <td>49</td>\n",
       "      <td>F NEFFİS</td>\n",
       "      <td>GIDA</td>\n",
       "      <td>SIVI YAĞLAR</td>\n",
       "      <td>AYÇİÇEK</td>\n",
       "      <td>2017-01-06 20:08:26</td>\n",
       "      <td>2017-01-06 20:08:39</td>\n",
       "      <td>E</td>\n",
       "    </tr>\n",
       "    <tr>\n",
       "      <th>95</th>\n",
       "      <td>5317.0</td>\n",
       "      <td>6217.0</td>\n",
       "      <td>LD LODOS DENİZCİSİ SLİMS</td>\n",
       "      <td>16903</td>\n",
       "      <td>2017-01-05</td>\n",
       "      <td>10.0</td>\n",
       "      <td>5.00</td>\n",
       "      <td>50.00</td>\n",
       "      <td>50.00</td>\n",
       "      <td>70.0</td>\n",
       "      <td>Sivas Subesi</td>\n",
       "      <td>Hümeyra GEÇİCİ)</td>\n",
       "      <td>Sivas</td>\n",
       "      <td>İç Anadolu</td>\n",
       "      <td>39.7477</td>\n",
       "      <td>37.0179</td>\n",
       "      <td>1021217</td>\n",
       "      <td>Kezban GÖŞELİ</td>\n",
       "      <td>163</td>\n",
       "      <td>JTİ</td>\n",
       "      <td>SİGARA</td>\n",
       "      <td>NaN</td>\n",
       "      <td>NaN</td>\n",
       "      <td>2017-01-06 13:44:22</td>\n",
       "      <td>2017-01-06 13:44:45</td>\n",
       "      <td>K</td>\n",
       "    </tr>\n",
       "  </tbody>\n",
       "</table>\n",
       "</div>"
      ],
      "text/plain": [
       "        ID  ITEMCODE                        ITEMNAME  FICHENO      DATE_  \\\n",
       "62  9745.0   10429.0     YUDUM AYCICEK YAGI 5 LT TNK    17902 2017-01-06   \n",
       "64  3322.0   19108.0  F NEFFIS AYCICEK YAGI 5 LT PET    16540 2017-01-05   \n",
       "95  5317.0    6217.0        LD LODOS DENİZCİSİ SLİMS    16903 2017-01-05   \n",
       "\n",
       "    AMOUNT  PRICE  LINENETTOTAL  LINENET  BRANCHNR            BRANCH  \\\n",
       "62     1.0  20.49         20.49    18.97      12.0  Balıkesir Subesi   \n",
       "64     1.0  17.90         17.90    16.57      39.0    Isparta Subesi   \n",
       "95    10.0   5.00         50.00    50.00      70.0      Sivas Subesi   \n",
       "\n",
       "           SALESMAN       CITY      REGION  LATITUDE  LONGITUDE CLIENTCODE  \\\n",
       "62    Sami KASIMOVA  Balıkesir         Ege   39.6484    27.8826     521495   \n",
       "64  Elif nur GÜNLER    Isparta     Akdeniz   37.7648    30.5566     791614   \n",
       "95  Hümeyra GEÇİCİ)      Sivas  İç Anadolu   39.7477    37.0179    1021217   \n",
       "\n",
       "       CLIENTNAME BRANDCODE      BRAND CATEGORY_NAME1 CATEGORY_NAME2  \\\n",
       "62   Bilal PORSUK       152      YUDUM           GIDA    SIVI YAĞLAR   \n",
       "64   Tayfun BATAK        49   F NEFFİS           GIDA    SIVI YAĞLAR   \n",
       "95  Kezban GÖŞELİ       163        JTİ         SİGARA            NaN   \n",
       "\n",
       "   CATEGORY_NAME3           STARTDATE             ENDDATE GENDER  \n",
       "62        AYÇİÇEK 2017-01-07 14:28:00 2017-01-07 14:29:39      E  \n",
       "64        AYÇİÇEK 2017-01-06 20:08:26 2017-01-06 20:08:39      E  \n",
       "95            NaN 2017-01-06 13:44:22 2017-01-06 13:44:45      K  "
      ]
     },
     "execution_count": 16,
     "metadata": {},
     "output_type": "execute_result"
    }
   ],
   "source": [
    "df[df[\"LINENETTOTAL\"] > 15].head(3)"
   ]
  },
  {
   "cell_type": "markdown",
   "metadata": {},
   "source": [
    "### 17- Verisetinde BRANCH ı Balıkesir Subesi olan satırları bulalım "
   ]
  },
  {
   "cell_type": "code",
   "execution_count": 18,
   "metadata": {
    "collapsed": true,
    "jupyter": {
     "outputs_hidden": true
    }
   },
   "outputs": [
    {
     "data": {
      "text/plain": [
       "0     Kocaeli Subesi\n",
       "1     Antalya Subesi\n",
       "2    İstanbul Subesi\n",
       "3    İstanbul Subesi\n",
       "4       İzmir Subesi\n",
       "Name: BRANCH, dtype: object"
      ]
     },
     "execution_count": 18,
     "metadata": {},
     "output_type": "execute_result"
    }
   ],
   "source": [
    "df[\"BRANCH\"].head()"
   ]
  },
  {
   "cell_type": "code",
   "execution_count": 19,
   "metadata": {
    "collapsed": true,
    "jupyter": {
     "outputs_hidden": true
    }
   },
   "outputs": [
    {
     "data": {
      "text/plain": [
       "array(['Kocaeli Subesi', 'Antalya Subesi', 'İstanbul Subesi',\n",
       "       'İzmir Subesi', 'Elazığ Subesi', 'Malatya Subesi', 'Manisa Subesi',\n",
       "       'Muğla Subesi', 'Muş Subesi', 'Adana Subesi', 'Sakarya Subesi',\n",
       "       'Zonguldak Subesi', 'Balıkesir Subesi', 'Kırıkkale Subesi',\n",
       "       'Gaziantep Subesi', 'Osmaniye Subesi', 'Mersin Subesi',\n",
       "       'Kastamonu Subesi', 'Batman Subesi', 'Tekirdağ Subesi',\n",
       "       'Şanlıurfa Subesi', 'Niğde Subesi', 'Ankara Subesi',\n",
       "       'Eskişehir Subesi', 'Diyarbakır Subesi', 'Iğdır Subesi',\n",
       "       'Isparta Subesi', 'Bursa Subesi', 'Kahramanmaraş Subesi',\n",
       "       'Denizli Subesi', 'Mardin Subesi', 'Afyonkarahisar Subesi',\n",
       "       'Erzurum Subesi', 'Sivas Subesi', 'Hatay Subesi', 'Ordu Subesi',\n",
       "       'Şırnak Subesi', 'Uşak Subesi', 'Konya Subesi', 'Çorum Subesi',\n",
       "       'Samsun Subesi', 'Edirne Subesi', 'Çanakkale Subesi',\n",
       "       'Kayseri Subesi', 'Aydın Subesi', 'Bolu Subesi', 'Giresun Subesi',\n",
       "       'Tokat Subesi', 'Adıyaman Subesi', 'Kırşehir Subesi',\n",
       "       'Yozgat Subesi', 'Trabzon Subesi', 'Van Subesi', 'Ağrı Subesi',\n",
       "       'Kütahya Subesi', 'Kars Subesi', 'Gümüşhane Subesi',\n",
       "       'Sinop Subesi', 'Nevşehir Subesi', 'Karabük Subesi',\n",
       "       'Bayburt Subesi', 'Amasya Subesi', 'Siirt Subesi', 'Burdur Subesi',\n",
       "       'Aksaray Subesi', 'Rize Subesi', 'Artvin Subesi',\n",
       "       'Kırklareli Subesi', 'Hakkari Subesi', 'Düzce Subesi',\n",
       "       'Kilis Subesi', 'Bilecik Subesi', 'Erzincan Subesi',\n",
       "       'Çankırı Subesi', 'Bartın Subesi', 'Yalova Subesi',\n",
       "       'Bitlis Subesi', 'Karaman Subesi', 'Bingöl Subesi', nan,\n",
       "       'Ardahan Subesi', 'Tunceli Subesi'], dtype=object)"
      ]
     },
     "execution_count": 19,
     "metadata": {},
     "output_type": "execute_result"
    }
   ],
   "source": [
    "df[\"BRANCH\"].unique()"
   ]
  },
  {
   "cell_type": "code",
   "execution_count": 17,
   "metadata": {
    "collapsed": true,
    "jupyter": {
     "outputs_hidden": true
    }
   },
   "outputs": [
    {
     "data": {
      "text/html": [
       "<div>\n",
       "<style scoped>\n",
       "    .dataframe tbody tr th:only-of-type {\n",
       "        vertical-align: middle;\n",
       "    }\n",
       "\n",
       "    .dataframe tbody tr th {\n",
       "        vertical-align: top;\n",
       "    }\n",
       "\n",
       "    .dataframe thead th {\n",
       "        text-align: right;\n",
       "    }\n",
       "</style>\n",
       "<table border=\"1\" class=\"dataframe\">\n",
       "  <thead>\n",
       "    <tr style=\"text-align: right;\">\n",
       "      <th></th>\n",
       "      <th>ID</th>\n",
       "      <th>ITEMCODE</th>\n",
       "      <th>ITEMNAME</th>\n",
       "      <th>FICHENO</th>\n",
       "      <th>DATE_</th>\n",
       "      <th>AMOUNT</th>\n",
       "      <th>PRICE</th>\n",
       "      <th>LINENETTOTAL</th>\n",
       "      <th>LINENET</th>\n",
       "      <th>BRANCHNR</th>\n",
       "      <th>BRANCH</th>\n",
       "      <th>SALESMAN</th>\n",
       "      <th>CITY</th>\n",
       "      <th>REGION</th>\n",
       "      <th>LATITUDE</th>\n",
       "      <th>LONGITUDE</th>\n",
       "      <th>CLIENTCODE</th>\n",
       "      <th>CLIENTNAME</th>\n",
       "      <th>BRANDCODE</th>\n",
       "      <th>BRAND</th>\n",
       "      <th>CATEGORY_NAME1</th>\n",
       "      <th>CATEGORY_NAME2</th>\n",
       "      <th>CATEGORY_NAME3</th>\n",
       "      <th>STARTDATE</th>\n",
       "      <th>ENDDATE</th>\n",
       "      <th>GENDER</th>\n",
       "    </tr>\n",
       "  </thead>\n",
       "  <tbody>\n",
       "    <tr>\n",
       "      <th>15</th>\n",
       "      <td>9625.0</td>\n",
       "      <td>5780.0</td>\n",
       "      <td>SALKIM DOMATES</td>\n",
       "      <td>17865</td>\n",
       "      <td>2017-01-06</td>\n",
       "      <td>0.945</td>\n",
       "      <td>5.20</td>\n",
       "      <td>4.91</td>\n",
       "      <td>4.55</td>\n",
       "      <td>12.0</td>\n",
       "      <td>Balıkesir Subesi</td>\n",
       "      <td>Sami KASIMOVA</td>\n",
       "      <td>Balıkesir</td>\n",
       "      <td>Ege</td>\n",
       "      <td>39.6484</td>\n",
       "      <td>27.8826</td>\n",
       "      <td>74884</td>\n",
       "      <td>Miray KOÇOĞLU</td>\n",
       "      <td>A25</td>\n",
       "      <td>HAL</td>\n",
       "      <td>MEYVE SEBZE</td>\n",
       "      <td>SEBZE</td>\n",
       "      <td>NaN</td>\n",
       "      <td>2017-01-07 11:12:54</td>\n",
       "      <td>2017-01-07 11:13:35</td>\n",
       "      <td>K</td>\n",
       "    </tr>\n",
       "    <tr>\n",
       "      <th>16</th>\n",
       "      <td>9748.0</td>\n",
       "      <td>5715.0</td>\n",
       "      <td>PATATES</td>\n",
       "      <td>17902</td>\n",
       "      <td>2017-01-06</td>\n",
       "      <td>2.790</td>\n",
       "      <td>2.45</td>\n",
       "      <td>6.84</td>\n",
       "      <td>6.33</td>\n",
       "      <td>12.0</td>\n",
       "      <td>Balıkesir Subesi</td>\n",
       "      <td>Sami KASIMOVA</td>\n",
       "      <td>Balıkesir</td>\n",
       "      <td>Ege</td>\n",
       "      <td>39.6484</td>\n",
       "      <td>27.8826</td>\n",
       "      <td>521495</td>\n",
       "      <td>Bilal PORSUK</td>\n",
       "      <td>A25</td>\n",
       "      <td>HAL</td>\n",
       "      <td>MEYVE SEBZE</td>\n",
       "      <td>SEBZE</td>\n",
       "      <td>NaN</td>\n",
       "      <td>2017-01-07 14:28:00</td>\n",
       "      <td>2017-01-07 14:29:39</td>\n",
       "      <td>E</td>\n",
       "    </tr>\n",
       "    <tr>\n",
       "      <th>62</th>\n",
       "      <td>9745.0</td>\n",
       "      <td>10429.0</td>\n",
       "      <td>YUDUM AYCICEK YAGI 5 LT TNK</td>\n",
       "      <td>17902</td>\n",
       "      <td>2017-01-06</td>\n",
       "      <td>1.000</td>\n",
       "      <td>20.49</td>\n",
       "      <td>20.49</td>\n",
       "      <td>18.97</td>\n",
       "      <td>12.0</td>\n",
       "      <td>Balıkesir Subesi</td>\n",
       "      <td>Sami KASIMOVA</td>\n",
       "      <td>Balıkesir</td>\n",
       "      <td>Ege</td>\n",
       "      <td>39.6484</td>\n",
       "      <td>27.8826</td>\n",
       "      <td>521495</td>\n",
       "      <td>Bilal PORSUK</td>\n",
       "      <td>152</td>\n",
       "      <td>YUDUM</td>\n",
       "      <td>GIDA</td>\n",
       "      <td>SIVI YAĞLAR</td>\n",
       "      <td>AYÇİÇEK</td>\n",
       "      <td>2017-01-07 14:28:00</td>\n",
       "      <td>2017-01-07 14:29:39</td>\n",
       "      <td>E</td>\n",
       "    </tr>\n",
       "  </tbody>\n",
       "</table>\n",
       "</div>"
      ],
      "text/plain": [
       "        ID  ITEMCODE                     ITEMNAME  FICHENO      DATE_  AMOUNT  \\\n",
       "15  9625.0    5780.0               SALKIM DOMATES    17865 2017-01-06   0.945   \n",
       "16  9748.0    5715.0                      PATATES    17902 2017-01-06   2.790   \n",
       "62  9745.0   10429.0  YUDUM AYCICEK YAGI 5 LT TNK    17902 2017-01-06   1.000   \n",
       "\n",
       "    PRICE  LINENETTOTAL  LINENET  BRANCHNR            BRANCH       SALESMAN  \\\n",
       "15   5.20          4.91     4.55      12.0  Balıkesir Subesi  Sami KASIMOVA   \n",
       "16   2.45          6.84     6.33      12.0  Balıkesir Subesi  Sami KASIMOVA   \n",
       "62  20.49         20.49    18.97      12.0  Balıkesir Subesi  Sami KASIMOVA   \n",
       "\n",
       "         CITY REGION  LATITUDE  LONGITUDE CLIENTCODE     CLIENTNAME BRANDCODE  \\\n",
       "15  Balıkesir    Ege   39.6484    27.8826      74884  Miray KOÇOĞLU       A25   \n",
       "16  Balıkesir    Ege   39.6484    27.8826     521495   Bilal PORSUK       A25   \n",
       "62  Balıkesir    Ege   39.6484    27.8826     521495   Bilal PORSUK       152   \n",
       "\n",
       "    BRAND CATEGORY_NAME1 CATEGORY_NAME2 CATEGORY_NAME3           STARTDATE  \\\n",
       "15    HAL    MEYVE SEBZE          SEBZE            NaN 2017-01-07 11:12:54   \n",
       "16    HAL    MEYVE SEBZE          SEBZE            NaN 2017-01-07 14:28:00   \n",
       "62  YUDUM           GIDA    SIVI YAĞLAR        AYÇİÇEK 2017-01-07 14:28:00   \n",
       "\n",
       "               ENDDATE GENDER  \n",
       "15 2017-01-07 11:13:35      K  \n",
       "16 2017-01-07 14:29:39      E  \n",
       "62 2017-01-07 14:29:39      E  "
      ]
     },
     "execution_count": 17,
     "metadata": {},
     "output_type": "execute_result"
    }
   ],
   "source": [
    "df[df[\"BRANCH\"] == \"Balıkesir Subesi\"].head(3)"
   ]
  },
  {
   "cell_type": "markdown",
   "metadata": {},
   "source": [
    "### 18- Verisetinde Balıkesir Subesinde LINENETTOTAL i 2 den düsük olan satırları bulalım "
   ]
  },
  {
   "cell_type": "code",
   "execution_count": 20,
   "metadata": {
    "collapsed": true,
    "jupyter": {
     "outputs_hidden": true
    }
   },
   "outputs": [
    {
     "data": {
      "text/plain": [
       "0         False\n",
       "1         False\n",
       "2          True\n",
       "3          True\n",
       "4          True\n",
       "          ...  \n",
       "611103     True\n",
       "611104     True\n",
       "611105     True\n",
       "611106     True\n",
       "611107     True\n",
       "Name: LINENETTOTAL, Length: 611108, dtype: bool"
      ]
     },
     "execution_count": 20,
     "metadata": {},
     "output_type": "execute_result"
    }
   ],
   "source": [
    "df[\"LINENETTOTAL\"] < 2"
   ]
  },
  {
   "cell_type": "code",
   "execution_count": 22,
   "metadata": {
    "collapsed": true,
    "jupyter": {
     "outputs_hidden": true
    }
   },
   "outputs": [
    {
     "data": {
      "text/html": [
       "<div>\n",
       "<style scoped>\n",
       "    .dataframe tbody tr th:only-of-type {\n",
       "        vertical-align: middle;\n",
       "    }\n",
       "\n",
       "    .dataframe tbody tr th {\n",
       "        vertical-align: top;\n",
       "    }\n",
       "\n",
       "    .dataframe thead th {\n",
       "        text-align: right;\n",
       "    }\n",
       "</style>\n",
       "<table border=\"1\" class=\"dataframe\">\n",
       "  <thead>\n",
       "    <tr style=\"text-align: right;\">\n",
       "      <th></th>\n",
       "      <th>ID</th>\n",
       "      <th>ITEMCODE</th>\n",
       "      <th>ITEMNAME</th>\n",
       "      <th>FICHENO</th>\n",
       "      <th>DATE_</th>\n",
       "      <th>AMOUNT</th>\n",
       "      <th>PRICE</th>\n",
       "      <th>LINENETTOTAL</th>\n",
       "      <th>LINENET</th>\n",
       "      <th>BRANCHNR</th>\n",
       "      <th>BRANCH</th>\n",
       "      <th>SALESMAN</th>\n",
       "      <th>CITY</th>\n",
       "      <th>REGION</th>\n",
       "      <th>LATITUDE</th>\n",
       "      <th>LONGITUDE</th>\n",
       "      <th>CLIENTCODE</th>\n",
       "      <th>CLIENTNAME</th>\n",
       "      <th>BRANDCODE</th>\n",
       "      <th>BRAND</th>\n",
       "      <th>CATEGORY_NAME1</th>\n",
       "      <th>CATEGORY_NAME2</th>\n",
       "      <th>CATEGORY_NAME3</th>\n",
       "      <th>STARTDATE</th>\n",
       "      <th>ENDDATE</th>\n",
       "      <th>GENDER</th>\n",
       "    </tr>\n",
       "  </thead>\n",
       "  <tbody>\n",
       "    <tr>\n",
       "      <th>2</th>\n",
       "      <td>11335.0</td>\n",
       "      <td>5979.0</td>\n",
       "      <td>FALIM SAKIZ 5LI NANE</td>\n",
       "      <td>18350</td>\n",
       "      <td>2017-01-03</td>\n",
       "      <td>1.0</td>\n",
       "      <td>0.4</td>\n",
       "      <td>0.4</td>\n",
       "      <td>0.37</td>\n",
       "      <td>40.0</td>\n",
       "      <td>İstanbul Subesi</td>\n",
       "      <td>İsmet SARTIK</td>\n",
       "      <td>İstanbul</td>\n",
       "      <td>Marmara</td>\n",
       "      <td>41.0053</td>\n",
       "      <td>28.977</td>\n",
       "      <td>656969</td>\n",
       "      <td>Yağız KUBAL</td>\n",
       "      <td>300</td>\n",
       "      <td>FALIM</td>\n",
       "      <td>GIDA</td>\n",
       "      <td>SAKIZ SEKERLEME</td>\n",
       "      <td>SAKIZ</td>\n",
       "      <td>2017-01-04 14:00:03</td>\n",
       "      <td>2017-01-04 14:01:01</td>\n",
       "      <td>E</td>\n",
       "    </tr>\n",
       "  </tbody>\n",
       "</table>\n",
       "</div>"
      ],
      "text/plain": [
       "        ID  ITEMCODE              ITEMNAME  FICHENO      DATE_  AMOUNT  PRICE  \\\n",
       "2  11335.0    5979.0  FALIM SAKIZ 5LI NANE    18350 2017-01-03     1.0    0.4   \n",
       "\n",
       "   LINENETTOTAL  LINENET  BRANCHNR           BRANCH      SALESMAN      CITY  \\\n",
       "2           0.4     0.37      40.0  İstanbul Subesi  İsmet SARTIK  İstanbul   \n",
       "\n",
       "    REGION  LATITUDE  LONGITUDE CLIENTCODE   CLIENTNAME BRANDCODE  BRAND  \\\n",
       "2  Marmara   41.0053     28.977     656969  Yağız KUBAL       300  FALIM   \n",
       "\n",
       "  CATEGORY_NAME1   CATEGORY_NAME2 CATEGORY_NAME3           STARTDATE  \\\n",
       "2           GIDA  SAKIZ SEKERLEME          SAKIZ 2017-01-04 14:00:03   \n",
       "\n",
       "              ENDDATE GENDER  \n",
       "2 2017-01-04 14:01:01      E  "
      ]
     },
     "execution_count": 22,
     "metadata": {},
     "output_type": "execute_result"
    }
   ],
   "source": [
    "df[df[\"LINENETTOTAL\"] < 2].head(1)"
   ]
  },
  {
   "cell_type": "code",
   "execution_count": 23,
   "metadata": {
    "collapsed": true,
    "jupyter": {
     "outputs_hidden": true
    },
    "tags": []
   },
   "outputs": [
    {
     "data": {
      "text/plain": [
       "0         False\n",
       "1         False\n",
       "2         False\n",
       "3         False\n",
       "4         False\n",
       "          ...  \n",
       "611103    False\n",
       "611104    False\n",
       "611105    False\n",
       "611106    False\n",
       "611107    False\n",
       "Name: BRANCH, Length: 611108, dtype: bool"
      ]
     },
     "execution_count": 23,
     "metadata": {},
     "output_type": "execute_result"
    }
   ],
   "source": [
    "df[\"BRANCH\"] == \"Balıkesir Subesi\""
   ]
  },
  {
   "cell_type": "code",
   "execution_count": 24,
   "metadata": {
    "collapsed": true,
    "jupyter": {
     "outputs_hidden": true
    }
   },
   "outputs": [
    {
     "data": {
      "text/html": [
       "<div>\n",
       "<style scoped>\n",
       "    .dataframe tbody tr th:only-of-type {\n",
       "        vertical-align: middle;\n",
       "    }\n",
       "\n",
       "    .dataframe tbody tr th {\n",
       "        vertical-align: top;\n",
       "    }\n",
       "\n",
       "    .dataframe thead th {\n",
       "        text-align: right;\n",
       "    }\n",
       "</style>\n",
       "<table border=\"1\" class=\"dataframe\">\n",
       "  <thead>\n",
       "    <tr style=\"text-align: right;\">\n",
       "      <th></th>\n",
       "      <th>ID</th>\n",
       "      <th>ITEMCODE</th>\n",
       "      <th>ITEMNAME</th>\n",
       "      <th>FICHENO</th>\n",
       "      <th>DATE_</th>\n",
       "      <th>AMOUNT</th>\n",
       "      <th>PRICE</th>\n",
       "      <th>LINENETTOTAL</th>\n",
       "      <th>LINENET</th>\n",
       "      <th>BRANCHNR</th>\n",
       "      <th>BRANCH</th>\n",
       "      <th>SALESMAN</th>\n",
       "      <th>CITY</th>\n",
       "      <th>REGION</th>\n",
       "      <th>LATITUDE</th>\n",
       "      <th>LONGITUDE</th>\n",
       "      <th>CLIENTCODE</th>\n",
       "      <th>CLIENTNAME</th>\n",
       "      <th>BRANDCODE</th>\n",
       "      <th>BRAND</th>\n",
       "      <th>CATEGORY_NAME1</th>\n",
       "      <th>CATEGORY_NAME2</th>\n",
       "      <th>CATEGORY_NAME3</th>\n",
       "      <th>STARTDATE</th>\n",
       "      <th>ENDDATE</th>\n",
       "      <th>GENDER</th>\n",
       "    </tr>\n",
       "  </thead>\n",
       "  <tbody>\n",
       "    <tr>\n",
       "      <th>15</th>\n",
       "      <td>9625.0</td>\n",
       "      <td>5780.0</td>\n",
       "      <td>SALKIM DOMATES</td>\n",
       "      <td>17865</td>\n",
       "      <td>2017-01-06</td>\n",
       "      <td>0.945</td>\n",
       "      <td>5.2</td>\n",
       "      <td>4.91</td>\n",
       "      <td>4.55</td>\n",
       "      <td>12.0</td>\n",
       "      <td>Balıkesir Subesi</td>\n",
       "      <td>Sami KASIMOVA</td>\n",
       "      <td>Balıkesir</td>\n",
       "      <td>Ege</td>\n",
       "      <td>39.6484</td>\n",
       "      <td>27.8826</td>\n",
       "      <td>74884</td>\n",
       "      <td>Miray KOÇOĞLU</td>\n",
       "      <td>A25</td>\n",
       "      <td>HAL</td>\n",
       "      <td>MEYVE SEBZE</td>\n",
       "      <td>SEBZE</td>\n",
       "      <td>NaN</td>\n",
       "      <td>2017-01-07 11:12:54</td>\n",
       "      <td>2017-01-07 11:13:35</td>\n",
       "      <td>K</td>\n",
       "    </tr>\n",
       "  </tbody>\n",
       "</table>\n",
       "</div>"
      ],
      "text/plain": [
       "        ID  ITEMCODE        ITEMNAME  FICHENO      DATE_  AMOUNT  PRICE  \\\n",
       "15  9625.0    5780.0  SALKIM DOMATES    17865 2017-01-06   0.945    5.2   \n",
       "\n",
       "    LINENETTOTAL  LINENET  BRANCHNR            BRANCH       SALESMAN  \\\n",
       "15          4.91     4.55      12.0  Balıkesir Subesi  Sami KASIMOVA   \n",
       "\n",
       "         CITY REGION  LATITUDE  LONGITUDE CLIENTCODE     CLIENTNAME BRANDCODE  \\\n",
       "15  Balıkesir    Ege   39.6484    27.8826      74884  Miray KOÇOĞLU       A25   \n",
       "\n",
       "   BRAND CATEGORY_NAME1 CATEGORY_NAME2 CATEGORY_NAME3           STARTDATE  \\\n",
       "15   HAL    MEYVE SEBZE          SEBZE            NaN 2017-01-07 11:12:54   \n",
       "\n",
       "               ENDDATE GENDER  \n",
       "15 2017-01-07 11:13:35      K  "
      ]
     },
     "execution_count": 24,
     "metadata": {},
     "output_type": "execute_result"
    }
   ],
   "source": [
    "df[df[\"BRANCH\"] == \"Balıkesir Subesi\"].head(1)"
   ]
  },
  {
   "cell_type": "code",
   "execution_count": 25,
   "metadata": {
    "collapsed": true,
    "jupyter": {
     "outputs_hidden": true
    }
   },
   "outputs": [
    {
     "data": {
      "text/html": [
       "<div>\n",
       "<style scoped>\n",
       "    .dataframe tbody tr th:only-of-type {\n",
       "        vertical-align: middle;\n",
       "    }\n",
       "\n",
       "    .dataframe tbody tr th {\n",
       "        vertical-align: top;\n",
       "    }\n",
       "\n",
       "    .dataframe thead th {\n",
       "        text-align: right;\n",
       "    }\n",
       "</style>\n",
       "<table border=\"1\" class=\"dataframe\">\n",
       "  <thead>\n",
       "    <tr style=\"text-align: right;\">\n",
       "      <th></th>\n",
       "      <th>ID</th>\n",
       "      <th>ITEMCODE</th>\n",
       "      <th>ITEMNAME</th>\n",
       "      <th>FICHENO</th>\n",
       "      <th>DATE_</th>\n",
       "      <th>AMOUNT</th>\n",
       "      <th>PRICE</th>\n",
       "      <th>LINENETTOTAL</th>\n",
       "      <th>LINENET</th>\n",
       "      <th>BRANCHNR</th>\n",
       "      <th>BRANCH</th>\n",
       "      <th>SALESMAN</th>\n",
       "      <th>CITY</th>\n",
       "      <th>REGION</th>\n",
       "      <th>LATITUDE</th>\n",
       "      <th>LONGITUDE</th>\n",
       "      <th>CLIENTCODE</th>\n",
       "      <th>CLIENTNAME</th>\n",
       "      <th>BRANDCODE</th>\n",
       "      <th>BRAND</th>\n",
       "      <th>CATEGORY_NAME1</th>\n",
       "      <th>CATEGORY_NAME2</th>\n",
       "      <th>CATEGORY_NAME3</th>\n",
       "      <th>STARTDATE</th>\n",
       "      <th>ENDDATE</th>\n",
       "      <th>GENDER</th>\n",
       "    </tr>\n",
       "  </thead>\n",
       "  <tbody>\n",
       "    <tr>\n",
       "      <th>188</th>\n",
       "      <td>9624.0</td>\n",
       "      <td>5737.0</td>\n",
       "      <td>PIRASA</td>\n",
       "      <td>17865</td>\n",
       "      <td>2017-01-06</td>\n",
       "      <td>1.1</td>\n",
       "      <td>1.6</td>\n",
       "      <td>1.76</td>\n",
       "      <td>1.63</td>\n",
       "      <td>12.0</td>\n",
       "      <td>Balıkesir Subesi</td>\n",
       "      <td>Sami KASIMOVA</td>\n",
       "      <td>Balıkesir</td>\n",
       "      <td>Ege</td>\n",
       "      <td>39.6484</td>\n",
       "      <td>27.8826</td>\n",
       "      <td>74884</td>\n",
       "      <td>Miray KOÇOĞLU</td>\n",
       "      <td>A25</td>\n",
       "      <td>HAL</td>\n",
       "      <td>MEYVE SEBZE</td>\n",
       "      <td>SEBZE</td>\n",
       "      <td>NaN</td>\n",
       "      <td>2017-01-07 11:12:54</td>\n",
       "      <td>2017-01-07 11:13:35</td>\n",
       "      <td>K</td>\n",
       "    </tr>\n",
       "  </tbody>\n",
       "</table>\n",
       "</div>"
      ],
      "text/plain": [
       "         ID  ITEMCODE ITEMNAME  FICHENO      DATE_  AMOUNT  PRICE  \\\n",
       "188  9624.0    5737.0   PIRASA    17865 2017-01-06     1.1    1.6   \n",
       "\n",
       "     LINENETTOTAL  LINENET  BRANCHNR            BRANCH       SALESMAN  \\\n",
       "188          1.76     1.63      12.0  Balıkesir Subesi  Sami KASIMOVA   \n",
       "\n",
       "          CITY REGION  LATITUDE  LONGITUDE CLIENTCODE     CLIENTNAME  \\\n",
       "188  Balıkesir    Ege   39.6484    27.8826      74884  Miray KOÇOĞLU   \n",
       "\n",
       "    BRANDCODE BRAND CATEGORY_NAME1 CATEGORY_NAME2 CATEGORY_NAME3  \\\n",
       "188       A25   HAL    MEYVE SEBZE          SEBZE            NaN   \n",
       "\n",
       "              STARTDATE             ENDDATE GENDER  \n",
       "188 2017-01-07 11:12:54 2017-01-07 11:13:35      K  "
      ]
     },
     "execution_count": 25,
     "metadata": {},
     "output_type": "execute_result"
    }
   ],
   "source": [
    "df[(df[\"LINENETTOTAL\"] < 2) & (df[\"BRANCH\"] == \"Balıkesir Subesi\")].head(1)"
   ]
  },
  {
   "cell_type": "markdown",
   "metadata": {},
   "source": [
    "### 19- Verisetindeki Sutunlardan ITEMNAME => URUN_ADI , ITEMCODE=> URUN_ID,BRANCH=>SUBE_ADI olarak değiştirin "
   ]
  },
  {
   "cell_type": "code",
   "execution_count": 35,
   "metadata": {},
   "outputs": [],
   "source": [
    "#### sutun isimlerini değiştirmek için kullanılan method rename\n",
    "df.rename(columns = {\"ITEMNAME\":\"URUN_ADI\",\n",
    "                    \"ITEMCODE\":\"URUN_ID\",\n",
    "                    \"BRANCH\" :\"SUBE_ADI\"},inplace = True)"
   ]
  },
  {
   "cell_type": "code",
   "execution_count": 26,
   "metadata": {
    "collapsed": true,
    "jupyter": {
     "outputs_hidden": true
    }
   },
   "outputs": [
    {
     "data": {
      "text/html": [
       "<div>\n",
       "<style scoped>\n",
       "    .dataframe tbody tr th:only-of-type {\n",
       "        vertical-align: middle;\n",
       "    }\n",
       "\n",
       "    .dataframe tbody tr th {\n",
       "        vertical-align: top;\n",
       "    }\n",
       "\n",
       "    .dataframe thead th {\n",
       "        text-align: right;\n",
       "    }\n",
       "</style>\n",
       "<table border=\"1\" class=\"dataframe\">\n",
       "  <thead>\n",
       "    <tr style=\"text-align: right;\">\n",
       "      <th></th>\n",
       "      <th>ID</th>\n",
       "      <th>ITEMCODE</th>\n",
       "      <th>ITEMNAME</th>\n",
       "      <th>FICHENO</th>\n",
       "      <th>DATE_</th>\n",
       "      <th>AMOUNT</th>\n",
       "      <th>PRICE</th>\n",
       "      <th>LINENETTOTAL</th>\n",
       "      <th>LINENET</th>\n",
       "      <th>BRANCHNR</th>\n",
       "      <th>BRANCH</th>\n",
       "      <th>SALESMAN</th>\n",
       "      <th>CITY</th>\n",
       "      <th>REGION</th>\n",
       "      <th>LATITUDE</th>\n",
       "      <th>LONGITUDE</th>\n",
       "      <th>CLIENTCODE</th>\n",
       "      <th>CLIENTNAME</th>\n",
       "      <th>BRANDCODE</th>\n",
       "      <th>BRAND</th>\n",
       "      <th>CATEGORY_NAME1</th>\n",
       "      <th>CATEGORY_NAME2</th>\n",
       "      <th>CATEGORY_NAME3</th>\n",
       "      <th>STARTDATE</th>\n",
       "      <th>ENDDATE</th>\n",
       "      <th>GENDER</th>\n",
       "    </tr>\n",
       "  </thead>\n",
       "  <tbody>\n",
       "    <tr>\n",
       "      <th>0</th>\n",
       "      <td>11738.0</td>\n",
       "      <td>5863.0</td>\n",
       "      <td>SPRITE 1 LT LIMON AROMALI GAZOZ</td>\n",
       "      <td>18456</td>\n",
       "      <td>2017-01-07</td>\n",
       "      <td>1.0</td>\n",
       "      <td>2.0</td>\n",
       "      <td>2.0</td>\n",
       "      <td>1.85</td>\n",
       "      <td>52.0</td>\n",
       "      <td>Kocaeli Subesi</td>\n",
       "      <td>Eyüp CİNE</td>\n",
       "      <td>Kocaeli</td>\n",
       "      <td>Marmara</td>\n",
       "      <td>40.8533</td>\n",
       "      <td>29.8815</td>\n",
       "      <td>467369</td>\n",
       "      <td>Sercan KIZILOK</td>\n",
       "      <td>156</td>\n",
       "      <td>SPRİTE</td>\n",
       "      <td>İÇECEK</td>\n",
       "      <td>GAZLI İÇECEK</td>\n",
       "      <td>GAZOZ</td>\n",
       "      <td>2017-01-08 16:16:11</td>\n",
       "      <td>2017-01-08 16:17:13</td>\n",
       "      <td>E</td>\n",
       "    </tr>\n",
       "  </tbody>\n",
       "</table>\n",
       "</div>"
      ],
      "text/plain": [
       "        ID  ITEMCODE                         ITEMNAME  FICHENO      DATE_  \\\n",
       "0  11738.0    5863.0  SPRITE 1 LT LIMON AROMALI GAZOZ    18456 2017-01-07   \n",
       "\n",
       "   AMOUNT  PRICE  LINENETTOTAL  LINENET  BRANCHNR          BRANCH   SALESMAN  \\\n",
       "0     1.0    2.0           2.0     1.85      52.0  Kocaeli Subesi  Eyüp CİNE   \n",
       "\n",
       "      CITY   REGION  LATITUDE  LONGITUDE CLIENTCODE      CLIENTNAME BRANDCODE  \\\n",
       "0  Kocaeli  Marmara   40.8533    29.8815     467369  Sercan KIZILOK       156   \n",
       "\n",
       "    BRAND CATEGORY_NAME1 CATEGORY_NAME2 CATEGORY_NAME3           STARTDATE  \\\n",
       "0  SPRİTE         İÇECEK   GAZLI İÇECEK          GAZOZ 2017-01-08 16:16:11   \n",
       "\n",
       "              ENDDATE GENDER  \n",
       "0 2017-01-08 16:17:13      E  "
      ]
     },
     "execution_count": 26,
     "metadata": {},
     "output_type": "execute_result"
    }
   ],
   "source": [
    "df.head(1)"
   ]
  },
  {
   "cell_type": "markdown",
   "metadata": {},
   "source": [
    "### 20- Verisetimizin 100-103 arasındaki satırlarının ID den LINENETTOTAL a kadar olan sutunlardaki değerlerini yazdırınız."
   ]
  },
  {
   "cell_type": "code",
   "execution_count": 30,
   "metadata": {},
   "outputs": [
    {
     "data": {
      "text/plain": [
       "662.0"
      ]
     },
     "execution_count": 30,
     "metadata": {},
     "output_type": "execute_result"
    }
   ],
   "source": [
    "df.loc[100,\"ID\"]"
   ]
  },
  {
   "cell_type": "code",
   "execution_count": 31,
   "metadata": {
    "collapsed": true,
    "jupyter": {
     "outputs_hidden": true
    }
   },
   "outputs": [
    {
     "data": {
      "text/plain": [
       "100     662.0\n",
       "101    5059.0\n",
       "102    9514.0\n",
       "103    9208.0\n",
       "Name: ID, dtype: float64"
      ]
     },
     "execution_count": 31,
     "metadata": {},
     "output_type": "execute_result"
    }
   ],
   "source": [
    "df.loc[100:103,\"ID\"]"
   ]
  },
  {
   "cell_type": "code",
   "execution_count": 32,
   "metadata": {
    "collapsed": true,
    "jupyter": {
     "outputs_hidden": true
    }
   },
   "outputs": [
    {
     "data": {
      "text/plain": [
       "ID                                                 662\n",
       "ITEMCODE                                         23467\n",
       "ITEMNAME        BURDAN 30 LU BUYUK BOY KAPAKLI YUMURTA\n",
       "FICHENO                                          15772\n",
       "DATE_                              2017-01-02 00:00:00\n",
       "AMOUNT                                               1\n",
       "PRICE                                             9.95\n",
       "LINENETTOTAL                                      9.95\n",
       "Name: 100, dtype: object"
      ]
     },
     "execution_count": 32,
     "metadata": {},
     "output_type": "execute_result"
    }
   ],
   "source": [
    "df.loc[100,\"ID\":\"LINENETTOTAL\"]"
   ]
  },
  {
   "cell_type": "code",
   "execution_count": 21,
   "metadata": {
    "collapsed": true,
    "jupyter": {
     "outputs_hidden": true
    }
   },
   "outputs": [
    {
     "data": {
      "text/html": [
       "<div>\n",
       "<style scoped>\n",
       "    .dataframe tbody tr th:only-of-type {\n",
       "        vertical-align: middle;\n",
       "    }\n",
       "\n",
       "    .dataframe tbody tr th {\n",
       "        vertical-align: top;\n",
       "    }\n",
       "\n",
       "    .dataframe thead th {\n",
       "        text-align: right;\n",
       "    }\n",
       "</style>\n",
       "<table border=\"1\" class=\"dataframe\">\n",
       "  <thead>\n",
       "    <tr style=\"text-align: right;\">\n",
       "      <th></th>\n",
       "      <th>ID</th>\n",
       "      <th>URUN_ID</th>\n",
       "      <th>URUN_ADI</th>\n",
       "      <th>FICHENO</th>\n",
       "      <th>DATE_</th>\n",
       "      <th>AMOUNT</th>\n",
       "      <th>PRICE</th>\n",
       "      <th>LINENETTOTAL</th>\n",
       "    </tr>\n",
       "  </thead>\n",
       "  <tbody>\n",
       "    <tr>\n",
       "      <th>100</th>\n",
       "      <td>662.0</td>\n",
       "      <td>23467.0</td>\n",
       "      <td>BURDAN 30 LU BUYUK BOY KAPAKLI YUMURTA</td>\n",
       "      <td>15772</td>\n",
       "      <td>2017-01-02</td>\n",
       "      <td>1.0</td>\n",
       "      <td>9.95</td>\n",
       "      <td>9.95</td>\n",
       "    </tr>\n",
       "    <tr>\n",
       "      <th>101</th>\n",
       "      <td>5059.0</td>\n",
       "      <td>446.0</td>\n",
       "      <td>ULKER COKOKREM 700GR.-1202-</td>\n",
       "      <td>16839</td>\n",
       "      <td>2017-01-05</td>\n",
       "      <td>1.0</td>\n",
       "      <td>8.25</td>\n",
       "      <td>8.25</td>\n",
       "    </tr>\n",
       "    <tr>\n",
       "      <th>102</th>\n",
       "      <td>9514.0</td>\n",
       "      <td>2660.0</td>\n",
       "      <td>NESTLE NESQUIK 500 GR %20 BEDAVA</td>\n",
       "      <td>17836</td>\n",
       "      <td>2017-01-06</td>\n",
       "      <td>1.0</td>\n",
       "      <td>5.90</td>\n",
       "      <td>5.90</td>\n",
       "    </tr>\n",
       "    <tr>\n",
       "      <th>103</th>\n",
       "      <td>9208.0</td>\n",
       "      <td>263.0</td>\n",
       "      <td>YAHYAOGLU 15 LI YUMURTA</td>\n",
       "      <td>17752</td>\n",
       "      <td>2017-01-06</td>\n",
       "      <td>1.0</td>\n",
       "      <td>4.85</td>\n",
       "      <td>4.85</td>\n",
       "    </tr>\n",
       "  </tbody>\n",
       "</table>\n",
       "</div>"
      ],
      "text/plain": [
       "         ID  URUN_ID                                URUN_ADI  FICHENO  \\\n",
       "100   662.0  23467.0  BURDAN 30 LU BUYUK BOY KAPAKLI YUMURTA    15772   \n",
       "101  5059.0    446.0             ULKER COKOKREM 700GR.-1202-    16839   \n",
       "102  9514.0   2660.0        NESTLE NESQUIK 500 GR %20 BEDAVA    17836   \n",
       "103  9208.0    263.0                 YAHYAOGLU 15 LI YUMURTA    17752   \n",
       "\n",
       "         DATE_  AMOUNT  PRICE  LINENETTOTAL  \n",
       "100 2017-01-02     1.0   9.95          9.95  \n",
       "101 2017-01-05     1.0   8.25          8.25  \n",
       "102 2017-01-06     1.0   5.90          5.90  \n",
       "103 2017-01-06     1.0   4.85          4.85  "
      ]
     },
     "execution_count": 21,
     "metadata": {},
     "output_type": "execute_result"
    }
   ],
   "source": [
    "df.loc[100:103,\"ID\":\"LINENETTOTAL\"]"
   ]
  },
  {
   "cell_type": "code",
   "execution_count": 27,
   "metadata": {
    "collapsed": true,
    "jupyter": {
     "outputs_hidden": true
    }
   },
   "outputs": [
    {
     "data": {
      "text/html": [
       "<div>\n",
       "<style scoped>\n",
       "    .dataframe tbody tr th:only-of-type {\n",
       "        vertical-align: middle;\n",
       "    }\n",
       "\n",
       "    .dataframe tbody tr th {\n",
       "        vertical-align: top;\n",
       "    }\n",
       "\n",
       "    .dataframe thead th {\n",
       "        text-align: right;\n",
       "    }\n",
       "</style>\n",
       "<table border=\"1\" class=\"dataframe\">\n",
       "  <thead>\n",
       "    <tr style=\"text-align: right;\">\n",
       "      <th></th>\n",
       "      <th>LINENETTOTAL</th>\n",
       "      <th>LINENET</th>\n",
       "      <th>BRANCHNR</th>\n",
       "      <th>BRANCH</th>\n",
       "      <th>SALESMAN</th>\n",
       "      <th>CITY</th>\n",
       "      <th>REGION</th>\n",
       "      <th>LATITUDE</th>\n",
       "      <th>LONGITUDE</th>\n",
       "      <th>CLIENTCODE</th>\n",
       "      <th>CLIENTNAME</th>\n",
       "      <th>BRANDCODE</th>\n",
       "      <th>BRAND</th>\n",
       "      <th>CATEGORY_NAME1</th>\n",
       "      <th>CATEGORY_NAME2</th>\n",
       "      <th>CATEGORY_NAME3</th>\n",
       "      <th>STARTDATE</th>\n",
       "      <th>ENDDATE</th>\n",
       "      <th>GENDER</th>\n",
       "    </tr>\n",
       "  </thead>\n",
       "  <tbody>\n",
       "    <tr>\n",
       "      <th>100</th>\n",
       "      <td>9.95</td>\n",
       "      <td>9.22</td>\n",
       "      <td>3.0</td>\n",
       "      <td>Afyonkarahisar Subesi</td>\n",
       "      <td>Rahime ARPACIOGLU</td>\n",
       "      <td>Afyonkarahisar</td>\n",
       "      <td>Ege</td>\n",
       "      <td>38.7507</td>\n",
       "      <td>30.5567</td>\n",
       "      <td>747931</td>\n",
       "      <td>Remziye İNCİKAPI</td>\n",
       "      <td>172</td>\n",
       "      <td>BURDAN</td>\n",
       "      <td>SÜT KAHVALTILIK</td>\n",
       "      <td>YUMURTA</td>\n",
       "      <td>NaN</td>\n",
       "      <td>2017-01-03 18:30:16</td>\n",
       "      <td>2017-01-03 18:31:44</td>\n",
       "      <td>K</td>\n",
       "    </tr>\n",
       "    <tr>\n",
       "      <th>101</th>\n",
       "      <td>8.25</td>\n",
       "      <td>7.64</td>\n",
       "      <td>40.0</td>\n",
       "      <td>İstanbul Subesi</td>\n",
       "      <td>İsmet SARTIK</td>\n",
       "      <td>İstanbul</td>\n",
       "      <td>Marmara</td>\n",
       "      <td>41.0053</td>\n",
       "      <td>28.9770</td>\n",
       "      <td>327636</td>\n",
       "      <td>Hatice TEKİNSİZ</td>\n",
       "      <td>146</td>\n",
       "      <td>ÜLKER</td>\n",
       "      <td>SÜT KAHVALTILIK</td>\n",
       "      <td>KAHVALTILIK</td>\n",
       "      <td>KREM ÇİKOLATA</td>\n",
       "      <td>2017-01-06 17:36:36</td>\n",
       "      <td>2017-01-06 17:38:22</td>\n",
       "      <td>K</td>\n",
       "    </tr>\n",
       "    <tr>\n",
       "      <th>102</th>\n",
       "      <td>5.90</td>\n",
       "      <td>5.46</td>\n",
       "      <td>42.0</td>\n",
       "      <td>Kahramanmaraş Subesi</td>\n",
       "      <td>Masal ATASEVEN</td>\n",
       "      <td>Kahramanmaraş</td>\n",
       "      <td>Akdeniz</td>\n",
       "      <td>37.5858</td>\n",
       "      <td>36.9371</td>\n",
       "      <td>575440</td>\n",
       "      <td>Duygu ERZİNCANLI</td>\n",
       "      <td>97</td>\n",
       "      <td>NESTLE</td>\n",
       "      <td>SÜT KAHVALTILIK</td>\n",
       "      <td>KAHVALTILIK</td>\n",
       "      <td>KREM ÇİKOLATA</td>\n",
       "      <td>2017-01-07 19:24:42</td>\n",
       "      <td>2017-01-07 19:24:52</td>\n",
       "      <td>K</td>\n",
       "    </tr>\n",
       "    <tr>\n",
       "      <th>103</th>\n",
       "      <td>4.85</td>\n",
       "      <td>4.49</td>\n",
       "      <td>63.0</td>\n",
       "      <td>Ordu Subesi</td>\n",
       "      <td>Veli KARTALK</td>\n",
       "      <td>Ordu</td>\n",
       "      <td>Karadeniz</td>\n",
       "      <td>40.9839</td>\n",
       "      <td>37.8764</td>\n",
       "      <td>251502</td>\n",
       "      <td>Kadir KARTALOĞLU</td>\n",
       "      <td>341</td>\n",
       "      <td>YAHYAOĞLU</td>\n",
       "      <td>SÜT KAHVALTILIK</td>\n",
       "      <td>YUMURTA</td>\n",
       "      <td>NaN</td>\n",
       "      <td>2017-01-07 14:16:09</td>\n",
       "      <td>2017-01-07 14:16:38</td>\n",
       "      <td>E</td>\n",
       "    </tr>\n",
       "  </tbody>\n",
       "</table>\n",
       "</div>"
      ],
      "text/plain": [
       "     LINENETTOTAL  LINENET  BRANCHNR                 BRANCH  \\\n",
       "100          9.95     9.22       3.0  Afyonkarahisar Subesi   \n",
       "101          8.25     7.64      40.0        İstanbul Subesi   \n",
       "102          5.90     5.46      42.0   Kahramanmaraş Subesi   \n",
       "103          4.85     4.49      63.0            Ordu Subesi   \n",
       "\n",
       "              SALESMAN            CITY     REGION  LATITUDE  LONGITUDE  \\\n",
       "100  Rahime ARPACIOGLU  Afyonkarahisar        Ege   38.7507    30.5567   \n",
       "101       İsmet SARTIK        İstanbul    Marmara   41.0053    28.9770   \n",
       "102     Masal ATASEVEN   Kahramanmaraş    Akdeniz   37.5858    36.9371   \n",
       "103       Veli KARTALK            Ordu  Karadeniz   40.9839    37.8764   \n",
       "\n",
       "    CLIENTCODE        CLIENTNAME BRANDCODE      BRAND   CATEGORY_NAME1  \\\n",
       "100     747931  Remziye İNCİKAPI       172     BURDAN  SÜT KAHVALTILIK   \n",
       "101     327636   Hatice TEKİNSİZ       146      ÜLKER  SÜT KAHVALTILIK   \n",
       "102     575440  Duygu ERZİNCANLI        97     NESTLE  SÜT KAHVALTILIK   \n",
       "103     251502  Kadir KARTALOĞLU       341  YAHYAOĞLU  SÜT KAHVALTILIK   \n",
       "\n",
       "    CATEGORY_NAME2 CATEGORY_NAME3           STARTDATE             ENDDATE  \\\n",
       "100        YUMURTA            NaN 2017-01-03 18:30:16 2017-01-03 18:31:44   \n",
       "101    KAHVALTILIK  KREM ÇİKOLATA 2017-01-06 17:36:36 2017-01-06 17:38:22   \n",
       "102    KAHVALTILIK  KREM ÇİKOLATA 2017-01-07 19:24:42 2017-01-07 19:24:52   \n",
       "103        YUMURTA            NaN 2017-01-07 14:16:09 2017-01-07 14:16:38   \n",
       "\n",
       "    GENDER  \n",
       "100      K  \n",
       "101      K  \n",
       "102      K  \n",
       "103      E  "
      ]
     },
     "execution_count": 27,
     "metadata": {},
     "output_type": "execute_result"
    }
   ],
   "source": [
    "df.loc[100:103,\"LINENETTOTAL\":]"
   ]
  },
  {
   "cell_type": "code",
   "execution_count": 28,
   "metadata": {
    "collapsed": true,
    "jupyter": {
     "outputs_hidden": true
    }
   },
   "outputs": [
    {
     "data": {
      "text/plain": [
       "LINENETTOTAL                       9.95\n",
       "LINENET                            9.22\n",
       "BRANCHNR                              3\n",
       "BRANCH            Afyonkarahisar Subesi\n",
       "SALESMAN              Rahime ARPACIOGLU\n",
       "CITY                     Afyonkarahisar\n",
       "REGION                              Ege\n",
       "LATITUDE                        38.7507\n",
       "LONGITUDE                       30.5567\n",
       "CLIENTCODE                       747931\n",
       "CLIENTNAME             Remziye İNCİKAPI\n",
       "BRANDCODE                           172\n",
       "BRAND                            BURDAN\n",
       "CATEGORY_NAME1          SÜT KAHVALTILIK\n",
       "CATEGORY_NAME2                  YUMURTA\n",
       "CATEGORY_NAME3                      NaN\n",
       "STARTDATE           2017-01-03 18:30:16\n",
       "ENDDATE             2017-01-03 18:31:44\n",
       "GENDER                                K\n",
       "Name: 100, dtype: object"
      ]
     },
     "execution_count": 28,
     "metadata": {},
     "output_type": "execute_result"
    }
   ],
   "source": [
    "df.loc[100,\"LINENETTOTAL\":]"
   ]
  },
  {
   "cell_type": "markdown",
   "metadata": {},
   "source": [
    "### 21- Verisetindeki CATEGORY_NAME3 sutununu verisetinden silelim"
   ]
  },
  {
   "cell_type": "code",
   "execution_count": 33,
   "metadata": {},
   "outputs": [],
   "source": [
    "df.drop(\"CATEGORY_NAME3\",axis = 1, inplace=True)"
   ]
  },
  {
   "cell_type": "markdown",
   "metadata": {},
   "source": [
    "### 22- Verisetinde URUN_ID sutunun en büyük değerini bulun ve ona göre boş değerlere bir değer atayın"
   ]
  },
  {
   "cell_type": "code",
   "execution_count": 36,
   "metadata": {},
   "outputs": [
    {
     "data": {
      "text/plain": [
       "23602.0"
      ]
     },
     "execution_count": 36,
     "metadata": {},
     "output_type": "execute_result"
    }
   ],
   "source": [
    "df[\"URUN_ID\"].max()"
   ]
  },
  {
   "cell_type": "code",
   "execution_count": 37,
   "metadata": {},
   "outputs": [],
   "source": [
    "df[\"URUN_ID\"] = df[\"URUN_ID\"].fillna(99999)"
   ]
  },
  {
   "cell_type": "code",
   "execution_count": 38,
   "metadata": {},
   "outputs": [
    {
     "data": {
      "text/plain": [
       "False"
      ]
     },
     "execution_count": 38,
     "metadata": {},
     "output_type": "execute_result"
    }
   ],
   "source": [
    "df.URUN_ID.isnull().any()"
   ]
  },
  {
   "cell_type": "markdown",
   "metadata": {},
   "source": [
    "### 23- Verisetinde Bulunan URUN_ADI kısmındaki değerlere \"BİLİNMEYEN ÜRÜN\" atayın"
   ]
  },
  {
   "cell_type": "code",
   "execution_count": 39,
   "metadata": {
    "collapsed": true,
    "jupyter": {
     "outputs_hidden": true
    }
   },
   "outputs": [
    {
     "data": {
      "text/plain": [
       "0         False\n",
       "1         False\n",
       "2         False\n",
       "3         False\n",
       "4         False\n",
       "          ...  \n",
       "611103    False\n",
       "611104    False\n",
       "611105    False\n",
       "611106    False\n",
       "611107    False\n",
       "Name: URUN_ADI, Length: 611108, dtype: bool"
      ]
     },
     "execution_count": 39,
     "metadata": {},
     "output_type": "execute_result"
    }
   ],
   "source": [
    "df[\"URUN_ADI\"].isnull()"
   ]
  },
  {
   "cell_type": "code",
   "execution_count": 40,
   "metadata": {
    "collapsed": true,
    "jupyter": {
     "outputs_hidden": true
    }
   },
   "outputs": [
    {
     "data": {
      "text/html": [
       "<div>\n",
       "<style scoped>\n",
       "    .dataframe tbody tr th:only-of-type {\n",
       "        vertical-align: middle;\n",
       "    }\n",
       "\n",
       "    .dataframe tbody tr th {\n",
       "        vertical-align: top;\n",
       "    }\n",
       "\n",
       "    .dataframe thead th {\n",
       "        text-align: right;\n",
       "    }\n",
       "</style>\n",
       "<table border=\"1\" class=\"dataframe\">\n",
       "  <thead>\n",
       "    <tr style=\"text-align: right;\">\n",
       "      <th></th>\n",
       "      <th>ID</th>\n",
       "      <th>URUN_ID</th>\n",
       "      <th>URUN_ADI</th>\n",
       "      <th>FICHENO</th>\n",
       "      <th>DATE_</th>\n",
       "      <th>AMOUNT</th>\n",
       "      <th>PRICE</th>\n",
       "      <th>LINENETTOTAL</th>\n",
       "      <th>LINENET</th>\n",
       "      <th>BRANCHNR</th>\n",
       "      <th>SUBE_ADI</th>\n",
       "      <th>SALESMAN</th>\n",
       "      <th>CITY</th>\n",
       "      <th>REGION</th>\n",
       "      <th>LATITUDE</th>\n",
       "      <th>LONGITUDE</th>\n",
       "      <th>CLIENTCODE</th>\n",
       "      <th>CLIENTNAME</th>\n",
       "      <th>BRANDCODE</th>\n",
       "      <th>BRAND</th>\n",
       "      <th>CATEGORY_NAME1</th>\n",
       "      <th>CATEGORY_NAME2</th>\n",
       "      <th>STARTDATE</th>\n",
       "      <th>ENDDATE</th>\n",
       "      <th>GENDER</th>\n",
       "    </tr>\n",
       "  </thead>\n",
       "  <tbody>\n",
       "    <tr>\n",
       "      <th>49</th>\n",
       "      <td>5139.0</td>\n",
       "      <td>99999.0</td>\n",
       "      <td>NaN</td>\n",
       "      <td>16853</td>\n",
       "      <td>2017-01-05</td>\n",
       "      <td>1.0</td>\n",
       "      <td>1.75</td>\n",
       "      <td>1.75</td>\n",
       "      <td>1.48</td>\n",
       "      <td>64.0</td>\n",
       "      <td>Osmaniye Subesi</td>\n",
       "      <td>Muhammed Ali KUŞOGLU</td>\n",
       "      <td>Osmaniye</td>\n",
       "      <td>Akdeniz</td>\n",
       "      <td>37.213</td>\n",
       "      <td>36.1763</td>\n",
       "      <td>736930</td>\n",
       "      <td>Yüksel GENÇBAY</td>\n",
       "      <td>NaN</td>\n",
       "      <td>NaN</td>\n",
       "      <td>NaN</td>\n",
       "      <td>NaN</td>\n",
       "      <td>2017-01-06 19:12:01</td>\n",
       "      <td>2017-01-06 19:12:36</td>\n",
       "      <td>K</td>\n",
       "    </tr>\n",
       "  </tbody>\n",
       "</table>\n",
       "</div>"
      ],
      "text/plain": [
       "        ID  URUN_ID URUN_ADI  FICHENO      DATE_  AMOUNT  PRICE  LINENETTOTAL  \\\n",
       "49  5139.0  99999.0      NaN    16853 2017-01-05     1.0   1.75          1.75   \n",
       "\n",
       "    LINENET  BRANCHNR         SUBE_ADI              SALESMAN      CITY  \\\n",
       "49     1.48      64.0  Osmaniye Subesi  Muhammed Ali KUŞOGLU  Osmaniye   \n",
       "\n",
       "     REGION  LATITUDE  LONGITUDE CLIENTCODE      CLIENTNAME BRANDCODE BRAND  \\\n",
       "49  Akdeniz    37.213    36.1763     736930  Yüksel GENÇBAY       NaN   NaN   \n",
       "\n",
       "   CATEGORY_NAME1 CATEGORY_NAME2           STARTDATE             ENDDATE  \\\n",
       "49            NaN            NaN 2017-01-06 19:12:01 2017-01-06 19:12:36   \n",
       "\n",
       "   GENDER  \n",
       "49      K  "
      ]
     },
     "execution_count": 40,
     "metadata": {},
     "output_type": "execute_result"
    }
   ],
   "source": [
    "df[df[\"URUN_ADI\"].isnull()].head(1)"
   ]
  },
  {
   "cell_type": "code",
   "execution_count": 42,
   "metadata": {
    "collapsed": true,
    "jupyter": {
     "outputs_hidden": true
    }
   },
   "outputs": [
    {
     "data": {
      "text/plain": [
       "49        NaN\n",
       "50        NaN\n",
       "51        NaN\n",
       "52        NaN\n",
       "53        NaN\n",
       "         ... \n",
       "608865    NaN\n",
       "608866    NaN\n",
       "608867    NaN\n",
       "608868    NaN\n",
       "608869    NaN\n",
       "Name: URUN_ADI, Length: 7167, dtype: object"
      ]
     },
     "execution_count": 42,
     "metadata": {},
     "output_type": "execute_result"
    }
   ],
   "source": [
    "df.loc[df[\"URUN_ADI\"].isnull(),\"URUN_ADI\"]"
   ]
  },
  {
   "cell_type": "code",
   "execution_count": 43,
   "metadata": {},
   "outputs": [],
   "source": [
    "df.loc[(df[\"URUN_ADI\"].isnull()),\"URUN_ADI\"] = \"BİLİNMEYEN ÜRÜN\""
   ]
  },
  {
   "cell_type": "code",
   "execution_count": 44,
   "metadata": {},
   "outputs": [
    {
     "data": {
      "text/plain": [
       "'BİLİNMEYEN ÜRÜN'"
      ]
     },
     "execution_count": 44,
     "metadata": {},
     "output_type": "execute_result"
    }
   ],
   "source": [
    "df.loc[49,\"URUN_ADI\"]"
   ]
  },
  {
   "cell_type": "markdown",
   "metadata": {},
   "source": [
    "### 24- Verisetinde Bulunan CLIENTCODE sutunun boş değerlerine \"#unk999\"atayın "
   ]
  },
  {
   "cell_type": "code",
   "execution_count": 45,
   "metadata": {
    "collapsed": true,
    "jupyter": {
     "outputs_hidden": true
    }
   },
   "outputs": [
    {
     "data": {
      "text/plain": [
       "0         False\n",
       "1         False\n",
       "2         False\n",
       "3         False\n",
       "4         False\n",
       "          ...  \n",
       "611103    False\n",
       "611104    False\n",
       "611105    False\n",
       "611106    False\n",
       "611107    False\n",
       "Name: CLIENTCODE, Length: 611108, dtype: bool"
      ]
     },
     "execution_count": 45,
     "metadata": {},
     "output_type": "execute_result"
    }
   ],
   "source": [
    "df[\"CLIENTCODE\"].isnull()"
   ]
  },
  {
   "cell_type": "code",
   "execution_count": 46,
   "metadata": {
    "collapsed": true,
    "jupyter": {
     "outputs_hidden": true
    }
   },
   "outputs": [
    {
     "data": {
      "text/html": [
       "<div>\n",
       "<style scoped>\n",
       "    .dataframe tbody tr th:only-of-type {\n",
       "        vertical-align: middle;\n",
       "    }\n",
       "\n",
       "    .dataframe tbody tr th {\n",
       "        vertical-align: top;\n",
       "    }\n",
       "\n",
       "    .dataframe thead th {\n",
       "        text-align: right;\n",
       "    }\n",
       "</style>\n",
       "<table border=\"1\" class=\"dataframe\">\n",
       "  <thead>\n",
       "    <tr style=\"text-align: right;\">\n",
       "      <th></th>\n",
       "      <th>ID</th>\n",
       "      <th>URUN_ID</th>\n",
       "      <th>URUN_ADI</th>\n",
       "      <th>FICHENO</th>\n",
       "      <th>DATE_</th>\n",
       "      <th>AMOUNT</th>\n",
       "      <th>PRICE</th>\n",
       "      <th>LINENETTOTAL</th>\n",
       "      <th>LINENET</th>\n",
       "      <th>BRANCHNR</th>\n",
       "      <th>SUBE_ADI</th>\n",
       "      <th>SALESMAN</th>\n",
       "      <th>CITY</th>\n",
       "      <th>REGION</th>\n",
       "      <th>LATITUDE</th>\n",
       "      <th>LONGITUDE</th>\n",
       "      <th>CLIENTCODE</th>\n",
       "      <th>CLIENTNAME</th>\n",
       "      <th>BRANDCODE</th>\n",
       "      <th>BRAND</th>\n",
       "      <th>CATEGORY_NAME1</th>\n",
       "      <th>CATEGORY_NAME2</th>\n",
       "      <th>STARTDATE</th>\n",
       "      <th>ENDDATE</th>\n",
       "      <th>GENDER</th>\n",
       "    </tr>\n",
       "  </thead>\n",
       "  <tbody>\n",
       "    <tr>\n",
       "      <th>51</th>\n",
       "      <td>9460.0</td>\n",
       "      <td>99999.0</td>\n",
       "      <td>BİLİNMEYEN ÜRÜN</td>\n",
       "      <td>17825</td>\n",
       "      <td>2017-01-06</td>\n",
       "      <td>1.0</td>\n",
       "      <td>2.57</td>\n",
       "      <td>2.57</td>\n",
       "      <td>2.38</td>\n",
       "      <td>73.0</td>\n",
       "      <td>Tekirdağ Subesi</td>\n",
       "      <td>Deniz ŞİŞMEN</td>\n",
       "      <td>Tekirdağ</td>\n",
       "      <td>Marmara</td>\n",
       "      <td>40.9833</td>\n",
       "      <td>27.5167</td>\n",
       "      <td>NaN</td>\n",
       "      <td>NaN</td>\n",
       "      <td>NaN</td>\n",
       "      <td>NaN</td>\n",
       "      <td>NaN</td>\n",
       "      <td>NaN</td>\n",
       "      <td>2017-01-07 18:44:01</td>\n",
       "      <td>2017-01-07 18:44:39</td>\n",
       "      <td>NaN</td>\n",
       "    </tr>\n",
       "  </tbody>\n",
       "</table>\n",
       "</div>"
      ],
      "text/plain": [
       "        ID  URUN_ID         URUN_ADI  FICHENO      DATE_  AMOUNT  PRICE  \\\n",
       "51  9460.0  99999.0  BİLİNMEYEN ÜRÜN    17825 2017-01-06     1.0   2.57   \n",
       "\n",
       "    LINENETTOTAL  LINENET  BRANCHNR         SUBE_ADI      SALESMAN      CITY  \\\n",
       "51          2.57     2.38      73.0  Tekirdağ Subesi  Deniz ŞİŞMEN  Tekirdağ   \n",
       "\n",
       "     REGION  LATITUDE  LONGITUDE CLIENTCODE CLIENTNAME BRANDCODE BRAND  \\\n",
       "51  Marmara   40.9833    27.5167        NaN        NaN       NaN   NaN   \n",
       "\n",
       "   CATEGORY_NAME1 CATEGORY_NAME2           STARTDATE             ENDDATE  \\\n",
       "51            NaN            NaN 2017-01-07 18:44:01 2017-01-07 18:44:39   \n",
       "\n",
       "   GENDER  \n",
       "51    NaN  "
      ]
     },
     "execution_count": 46,
     "metadata": {},
     "output_type": "execute_result"
    }
   ],
   "source": [
    "df[df[\"CLIENTCODE\"].isnull()].head(1)"
   ]
  },
  {
   "cell_type": "code",
   "execution_count": 47,
   "metadata": {
    "collapsed": true,
    "jupyter": {
     "outputs_hidden": true
    }
   },
   "outputs": [
    {
     "data": {
      "text/plain": [
       "51        NaN\n",
       "94        NaN\n",
       "117       NaN\n",
       "124       NaN\n",
       "143       NaN\n",
       "         ... \n",
       "610913    NaN\n",
       "610914    NaN\n",
       "610968    NaN\n",
       "610971    NaN\n",
       "611071    NaN\n",
       "Name: CLIENTCODE, Length: 18348, dtype: object"
      ]
     },
     "execution_count": 47,
     "metadata": {},
     "output_type": "execute_result"
    }
   ],
   "source": [
    "df.loc[(df[\"CLIENTCODE\"].isnull()),\"CLIENTCODE\"]"
   ]
  },
  {
   "cell_type": "code",
   "execution_count": 49,
   "metadata": {},
   "outputs": [],
   "source": [
    "df.loc[(df[\"CLIENTCODE\"].isnull()),\"CLIENTCODE\"] = \"#unk999\""
   ]
  },
  {
   "cell_type": "code",
   "execution_count": 50,
   "metadata": {},
   "outputs": [
    {
     "data": {
      "text/plain": [
       "51     #unk999\n",
       "94     #unk999\n",
       "117    #unk999\n",
       "Name: CLIENTCODE, dtype: object"
      ]
     },
     "execution_count": 50,
     "metadata": {},
     "output_type": "execute_result"
    }
   ],
   "source": [
    "df.loc[[51,94,117],\"CLIENTCODE\"]"
   ]
  },
  {
   "cell_type": "markdown",
   "metadata": {},
   "source": [
    "### 25- Verisetinde Bulunan CLIENTNAME sutunun boş değerlerine \"BILINMEYEN MUSTERI\" atayın "
   ]
  },
  {
   "cell_type": "code",
   "execution_count": 51,
   "metadata": {
    "collapsed": true,
    "jupyter": {
     "outputs_hidden": true
    }
   },
   "outputs": [
    {
     "data": {
      "text/plain": [
       "0         False\n",
       "1         False\n",
       "2         False\n",
       "3         False\n",
       "4         False\n",
       "          ...  \n",
       "611103    False\n",
       "611104    False\n",
       "611105    False\n",
       "611106    False\n",
       "611107    False\n",
       "Name: CLIENTNAME, Length: 611108, dtype: bool"
      ]
     },
     "execution_count": 51,
     "metadata": {},
     "output_type": "execute_result"
    }
   ],
   "source": [
    "df.CLIENTNAME.isnull()"
   ]
  },
  {
   "cell_type": "code",
   "execution_count": 52,
   "metadata": {},
   "outputs": [
    {
     "data": {
      "text/html": [
       "<div>\n",
       "<style scoped>\n",
       "    .dataframe tbody tr th:only-of-type {\n",
       "        vertical-align: middle;\n",
       "    }\n",
       "\n",
       "    .dataframe tbody tr th {\n",
       "        vertical-align: top;\n",
       "    }\n",
       "\n",
       "    .dataframe thead th {\n",
       "        text-align: right;\n",
       "    }\n",
       "</style>\n",
       "<table border=\"1\" class=\"dataframe\">\n",
       "  <thead>\n",
       "    <tr style=\"text-align: right;\">\n",
       "      <th></th>\n",
       "      <th>ID</th>\n",
       "      <th>URUN_ID</th>\n",
       "      <th>URUN_ADI</th>\n",
       "      <th>FICHENO</th>\n",
       "      <th>DATE_</th>\n",
       "      <th>AMOUNT</th>\n",
       "      <th>PRICE</th>\n",
       "      <th>LINENETTOTAL</th>\n",
       "      <th>LINENET</th>\n",
       "      <th>BRANCHNR</th>\n",
       "      <th>SUBE_ADI</th>\n",
       "      <th>SALESMAN</th>\n",
       "      <th>CITY</th>\n",
       "      <th>REGION</th>\n",
       "      <th>LATITUDE</th>\n",
       "      <th>LONGITUDE</th>\n",
       "      <th>CLIENTCODE</th>\n",
       "      <th>CLIENTNAME</th>\n",
       "      <th>BRANDCODE</th>\n",
       "      <th>BRAND</th>\n",
       "      <th>CATEGORY_NAME1</th>\n",
       "      <th>CATEGORY_NAME2</th>\n",
       "      <th>STARTDATE</th>\n",
       "      <th>ENDDATE</th>\n",
       "      <th>GENDER</th>\n",
       "    </tr>\n",
       "  </thead>\n",
       "  <tbody>\n",
       "    <tr>\n",
       "      <th>51</th>\n",
       "      <td>9460.0</td>\n",
       "      <td>99999.0</td>\n",
       "      <td>BİLİNMEYEN ÜRÜN</td>\n",
       "      <td>17825</td>\n",
       "      <td>2017-01-06</td>\n",
       "      <td>1.0</td>\n",
       "      <td>2.57</td>\n",
       "      <td>2.57</td>\n",
       "      <td>2.38</td>\n",
       "      <td>73.0</td>\n",
       "      <td>Tekirdağ Subesi</td>\n",
       "      <td>Deniz ŞİŞMEN</td>\n",
       "      <td>Tekirdağ</td>\n",
       "      <td>Marmara</td>\n",
       "      <td>40.9833</td>\n",
       "      <td>27.5167</td>\n",
       "      <td>#unk999</td>\n",
       "      <td>NaN</td>\n",
       "      <td>NaN</td>\n",
       "      <td>NaN</td>\n",
       "      <td>NaN</td>\n",
       "      <td>NaN</td>\n",
       "      <td>2017-01-07 18:44:01</td>\n",
       "      <td>2017-01-07 18:44:39</td>\n",
       "      <td>NaN</td>\n",
       "    </tr>\n",
       "  </tbody>\n",
       "</table>\n",
       "</div>"
      ],
      "text/plain": [
       "        ID  URUN_ID         URUN_ADI  FICHENO      DATE_  AMOUNT  PRICE  \\\n",
       "51  9460.0  99999.0  BİLİNMEYEN ÜRÜN    17825 2017-01-06     1.0   2.57   \n",
       "\n",
       "    LINENETTOTAL  LINENET  BRANCHNR         SUBE_ADI      SALESMAN      CITY  \\\n",
       "51          2.57     2.38      73.0  Tekirdağ Subesi  Deniz ŞİŞMEN  Tekirdağ   \n",
       "\n",
       "     REGION  LATITUDE  LONGITUDE CLIENTCODE CLIENTNAME BRANDCODE BRAND  \\\n",
       "51  Marmara   40.9833    27.5167    #unk999        NaN       NaN   NaN   \n",
       "\n",
       "   CATEGORY_NAME1 CATEGORY_NAME2           STARTDATE             ENDDATE  \\\n",
       "51            NaN            NaN 2017-01-07 18:44:01 2017-01-07 18:44:39   \n",
       "\n",
       "   GENDER  \n",
       "51    NaN  "
      ]
     },
     "execution_count": 52,
     "metadata": {},
     "output_type": "execute_result"
    }
   ],
   "source": [
    "df[df.CLIENTNAME.isnull()].head(1)"
   ]
  },
  {
   "cell_type": "code",
   "execution_count": 53,
   "metadata": {
    "collapsed": true,
    "jupyter": {
     "outputs_hidden": true
    }
   },
   "outputs": [
    {
     "data": {
      "text/plain": [
       "51        NaN\n",
       "94        NaN\n",
       "117       NaN\n",
       "124       NaN\n",
       "143       NaN\n",
       "         ... \n",
       "610913    NaN\n",
       "610914    NaN\n",
       "610968    NaN\n",
       "610971    NaN\n",
       "611071    NaN\n",
       "Name: CLIENTNAME, Length: 18365, dtype: object"
      ]
     },
     "execution_count": 53,
     "metadata": {},
     "output_type": "execute_result"
    }
   ],
   "source": [
    "df.loc[(df[\"CLIENTNAME\"].isnull()),\"CLIENTNAME\"]"
   ]
  },
  {
   "cell_type": "code",
   "execution_count": 27,
   "metadata": {},
   "outputs": [],
   "source": [
    "df.loc[(df[\"CLIENTNAME\"].isnull()),\"CLIENTNAME\"] = \"BILINMEYEN MUSTERI\""
   ]
  },
  {
   "cell_type": "markdown",
   "metadata": {},
   "source": [
    "### 26- Verisetinde CATEGORY_NAME1 i dolu oup CATEGORY_NAME2 boş olan satırlar var bu satırlarda CATEGORY_NAME2 kısmına CATEGORY_NAME1 deki değeri atayalım"
   ]
  },
  {
   "cell_type": "code",
   "execution_count": 54,
   "metadata": {},
   "outputs": [
    {
     "data": {
      "text/html": [
       "<div>\n",
       "<style scoped>\n",
       "    .dataframe tbody tr th:only-of-type {\n",
       "        vertical-align: middle;\n",
       "    }\n",
       "\n",
       "    .dataframe tbody tr th {\n",
       "        vertical-align: top;\n",
       "    }\n",
       "\n",
       "    .dataframe thead th {\n",
       "        text-align: right;\n",
       "    }\n",
       "</style>\n",
       "<table border=\"1\" class=\"dataframe\">\n",
       "  <thead>\n",
       "    <tr style=\"text-align: right;\">\n",
       "      <th></th>\n",
       "      <th>CATEGORY_NAME1</th>\n",
       "      <th>CATEGORY_NAME2</th>\n",
       "    </tr>\n",
       "  </thead>\n",
       "  <tbody>\n",
       "    <tr>\n",
       "      <th>55</th>\n",
       "      <td>SİGARA</td>\n",
       "      <td>NaN</td>\n",
       "    </tr>\n",
       "    <tr>\n",
       "      <th>1302</th>\n",
       "      <td>KOZMETİK</td>\n",
       "      <td>NaN</td>\n",
       "    </tr>\n",
       "  </tbody>\n",
       "</table>\n",
       "</div>"
      ],
      "text/plain": [
       "     CATEGORY_NAME1 CATEGORY_NAME2\n",
       "55           SİGARA            NaN\n",
       "1302       KOZMETİK            NaN"
      ]
     },
     "execution_count": 54,
     "metadata": {},
     "output_type": "execute_result"
    }
   ],
   "source": [
    "df.loc[[55,1302],[\"CATEGORY_NAME1\",\"CATEGORY_NAME2\"]]"
   ]
  },
  {
   "cell_type": "code",
   "execution_count": 60,
   "metadata": {
    "collapsed": true,
    "jupyter": {
     "outputs_hidden": true
    }
   },
   "outputs": [
    {
     "data": {
      "text/html": [
       "<div>\n",
       "<style scoped>\n",
       "    .dataframe tbody tr th:only-of-type {\n",
       "        vertical-align: middle;\n",
       "    }\n",
       "\n",
       "    .dataframe tbody tr th {\n",
       "        vertical-align: top;\n",
       "    }\n",
       "\n",
       "    .dataframe thead th {\n",
       "        text-align: right;\n",
       "    }\n",
       "</style>\n",
       "<table border=\"1\" class=\"dataframe\">\n",
       "  <thead>\n",
       "    <tr style=\"text-align: right;\">\n",
       "      <th></th>\n",
       "      <th>ID</th>\n",
       "      <th>URUN_ID</th>\n",
       "      <th>URUN_ADI</th>\n",
       "      <th>FICHENO</th>\n",
       "      <th>DATE_</th>\n",
       "      <th>AMOUNT</th>\n",
       "      <th>PRICE</th>\n",
       "      <th>LINENETTOTAL</th>\n",
       "      <th>LINENET</th>\n",
       "      <th>BRANCHNR</th>\n",
       "      <th>SUBE_ADI</th>\n",
       "      <th>SALESMAN</th>\n",
       "      <th>CITY</th>\n",
       "      <th>REGION</th>\n",
       "      <th>LATITUDE</th>\n",
       "      <th>LONGITUDE</th>\n",
       "      <th>CLIENTCODE</th>\n",
       "      <th>CLIENTNAME</th>\n",
       "      <th>BRANDCODE</th>\n",
       "      <th>BRAND</th>\n",
       "      <th>CATEGORY_NAME1</th>\n",
       "      <th>CATEGORY_NAME2</th>\n",
       "      <th>STARTDATE</th>\n",
       "      <th>ENDDATE</th>\n",
       "      <th>GENDER</th>\n",
       "    </tr>\n",
       "  </thead>\n",
       "  <tbody>\n",
       "    <tr>\n",
       "      <th>49</th>\n",
       "      <td>5139.0</td>\n",
       "      <td>99999.0</td>\n",
       "      <td>BİLİNMEYEN ÜRÜN</td>\n",
       "      <td>16853</td>\n",
       "      <td>2017-01-05</td>\n",
       "      <td>1.0</td>\n",
       "      <td>1.75</td>\n",
       "      <td>1.75</td>\n",
       "      <td>1.48</td>\n",
       "      <td>64.0</td>\n",
       "      <td>Osmaniye Subesi</td>\n",
       "      <td>Muhammed Ali KUŞOGLU</td>\n",
       "      <td>Osmaniye</td>\n",
       "      <td>Akdeniz</td>\n",
       "      <td>37.213</td>\n",
       "      <td>36.1763</td>\n",
       "      <td>736930</td>\n",
       "      <td>Yüksel GENÇBAY</td>\n",
       "      <td>NaN</td>\n",
       "      <td>NaN</td>\n",
       "      <td>NaN</td>\n",
       "      <td>NaN</td>\n",
       "      <td>2017-01-06 19:12:01</td>\n",
       "      <td>2017-01-06 19:12:36</td>\n",
       "      <td>K</td>\n",
       "    </tr>\n",
       "  </tbody>\n",
       "</table>\n",
       "</div>"
      ],
      "text/plain": [
       "        ID  URUN_ID         URUN_ADI  FICHENO      DATE_  AMOUNT  PRICE  \\\n",
       "49  5139.0  99999.0  BİLİNMEYEN ÜRÜN    16853 2017-01-05     1.0   1.75   \n",
       "\n",
       "    LINENETTOTAL  LINENET  BRANCHNR         SUBE_ADI              SALESMAN  \\\n",
       "49          1.75     1.48      64.0  Osmaniye Subesi  Muhammed Ali KUŞOGLU   \n",
       "\n",
       "        CITY   REGION  LATITUDE  LONGITUDE CLIENTCODE      CLIENTNAME  \\\n",
       "49  Osmaniye  Akdeniz    37.213    36.1763     736930  Yüksel GENÇBAY   \n",
       "\n",
       "   BRANDCODE BRAND CATEGORY_NAME1 CATEGORY_NAME2           STARTDATE  \\\n",
       "49       NaN   NaN            NaN            NaN 2017-01-06 19:12:01   \n",
       "\n",
       "               ENDDATE GENDER  \n",
       "49 2017-01-06 19:12:36      K  "
      ]
     },
     "execution_count": 60,
     "metadata": {},
     "output_type": "execute_result"
    }
   ],
   "source": [
    "df[df[\"CATEGORY_NAME2\"].isnull()].head(1)"
   ]
  },
  {
   "cell_type": "code",
   "execution_count": 65,
   "metadata": {
    "collapsed": true,
    "jupyter": {
     "outputs_hidden": true
    }
   },
   "outputs": [
    {
     "data": {
      "text/plain": [
       "0         True\n",
       "1         True\n",
       "2         True\n",
       "3         True\n",
       "4         True\n",
       "          ... \n",
       "611103    True\n",
       "611104    True\n",
       "611105    True\n",
       "611106    True\n",
       "611107    True\n",
       "Name: CATEGORY_NAME1, Length: 611108, dtype: bool"
      ]
     },
     "execution_count": 65,
     "metadata": {},
     "output_type": "execute_result"
    }
   ],
   "source": [
    "df[\"CATEGORY_NAME1\"].notnull()"
   ]
  },
  {
   "cell_type": "code",
   "execution_count": 70,
   "metadata": {},
   "outputs": [
    {
     "data": {
      "text/html": [
       "<div>\n",
       "<style scoped>\n",
       "    .dataframe tbody tr th:only-of-type {\n",
       "        vertical-align: middle;\n",
       "    }\n",
       "\n",
       "    .dataframe tbody tr th {\n",
       "        vertical-align: top;\n",
       "    }\n",
       "\n",
       "    .dataframe thead th {\n",
       "        text-align: right;\n",
       "    }\n",
       "</style>\n",
       "<table border=\"1\" class=\"dataframe\">\n",
       "  <thead>\n",
       "    <tr style=\"text-align: right;\">\n",
       "      <th></th>\n",
       "      <th>CATEGORY_NAME1</th>\n",
       "      <th>CATEGORY_NAME2</th>\n",
       "    </tr>\n",
       "  </thead>\n",
       "  <tbody>\n",
       "    <tr>\n",
       "      <th>55</th>\n",
       "      <td>SİGARA</td>\n",
       "      <td>NaN</td>\n",
       "    </tr>\n",
       "    <tr>\n",
       "      <th>69</th>\n",
       "      <td>SİGARA</td>\n",
       "      <td>NaN</td>\n",
       "    </tr>\n",
       "    <tr>\n",
       "      <th>70</th>\n",
       "      <td>SİGARA</td>\n",
       "      <td>NaN</td>\n",
       "    </tr>\n",
       "  </tbody>\n",
       "</table>\n",
       "</div>"
      ],
      "text/plain": [
       "   CATEGORY_NAME1 CATEGORY_NAME2\n",
       "55         SİGARA            NaN\n",
       "69         SİGARA            NaN\n",
       "70         SİGARA            NaN"
      ]
     },
     "execution_count": 70,
     "metadata": {},
     "output_type": "execute_result"
    }
   ],
   "source": [
    "(df[(df[\"CATEGORY_NAME1\"].notnull() & df[\"CATEGORY_NAME2\"].isnull())])[[\"CATEGORY_NAME1\",\"CATEGORY_NAME2\"]].head(3)"
   ]
  },
  {
   "cell_type": "code",
   "execution_count": 73,
   "metadata": {},
   "outputs": [],
   "source": [
    "a=(df[(df[\"CATEGORY_NAME1\"].notnull() & df[\"CATEGORY_NAME2\"].isnull())])[\"CATEGORY_NAME1\"]"
   ]
  },
  {
   "cell_type": "code",
   "execution_count": 74,
   "metadata": {},
   "outputs": [],
   "source": [
    "df.loc[(df[\"CATEGORY_NAME1\"].notnull() & df[\"CATEGORY_NAME2\"].isnull()),\"CATEGORY_NAME2\"] = a"
   ]
  },
  {
   "cell_type": "code",
   "execution_count": 76,
   "metadata": {},
   "outputs": [
    {
     "data": {
      "text/html": [
       "<div>\n",
       "<style scoped>\n",
       "    .dataframe tbody tr th:only-of-type {\n",
       "        vertical-align: middle;\n",
       "    }\n",
       "\n",
       "    .dataframe tbody tr th {\n",
       "        vertical-align: top;\n",
       "    }\n",
       "\n",
       "    .dataframe thead th {\n",
       "        text-align: right;\n",
       "    }\n",
       "</style>\n",
       "<table border=\"1\" class=\"dataframe\">\n",
       "  <thead>\n",
       "    <tr style=\"text-align: right;\">\n",
       "      <th></th>\n",
       "      <th>CATEGORY_NAME1</th>\n",
       "      <th>CATEGORY_NAME2</th>\n",
       "    </tr>\n",
       "  </thead>\n",
       "  <tbody>\n",
       "    <tr>\n",
       "      <th>55</th>\n",
       "      <td>SİGARA</td>\n",
       "      <td>SİGARA</td>\n",
       "    </tr>\n",
       "    <tr>\n",
       "      <th>1302</th>\n",
       "      <td>KOZMETİK</td>\n",
       "      <td>KOZMETİK</td>\n",
       "    </tr>\n",
       "  </tbody>\n",
       "</table>\n",
       "</div>"
      ],
      "text/plain": [
       "     CATEGORY_NAME1 CATEGORY_NAME2\n",
       "55           SİGARA         SİGARA\n",
       "1302       KOZMETİK       KOZMETİK"
      ]
     },
     "execution_count": 76,
     "metadata": {},
     "output_type": "execute_result"
    }
   ],
   "source": [
    "df.loc[[55,1302],[\"CATEGORY_NAME1\",\"CATEGORY_NAME2\"]]"
   ]
  },
  {
   "cell_type": "markdown",
   "metadata": {},
   "source": [
    "### 27- Verisetinde Alışveriş Yapan Kişilerin Cinsiyet Sutunundaki NaN değerleri U ile Değiştirin"
   ]
  },
  {
   "cell_type": "code",
   "execution_count": 77,
   "metadata": {
    "collapsed": true,
    "jupyter": {
     "outputs_hidden": true
    }
   },
   "outputs": [
    {
     "data": {
      "text/plain": [
       "0         False\n",
       "1         False\n",
       "2         False\n",
       "3         False\n",
       "4         False\n",
       "          ...  \n",
       "611103    False\n",
       "611104    False\n",
       "611105    False\n",
       "611106    False\n",
       "611107    False\n",
       "Name: GENDER, Length: 611108, dtype: bool"
      ]
     },
     "execution_count": 77,
     "metadata": {},
     "output_type": "execute_result"
    }
   ],
   "source": [
    "df[\"GENDER\"].isnull()"
   ]
  },
  {
   "cell_type": "code",
   "execution_count": 78,
   "metadata": {
    "collapsed": true,
    "jupyter": {
     "outputs_hidden": true
    }
   },
   "outputs": [
    {
     "data": {
      "text/html": [
       "<div>\n",
       "<style scoped>\n",
       "    .dataframe tbody tr th:only-of-type {\n",
       "        vertical-align: middle;\n",
       "    }\n",
       "\n",
       "    .dataframe tbody tr th {\n",
       "        vertical-align: top;\n",
       "    }\n",
       "\n",
       "    .dataframe thead th {\n",
       "        text-align: right;\n",
       "    }\n",
       "</style>\n",
       "<table border=\"1\" class=\"dataframe\">\n",
       "  <thead>\n",
       "    <tr style=\"text-align: right;\">\n",
       "      <th></th>\n",
       "      <th>ID</th>\n",
       "      <th>URUN_ID</th>\n",
       "      <th>URUN_ADI</th>\n",
       "      <th>FICHENO</th>\n",
       "      <th>DATE_</th>\n",
       "      <th>AMOUNT</th>\n",
       "      <th>PRICE</th>\n",
       "      <th>LINENETTOTAL</th>\n",
       "      <th>LINENET</th>\n",
       "      <th>BRANCHNR</th>\n",
       "      <th>SUBE_ADI</th>\n",
       "      <th>SALESMAN</th>\n",
       "      <th>CITY</th>\n",
       "      <th>REGION</th>\n",
       "      <th>LATITUDE</th>\n",
       "      <th>LONGITUDE</th>\n",
       "      <th>CLIENTCODE</th>\n",
       "      <th>CLIENTNAME</th>\n",
       "      <th>BRANDCODE</th>\n",
       "      <th>BRAND</th>\n",
       "      <th>CATEGORY_NAME1</th>\n",
       "      <th>CATEGORY_NAME2</th>\n",
       "      <th>STARTDATE</th>\n",
       "      <th>ENDDATE</th>\n",
       "      <th>GENDER</th>\n",
       "    </tr>\n",
       "  </thead>\n",
       "  <tbody>\n",
       "    <tr>\n",
       "      <th>51</th>\n",
       "      <td>9460.0</td>\n",
       "      <td>99999.0</td>\n",
       "      <td>BİLİNMEYEN ÜRÜN</td>\n",
       "      <td>17825</td>\n",
       "      <td>2017-01-06</td>\n",
       "      <td>1.0</td>\n",
       "      <td>2.57</td>\n",
       "      <td>2.57</td>\n",
       "      <td>2.38</td>\n",
       "      <td>73.0</td>\n",
       "      <td>Tekirdağ Subesi</td>\n",
       "      <td>Deniz ŞİŞMEN</td>\n",
       "      <td>Tekirdağ</td>\n",
       "      <td>Marmara</td>\n",
       "      <td>40.9833</td>\n",
       "      <td>27.5167</td>\n",
       "      <td>#unk999</td>\n",
       "      <td>NaN</td>\n",
       "      <td>NaN</td>\n",
       "      <td>NaN</td>\n",
       "      <td>NaN</td>\n",
       "      <td>NaN</td>\n",
       "      <td>2017-01-07 18:44:01</td>\n",
       "      <td>2017-01-07 18:44:39</td>\n",
       "      <td>NaN</td>\n",
       "    </tr>\n",
       "  </tbody>\n",
       "</table>\n",
       "</div>"
      ],
      "text/plain": [
       "        ID  URUN_ID         URUN_ADI  FICHENO      DATE_  AMOUNT  PRICE  \\\n",
       "51  9460.0  99999.0  BİLİNMEYEN ÜRÜN    17825 2017-01-06     1.0   2.57   \n",
       "\n",
       "    LINENETTOTAL  LINENET  BRANCHNR         SUBE_ADI      SALESMAN      CITY  \\\n",
       "51          2.57     2.38      73.0  Tekirdağ Subesi  Deniz ŞİŞMEN  Tekirdağ   \n",
       "\n",
       "     REGION  LATITUDE  LONGITUDE CLIENTCODE CLIENTNAME BRANDCODE BRAND  \\\n",
       "51  Marmara   40.9833    27.5167    #unk999        NaN       NaN   NaN   \n",
       "\n",
       "   CATEGORY_NAME1 CATEGORY_NAME2           STARTDATE             ENDDATE  \\\n",
       "51            NaN            NaN 2017-01-07 18:44:01 2017-01-07 18:44:39   \n",
       "\n",
       "   GENDER  \n",
       "51    NaN  "
      ]
     },
     "execution_count": 78,
     "metadata": {},
     "output_type": "execute_result"
    }
   ],
   "source": [
    "df[df[\"GENDER\"].isnull()].head(1)"
   ]
  },
  {
   "cell_type": "code",
   "execution_count": 82,
   "metadata": {},
   "outputs": [
    {
     "data": {
      "text/plain": [
       "nan"
      ]
     },
     "execution_count": 82,
     "metadata": {},
     "output_type": "execute_result"
    }
   ],
   "source": [
    "df.loc[(df[\"GENDER\"].isnull()),\"GENDER\"][51]"
   ]
  },
  {
   "cell_type": "code",
   "execution_count": 83,
   "metadata": {},
   "outputs": [],
   "source": [
    "df.loc[(df[\"GENDER\"].isnull()),\"GENDER\"] = \"U\""
   ]
  },
  {
   "cell_type": "code",
   "execution_count": 85,
   "metadata": {},
   "outputs": [
    {
     "data": {
      "text/plain": [
       "'U'"
      ]
     },
     "execution_count": 85,
     "metadata": {},
     "output_type": "execute_result"
    }
   ],
   "source": [
    "df.loc[51,\"GENDER\"]"
   ]
  },
  {
   "cell_type": "markdown",
   "metadata": {},
   "source": [
    "### 28-Verisetinde BRANDCODE ve BRAND sutunlarında sutunlarında boş değerlere #UN999 ve UNNBRD değerlerini atayalım"
   ]
  },
  {
   "cell_type": "code",
   "execution_count": 86,
   "metadata": {
    "collapsed": true,
    "jupyter": {
     "outputs_hidden": true
    }
   },
   "outputs": [
    {
     "data": {
      "text/plain": [
       "0         False\n",
       "1          True\n",
       "2         False\n",
       "3         False\n",
       "4         False\n",
       "          ...  \n",
       "611103     True\n",
       "611104     True\n",
       "611105     True\n",
       "611106     True\n",
       "611107    False\n",
       "Name: BRANDCODE, Length: 611108, dtype: bool"
      ]
     },
     "execution_count": 86,
     "metadata": {},
     "output_type": "execute_result"
    }
   ],
   "source": [
    "df[\"BRANDCODE\"].isnull()"
   ]
  },
  {
   "cell_type": "code",
   "execution_count": 88,
   "metadata": {
    "collapsed": true,
    "jupyter": {
     "outputs_hidden": true
    }
   },
   "outputs": [
    {
     "data": {
      "text/html": [
       "<div>\n",
       "<style scoped>\n",
       "    .dataframe tbody tr th:only-of-type {\n",
       "        vertical-align: middle;\n",
       "    }\n",
       "\n",
       "    .dataframe tbody tr th {\n",
       "        vertical-align: top;\n",
       "    }\n",
       "\n",
       "    .dataframe thead th {\n",
       "        text-align: right;\n",
       "    }\n",
       "</style>\n",
       "<table border=\"1\" class=\"dataframe\">\n",
       "  <thead>\n",
       "    <tr style=\"text-align: right;\">\n",
       "      <th></th>\n",
       "      <th>ID</th>\n",
       "      <th>URUN_ID</th>\n",
       "      <th>URUN_ADI</th>\n",
       "      <th>FICHENO</th>\n",
       "      <th>DATE_</th>\n",
       "      <th>AMOUNT</th>\n",
       "      <th>PRICE</th>\n",
       "      <th>LINENETTOTAL</th>\n",
       "      <th>LINENET</th>\n",
       "      <th>BRANCHNR</th>\n",
       "      <th>SUBE_ADI</th>\n",
       "      <th>SALESMAN</th>\n",
       "      <th>CITY</th>\n",
       "      <th>REGION</th>\n",
       "      <th>LATITUDE</th>\n",
       "      <th>LONGITUDE</th>\n",
       "      <th>CLIENTCODE</th>\n",
       "      <th>CLIENTNAME</th>\n",
       "      <th>BRANDCODE</th>\n",
       "      <th>BRAND</th>\n",
       "      <th>CATEGORY_NAME1</th>\n",
       "      <th>CATEGORY_NAME2</th>\n",
       "      <th>STARTDATE</th>\n",
       "      <th>ENDDATE</th>\n",
       "      <th>GENDER</th>\n",
       "    </tr>\n",
       "  </thead>\n",
       "  <tbody>\n",
       "    <tr>\n",
       "      <th>1</th>\n",
       "      <td>10537.0</td>\n",
       "      <td>8.0</td>\n",
       "      <td>TOZ SEKER</td>\n",
       "      <td>18105</td>\n",
       "      <td>2017-01-06</td>\n",
       "      <td>5.0</td>\n",
       "      <td>2.65</td>\n",
       "      <td>13.25</td>\n",
       "      <td>12.27</td>\n",
       "      <td>8.0</td>\n",
       "      <td>Antalya Subesi</td>\n",
       "      <td>İlhan ÖRENLİ</td>\n",
       "      <td>Antalya</td>\n",
       "      <td>Akdeniz</td>\n",
       "      <td>36.8841</td>\n",
       "      <td>30.7056</td>\n",
       "      <td>131464</td>\n",
       "      <td>İsmet ŞINGIR</td>\n",
       "      <td>NaN</td>\n",
       "      <td>NaN</td>\n",
       "      <td>İÇECEK</td>\n",
       "      <td>ÇAY KAHVE</td>\n",
       "      <td>2017-01-07 11:04:34</td>\n",
       "      <td>2017-01-07 11:05:37</td>\n",
       "      <td>E</td>\n",
       "    </tr>\n",
       "  </tbody>\n",
       "</table>\n",
       "</div>"
      ],
      "text/plain": [
       "        ID  URUN_ID   URUN_ADI  FICHENO      DATE_  AMOUNT  PRICE  \\\n",
       "1  10537.0      8.0  TOZ SEKER    18105 2017-01-06     5.0   2.65   \n",
       "\n",
       "   LINENETTOTAL  LINENET  BRANCHNR        SUBE_ADI      SALESMAN     CITY  \\\n",
       "1         13.25    12.27       8.0  Antalya Subesi  İlhan ÖRENLİ  Antalya   \n",
       "\n",
       "    REGION  LATITUDE  LONGITUDE CLIENTCODE    CLIENTNAME BRANDCODE BRAND  \\\n",
       "1  Akdeniz   36.8841    30.7056     131464  İsmet ŞINGIR       NaN   NaN   \n",
       "\n",
       "  CATEGORY_NAME1 CATEGORY_NAME2           STARTDATE             ENDDATE GENDER  \n",
       "1         İÇECEK      ÇAY KAHVE 2017-01-07 11:04:34 2017-01-07 11:05:37      E  "
      ]
     },
     "execution_count": 88,
     "metadata": {},
     "output_type": "execute_result"
    }
   ],
   "source": [
    "df[df[\"BRANDCODE\"].isna()].head(1)"
   ]
  },
  {
   "cell_type": "code",
   "execution_count": 89,
   "metadata": {
    "collapsed": true,
    "jupyter": {
     "outputs_hidden": true
    }
   },
   "outputs": [
    {
     "data": {
      "text/plain": [
       "1         NaN\n",
       "5         NaN\n",
       "7         NaN\n",
       "8         NaN\n",
       "49        NaN\n",
       "         ... \n",
       "611102    NaN\n",
       "611103    NaN\n",
       "611104    NaN\n",
       "611105    NaN\n",
       "611106    NaN\n",
       "Name: BRANDCODE, Length: 35557, dtype: object"
      ]
     },
     "execution_count": 89,
     "metadata": {},
     "output_type": "execute_result"
    }
   ],
   "source": [
    "df.loc[df[\"BRANDCODE\"].isna(),\"BRANDCODE\"]"
   ]
  },
  {
   "cell_type": "code",
   "execution_count": 90,
   "metadata": {},
   "outputs": [],
   "source": [
    "df.loc[(df[\"BRANDCODE\"].isnull()),\"BRANDCODE\"] = \"#UN999\""
   ]
  },
  {
   "cell_type": "code",
   "execution_count": 91,
   "metadata": {},
   "outputs": [],
   "source": [
    "df.loc[(df[\"BRAND\"].isnull()),\"BRAND\"] = \"UNNBRD\""
   ]
  },
  {
   "cell_type": "markdown",
   "metadata": {},
   "source": [
    "### 29-Verisetinde CATEGORY_NAME1  ve CATEGORY_NAME2 sutunlarında sutunlarında boş değerlere UNKCATG değerlerini atayalım"
   ]
  },
  {
   "cell_type": "code",
   "execution_count": 92,
   "metadata": {
    "collapsed": true,
    "jupyter": {
     "outputs_hidden": true
    }
   },
   "outputs": [
    {
     "data": {
      "text/html": [
       "<div>\n",
       "<style scoped>\n",
       "    .dataframe tbody tr th:only-of-type {\n",
       "        vertical-align: middle;\n",
       "    }\n",
       "\n",
       "    .dataframe tbody tr th {\n",
       "        vertical-align: top;\n",
       "    }\n",
       "\n",
       "    .dataframe thead th {\n",
       "        text-align: right;\n",
       "    }\n",
       "</style>\n",
       "<table border=\"1\" class=\"dataframe\">\n",
       "  <thead>\n",
       "    <tr style=\"text-align: right;\">\n",
       "      <th></th>\n",
       "      <th>ID</th>\n",
       "      <th>URUN_ID</th>\n",
       "      <th>URUN_ADI</th>\n",
       "      <th>FICHENO</th>\n",
       "      <th>DATE_</th>\n",
       "      <th>AMOUNT</th>\n",
       "      <th>PRICE</th>\n",
       "      <th>LINENETTOTAL</th>\n",
       "      <th>LINENET</th>\n",
       "      <th>BRANCHNR</th>\n",
       "      <th>SUBE_ADI</th>\n",
       "      <th>SALESMAN</th>\n",
       "      <th>CITY</th>\n",
       "      <th>REGION</th>\n",
       "      <th>LATITUDE</th>\n",
       "      <th>LONGITUDE</th>\n",
       "      <th>CLIENTCODE</th>\n",
       "      <th>CLIENTNAME</th>\n",
       "      <th>BRANDCODE</th>\n",
       "      <th>BRAND</th>\n",
       "      <th>CATEGORY_NAME1</th>\n",
       "      <th>CATEGORY_NAME2</th>\n",
       "      <th>STARTDATE</th>\n",
       "      <th>ENDDATE</th>\n",
       "      <th>GENDER</th>\n",
       "    </tr>\n",
       "  </thead>\n",
       "  <tbody>\n",
       "    <tr>\n",
       "      <th>49</th>\n",
       "      <td>5139.0</td>\n",
       "      <td>99999.0</td>\n",
       "      <td>BİLİNMEYEN ÜRÜN</td>\n",
       "      <td>16853</td>\n",
       "      <td>2017-01-05</td>\n",
       "      <td>1.0</td>\n",
       "      <td>1.75</td>\n",
       "      <td>1.75</td>\n",
       "      <td>1.48</td>\n",
       "      <td>64.0</td>\n",
       "      <td>Osmaniye Subesi</td>\n",
       "      <td>Muhammed Ali KUŞOGLU</td>\n",
       "      <td>Osmaniye</td>\n",
       "      <td>Akdeniz</td>\n",
       "      <td>37.213</td>\n",
       "      <td>36.1763</td>\n",
       "      <td>736930</td>\n",
       "      <td>Yüksel GENÇBAY</td>\n",
       "      <td>#UN999</td>\n",
       "      <td>UNNBRD</td>\n",
       "      <td>NaN</td>\n",
       "      <td>NaN</td>\n",
       "      <td>2017-01-06 19:12:01</td>\n",
       "      <td>2017-01-06 19:12:36</td>\n",
       "      <td>K</td>\n",
       "    </tr>\n",
       "  </tbody>\n",
       "</table>\n",
       "</div>"
      ],
      "text/plain": [
       "        ID  URUN_ID         URUN_ADI  FICHENO      DATE_  AMOUNT  PRICE  \\\n",
       "49  5139.0  99999.0  BİLİNMEYEN ÜRÜN    16853 2017-01-05     1.0   1.75   \n",
       "\n",
       "    LINENETTOTAL  LINENET  BRANCHNR         SUBE_ADI              SALESMAN  \\\n",
       "49          1.75     1.48      64.0  Osmaniye Subesi  Muhammed Ali KUŞOGLU   \n",
       "\n",
       "        CITY   REGION  LATITUDE  LONGITUDE CLIENTCODE      CLIENTNAME  \\\n",
       "49  Osmaniye  Akdeniz    37.213    36.1763     736930  Yüksel GENÇBAY   \n",
       "\n",
       "   BRANDCODE   BRAND CATEGORY_NAME1 CATEGORY_NAME2           STARTDATE  \\\n",
       "49    #UN999  UNNBRD            NaN            NaN 2017-01-06 19:12:01   \n",
       "\n",
       "               ENDDATE GENDER  \n",
       "49 2017-01-06 19:12:36      K  "
      ]
     },
     "execution_count": 92,
     "metadata": {},
     "output_type": "execute_result"
    }
   ],
   "source": [
    "df[(df[\"CATEGORY_NAME2\"].isnull()) & (df[\"CATEGORY_NAME1\"].isnull())].head(1)"
   ]
  },
  {
   "cell_type": "code",
   "execution_count": 93,
   "metadata": {},
   "outputs": [],
   "source": [
    "df.loc[(df[\"CATEGORY_NAME1\"].isnull()),\"CATEGORY_NAME1\"] = \"UNKCATG\""
   ]
  },
  {
   "cell_type": "code",
   "execution_count": 94,
   "metadata": {},
   "outputs": [],
   "source": [
    "df.loc[(df[\"CATEGORY_NAME2\"].isnull()),\"CATEGORY_NAME2\"] = \"UNKCATG\""
   ]
  },
  {
   "cell_type": "markdown",
   "metadata": {},
   "source": [
    "### 30- Verisetinde Kalan Boş Değerleri Silelim"
   ]
  },
  {
   "cell_type": "code",
   "execution_count": 95,
   "metadata": {},
   "outputs": [],
   "source": [
    "df=df.dropna()"
   ]
  },
  {
   "cell_type": "markdown",
   "metadata": {},
   "source": [
    "### 31- Mağazamızda Çalısan Eleman Sayısını Bulunuz"
   ]
  },
  {
   "cell_type": "code",
   "execution_count": 44,
   "metadata": {},
   "outputs": [
    {
     "data": {
      "text/plain": [
       "1331"
      ]
     },
     "execution_count": 44,
     "metadata": {},
     "output_type": "execute_result"
    }
   ],
   "source": [
    "df[\"SALESMAN\"].nunique()"
   ]
  },
  {
   "cell_type": "markdown",
   "metadata": {},
   "source": [
    "### 32-Şirketimizin Hangi Bölgelerde Kaç Subesi Var Onu Yazdıralım"
   ]
  },
  {
   "cell_type": "code",
   "execution_count": 47,
   "metadata": {
    "collapsed": true,
    "jupyter": {
     "outputs_hidden": true
    }
   },
   "outputs": [
    {
     "data": {
      "text/html": [
       "<div>\n",
       "<style scoped>\n",
       "    .dataframe tbody tr th:only-of-type {\n",
       "        vertical-align: middle;\n",
       "    }\n",
       "\n",
       "    .dataframe tbody tr th {\n",
       "        vertical-align: top;\n",
       "    }\n",
       "\n",
       "    .dataframe thead th {\n",
       "        text-align: right;\n",
       "    }\n",
       "</style>\n",
       "<table border=\"1\" class=\"dataframe\">\n",
       "  <thead>\n",
       "    <tr style=\"text-align: right;\">\n",
       "      <th></th>\n",
       "      <th>SUBE_ADI</th>\n",
       "    </tr>\n",
       "    <tr>\n",
       "      <th>REGION</th>\n",
       "      <th></th>\n",
       "    </tr>\n",
       "  </thead>\n",
       "  <tbody>\n",
       "    <tr>\n",
       "      <th>Akdeniz</th>\n",
       "      <td>8</td>\n",
       "    </tr>\n",
       "    <tr>\n",
       "      <th>Doğu Anadolu</th>\n",
       "      <td>14</td>\n",
       "    </tr>\n",
       "    <tr>\n",
       "      <th>Ege</th>\n",
       "      <td>9</td>\n",
       "    </tr>\n",
       "    <tr>\n",
       "      <th>Güneydoğu Anadolu</th>\n",
       "      <td>9</td>\n",
       "    </tr>\n",
       "    <tr>\n",
       "      <th>Karadeniz</th>\n",
       "      <td>18</td>\n",
       "    </tr>\n",
       "    <tr>\n",
       "      <th>Marmara</th>\n",
       "      <td>10</td>\n",
       "    </tr>\n",
       "    <tr>\n",
       "      <th>İç Anadolu</th>\n",
       "      <td>13</td>\n",
       "    </tr>\n",
       "  </tbody>\n",
       "</table>\n",
       "</div>"
      ],
      "text/plain": [
       "                   SUBE_ADI\n",
       "REGION                     \n",
       "Akdeniz                   8\n",
       "Doğu Anadolu             14\n",
       "Ege                       9\n",
       "Güneydoğu Anadolu         9\n",
       "Karadeniz                18\n",
       "Marmara                  10\n",
       "İç Anadolu               13"
      ]
     },
     "execution_count": 47,
     "metadata": {},
     "output_type": "execute_result"
    }
   ],
   "source": [
    "df.groupby(\"REGION\").agg({\"SUBE_ADI\":\"nunique\"})"
   ]
  },
  {
   "cell_type": "markdown",
   "metadata": {},
   "source": [
    "### 33-En Çok Ücret Alan Fiş No ve o fişin toplam tutarını yazdırın."
   ]
  },
  {
   "cell_type": "code",
   "execution_count": 49,
   "metadata": {
    "collapsed": true,
    "jupyter": {
     "outputs_hidden": true
    }
   },
   "outputs": [
    {
     "data": {
      "text/html": [
       "<div>\n",
       "<style scoped>\n",
       "    .dataframe tbody tr th:only-of-type {\n",
       "        vertical-align: middle;\n",
       "    }\n",
       "\n",
       "    .dataframe tbody tr th {\n",
       "        vertical-align: top;\n",
       "    }\n",
       "\n",
       "    .dataframe thead th {\n",
       "        text-align: right;\n",
       "    }\n",
       "</style>\n",
       "<table border=\"1\" class=\"dataframe\">\n",
       "  <thead>\n",
       "    <tr style=\"text-align: right;\">\n",
       "      <th></th>\n",
       "      <th>LINENETTOTAL</th>\n",
       "    </tr>\n",
       "    <tr>\n",
       "      <th>FICHENO</th>\n",
       "      <th></th>\n",
       "    </tr>\n",
       "  </thead>\n",
       "  <tbody>\n",
       "    <tr>\n",
       "      <th>144857</th>\n",
       "      <td>8556.00</td>\n",
       "    </tr>\n",
       "    <tr>\n",
       "      <th>65232</th>\n",
       "      <td>5568.40</td>\n",
       "    </tr>\n",
       "    <tr>\n",
       "      <th>52800</th>\n",
       "      <td>3642.52</td>\n",
       "    </tr>\n",
       "    <tr>\n",
       "      <th>23212</th>\n",
       "      <td>2960.79</td>\n",
       "    </tr>\n",
       "    <tr>\n",
       "      <th>107960</th>\n",
       "      <td>2168.33</td>\n",
       "    </tr>\n",
       "  </tbody>\n",
       "</table>\n",
       "</div>"
      ],
      "text/plain": [
       "         LINENETTOTAL\n",
       "FICHENO              \n",
       "144857        8556.00\n",
       "65232         5568.40\n",
       "52800         3642.52\n",
       "23212         2960.79\n",
       "107960        2168.33"
      ]
     },
     "execution_count": 49,
     "metadata": {},
     "output_type": "execute_result"
    }
   ],
   "source": [
    "df.groupby(\"FICHENO\").agg({\"LINENETTOTAL\":\"sum\"}).sort_values(\"LINENETTOTAL\", ascending = False).head()"
   ]
  },
  {
   "cell_type": "code",
   "execution_count": 50,
   "metadata": {},
   "outputs": [
    {
     "data": {
      "text/plain": [
       "144857"
      ]
     },
     "execution_count": 50,
     "metadata": {},
     "output_type": "execute_result"
    }
   ],
   "source": [
    "df.groupby(\"FICHENO\").agg({\"LINENETTOTAL\":\"sum\"}).sort_values(\"LINENETTOTAL\", ascending = False).head().index[0]"
   ]
  },
  {
   "cell_type": "code",
   "execution_count": 51,
   "metadata": {},
   "outputs": [
    {
     "data": {
      "text/plain": [
       "8556.0"
      ]
     },
     "execution_count": 51,
     "metadata": {},
     "output_type": "execute_result"
    }
   ],
   "source": [
    "df.groupby(\"FICHENO\").agg({\"LINENETTOTAL\":\"sum\"}).sort_values(\"LINENETTOTAL\", ascending = False).head().values[0][0]"
   ]
  },
  {
   "cell_type": "markdown",
   "metadata": {},
   "source": [
    "### 34-  Şirketimizin Hangi Bölgede Ne Kadar Müşterisi Var onu yazdıralım"
   ]
  },
  {
   "cell_type": "code",
   "execution_count": 52,
   "metadata": {
    "collapsed": true,
    "jupyter": {
     "outputs_hidden": true
    }
   },
   "outputs": [
    {
     "data": {
      "text/html": [
       "<div>\n",
       "<style scoped>\n",
       "    .dataframe tbody tr th:only-of-type {\n",
       "        vertical-align: middle;\n",
       "    }\n",
       "\n",
       "    .dataframe tbody tr th {\n",
       "        vertical-align: top;\n",
       "    }\n",
       "\n",
       "    .dataframe thead th {\n",
       "        text-align: right;\n",
       "    }\n",
       "</style>\n",
       "<table border=\"1\" class=\"dataframe\">\n",
       "  <thead>\n",
       "    <tr style=\"text-align: right;\">\n",
       "      <th></th>\n",
       "      <th>CLIENTCODE</th>\n",
       "    </tr>\n",
       "    <tr>\n",
       "      <th>REGION</th>\n",
       "      <th></th>\n",
       "    </tr>\n",
       "  </thead>\n",
       "  <tbody>\n",
       "    <tr>\n",
       "      <th>Akdeniz</th>\n",
       "      <td>14611</td>\n",
       "    </tr>\n",
       "    <tr>\n",
       "      <th>Doğu Anadolu</th>\n",
       "      <td>9178</td>\n",
       "    </tr>\n",
       "    <tr>\n",
       "      <th>Ege</th>\n",
       "      <td>16219</td>\n",
       "    </tr>\n",
       "    <tr>\n",
       "      <th>Güneydoğu Anadolu</th>\n",
       "      <td>12566</td>\n",
       "    </tr>\n",
       "    <tr>\n",
       "      <th>Karadeniz</th>\n",
       "      <td>13174</td>\n",
       "    </tr>\n",
       "    <tr>\n",
       "      <th>Marmara</th>\n",
       "      <td>27423</td>\n",
       "    </tr>\n",
       "    <tr>\n",
       "      <th>İç Anadolu</th>\n",
       "      <td>17633</td>\n",
       "    </tr>\n",
       "  </tbody>\n",
       "</table>\n",
       "</div>"
      ],
      "text/plain": [
       "                   CLIENTCODE\n",
       "REGION                       \n",
       "Akdeniz                 14611\n",
       "Doğu Anadolu             9178\n",
       "Ege                     16219\n",
       "Güneydoğu Anadolu       12566\n",
       "Karadeniz               13174\n",
       "Marmara                 27423\n",
       "İç Anadolu              17633"
      ]
     },
     "execution_count": 52,
     "metadata": {},
     "output_type": "execute_result"
    }
   ],
   "source": [
    "df.groupby(\"REGION\").agg({\"CLIENTCODE\":\"nunique\"})"
   ]
  },
  {
   "cell_type": "markdown",
   "metadata": {},
   "source": [
    "### 35- En Çok ürün Alan Fiş No"
   ]
  },
  {
   "cell_type": "code",
   "execution_count": 55,
   "metadata": {
    "collapsed": true,
    "jupyter": {
     "outputs_hidden": true
    }
   },
   "outputs": [
    {
     "data": {
      "text/html": [
       "<div>\n",
       "<style scoped>\n",
       "    .dataframe tbody tr th:only-of-type {\n",
       "        vertical-align: middle;\n",
       "    }\n",
       "\n",
       "    .dataframe tbody tr th {\n",
       "        vertical-align: top;\n",
       "    }\n",
       "\n",
       "    .dataframe thead th {\n",
       "        text-align: right;\n",
       "    }\n",
       "</style>\n",
       "<table border=\"1\" class=\"dataframe\">\n",
       "  <thead>\n",
       "    <tr style=\"text-align: right;\">\n",
       "      <th></th>\n",
       "      <th>AMOUNT</th>\n",
       "    </tr>\n",
       "    <tr>\n",
       "      <th>FICHENO</th>\n",
       "      <th></th>\n",
       "    </tr>\n",
       "  </thead>\n",
       "  <tbody>\n",
       "    <tr>\n",
       "      <th>65232</th>\n",
       "      <td>1017.000</td>\n",
       "    </tr>\n",
       "    <tr>\n",
       "      <th>59816</th>\n",
       "      <td>631.242</td>\n",
       "    </tr>\n",
       "    <tr>\n",
       "      <th>122415</th>\n",
       "      <td>316.000</td>\n",
       "    </tr>\n",
       "    <tr>\n",
       "      <th>138177</th>\n",
       "      <td>258.000</td>\n",
       "    </tr>\n",
       "    <tr>\n",
       "      <th>37557</th>\n",
       "      <td>246.000</td>\n",
       "    </tr>\n",
       "    <tr>\n",
       "      <th>...</th>\n",
       "      <td>...</td>\n",
       "    </tr>\n",
       "    <tr>\n",
       "      <th>67559</th>\n",
       "      <td>0.010</td>\n",
       "    </tr>\n",
       "    <tr>\n",
       "      <th>67484</th>\n",
       "      <td>0.005</td>\n",
       "    </tr>\n",
       "    <tr>\n",
       "      <th>136847</th>\n",
       "      <td>0.002</td>\n",
       "    </tr>\n",
       "    <tr>\n",
       "      <th>140432</th>\n",
       "      <td>0.002</td>\n",
       "    </tr>\n",
       "    <tr>\n",
       "      <th>100426</th>\n",
       "      <td>0.002</td>\n",
       "    </tr>\n",
       "  </tbody>\n",
       "</table>\n",
       "<p>142611 rows × 1 columns</p>\n",
       "</div>"
      ],
      "text/plain": [
       "           AMOUNT\n",
       "FICHENO          \n",
       "65232    1017.000\n",
       "59816     631.242\n",
       "122415    316.000\n",
       "138177    258.000\n",
       "37557     246.000\n",
       "...           ...\n",
       "67559       0.010\n",
       "67484       0.005\n",
       "136847      0.002\n",
       "140432      0.002\n",
       "100426      0.002\n",
       "\n",
       "[142611 rows x 1 columns]"
      ]
     },
     "execution_count": 55,
     "metadata": {},
     "output_type": "execute_result"
    }
   ],
   "source": [
    "df.groupby(\"FICHENO\").agg({\"AMOUNT\":\"sum\"}).sort_values(\"AMOUNT\",ascending=False)"
   ]
  },
  {
   "cell_type": "markdown",
   "metadata": {},
   "source": [
    "### 36-En Çok Ciro Yapan Şube ve o şubenin müşteri sayısını bulun"
   ]
  },
  {
   "cell_type": "code",
   "execution_count": 59,
   "metadata": {
    "collapsed": true,
    "jupyter": {
     "outputs_hidden": true
    }
   },
   "outputs": [
    {
     "data": {
      "text/html": [
       "<div>\n",
       "<style scoped>\n",
       "    .dataframe tbody tr th:only-of-type {\n",
       "        vertical-align: middle;\n",
       "    }\n",
       "\n",
       "    .dataframe tbody tr th {\n",
       "        vertical-align: top;\n",
       "    }\n",
       "\n",
       "    .dataframe thead th {\n",
       "        text-align: right;\n",
       "    }\n",
       "</style>\n",
       "<table border=\"1\" class=\"dataframe\">\n",
       "  <thead>\n",
       "    <tr style=\"text-align: right;\">\n",
       "      <th></th>\n",
       "      <th>LINENETTOTAL</th>\n",
       "      <th>CLIENTCODE</th>\n",
       "    </tr>\n",
       "    <tr>\n",
       "      <th>SUBE_ADI</th>\n",
       "      <th></th>\n",
       "      <th></th>\n",
       "    </tr>\n",
       "  </thead>\n",
       "  <tbody>\n",
       "    <tr>\n",
       "      <th>İstanbul Subesi</th>\n",
       "      <td>458500.33</td>\n",
       "      <td>19213</td>\n",
       "    </tr>\n",
       "    <tr>\n",
       "      <th>Ankara Subesi</th>\n",
       "      <td>167015.15</td>\n",
       "      <td>8169</td>\n",
       "    </tr>\n",
       "    <tr>\n",
       "      <th>İzmir Subesi</th>\n",
       "      <td>131814.45</td>\n",
       "      <td>6641</td>\n",
       "    </tr>\n",
       "    <tr>\n",
       "      <th>Bursa Subesi</th>\n",
       "      <td>81148.86</td>\n",
       "      <td>4678</td>\n",
       "    </tr>\n",
       "    <tr>\n",
       "      <th>Antalya Subesi</th>\n",
       "      <td>75283.40</td>\n",
       "      <td>3721</td>\n",
       "    </tr>\n",
       "    <tr>\n",
       "      <th>...</th>\n",
       "      <td>...</td>\n",
       "      <td>...</td>\n",
       "    </tr>\n",
       "    <tr>\n",
       "      <th>Bartın Subesi</th>\n",
       "      <td>4758.74</td>\n",
       "      <td>320</td>\n",
       "    </tr>\n",
       "    <tr>\n",
       "      <th>Kilis Subesi</th>\n",
       "      <td>4663.51</td>\n",
       "      <td>262</td>\n",
       "    </tr>\n",
       "    <tr>\n",
       "      <th>Ardahan Subesi</th>\n",
       "      <td>2887.15</td>\n",
       "      <td>172</td>\n",
       "    </tr>\n",
       "    <tr>\n",
       "      <th>Tunceli Subesi</th>\n",
       "      <td>2586.63</td>\n",
       "      <td>140</td>\n",
       "    </tr>\n",
       "    <tr>\n",
       "      <th>Bayburt Subesi</th>\n",
       "      <td>2044.47</td>\n",
       "      <td>123</td>\n",
       "    </tr>\n",
       "  </tbody>\n",
       "</table>\n",
       "<p>81 rows × 2 columns</p>\n",
       "</div>"
      ],
      "text/plain": [
       "                 LINENETTOTAL  CLIENTCODE\n",
       "SUBE_ADI                                 \n",
       "İstanbul Subesi     458500.33       19213\n",
       "Ankara Subesi       167015.15        8169\n",
       "İzmir Subesi        131814.45        6641\n",
       "Bursa Subesi         81148.86        4678\n",
       "Antalya Subesi       75283.40        3721\n",
       "...                       ...         ...\n",
       "Bartın Subesi         4758.74         320\n",
       "Kilis Subesi          4663.51         262\n",
       "Ardahan Subesi        2887.15         172\n",
       "Tunceli Subesi        2586.63         140\n",
       "Bayburt Subesi        2044.47         123\n",
       "\n",
       "[81 rows x 2 columns]"
      ]
     },
     "execution_count": 59,
     "metadata": {},
     "output_type": "execute_result"
    }
   ],
   "source": [
    "df.groupby(\"SUBE_ADI\").agg({\"LINENETTOTAL\":\"sum\",\n",
    "                         \"CLIENTCODE\":\"nunique\"}).sort_values(\"LINENETTOTAL\",ascending=False)"
   ]
  },
  {
   "cell_type": "markdown",
   "metadata": {},
   "source": [
    "### 37-Müşterilerin Kasada En Çok Vakit Geçirdikleri Şube"
   ]
  },
  {
   "cell_type": "code",
   "execution_count": 111,
   "metadata": {},
   "outputs": [
    {
     "data": {
      "text/plain": [
       "ENDDATE      datetime64[ns]\n",
       "STARTDATE    datetime64[ns]\n",
       "dtype: object"
      ]
     },
     "execution_count": 111,
     "metadata": {},
     "output_type": "execute_result"
    }
   ],
   "source": [
    "df[[\"ENDDATE\",\"STARTDATE\"]].dtypes"
   ]
  },
  {
   "cell_type": "code",
   "execution_count": 112,
   "metadata": {},
   "outputs": [],
   "source": [
    "import datetime"
   ]
  },
  {
   "cell_type": "code",
   "execution_count": 113,
   "metadata": {
    "collapsed": true,
    "jupyter": {
     "outputs_hidden": true
    },
    "tags": []
   },
   "outputs": [
    {
     "name": "stderr",
     "output_type": "stream",
     "text": [
      "E:\\Anaconda3\\lib\\site-packages\\ipykernel_launcher.py:1: SettingWithCopyWarning: \n",
      "A value is trying to be set on a copy of a slice from a DataFrame.\n",
      "Try using .loc[row_indexer,col_indexer] = value instead\n",
      "\n",
      "See the caveats in the documentation: https://pandas.pydata.org/pandas-docs/stable/user_guide/indexing.html#returning-a-view-versus-a-copy\n",
      "  \"\"\"Entry point for launching an IPython kernel.\n"
     ]
    }
   ],
   "source": [
    "df[\"PASSING_TIME\"] = df[\"ENDDATE\"] - df[\"STARTDATE\"]"
   ]
  },
  {
   "cell_type": "code",
   "execution_count": 114,
   "metadata": {},
   "outputs": [
    {
     "data": {
      "text/plain": [
       "0   0 days 00:01:02\n",
       "Name: PASSING_TIME, dtype: timedelta64[ns]"
      ]
     },
     "execution_count": 114,
     "metadata": {},
     "output_type": "execute_result"
    }
   ],
   "source": [
    "df[\"PASSING_TIME\"].head(1)"
   ]
  },
  {
   "cell_type": "code",
   "execution_count": 116,
   "metadata": {},
   "outputs": [],
   "source": [
    "df[\"PASSING_TIME2\"] = df[\"PASSING_TIME\"].apply(lambda x : str(x))"
   ]
  },
  {
   "cell_type": "code",
   "execution_count": 117,
   "metadata": {},
   "outputs": [
    {
     "data": {
      "text/plain": [
       "0    0 days 00:01:02\n",
       "Name: PASSING_TIME2, dtype: object"
      ]
     },
     "execution_count": 117,
     "metadata": {},
     "output_type": "execute_result"
    }
   ],
   "source": [
    "df[\"PASSING_TIME2\"].head(1)"
   ]
  },
  {
   "cell_type": "code",
   "execution_count": 63,
   "metadata": {},
   "outputs": [
    {
     "data": {
      "text/plain": [
       "['0', 'days', '00:01:02']"
      ]
     },
     "execution_count": 63,
     "metadata": {},
     "output_type": "execute_result"
    }
   ],
   "source": [
    "\"0 days 00:01:02\".split()"
   ]
  },
  {
   "cell_type": "code",
   "execution_count": 64,
   "metadata": {},
   "outputs": [
    {
     "data": {
      "text/plain": [
       "['00', '01', '02']"
      ]
     },
     "execution_count": 64,
     "metadata": {},
     "output_type": "execute_result"
    }
   ],
   "source": [
    "'00:01:02'.split(\":\")"
   ]
  },
  {
   "cell_type": "code",
   "execution_count": 118,
   "metadata": {},
   "outputs": [],
   "source": [
    "def second(str_date):\n",
    "    a= str_date.split()\n",
    "    b= a[2].split(\":\")\n",
    "    c=(int(b[0])*3600)+(int(b[1])*60)+int(b[2])\n",
    "    return c"
   ]
  },
  {
   "cell_type": "code",
   "execution_count": 119,
   "metadata": {},
   "outputs": [],
   "source": [
    "df[\"PASSING_TIME3\"] = df[\"PASSING_TIME2\"].apply(second)"
   ]
  },
  {
   "cell_type": "code",
   "execution_count": 120,
   "metadata": {},
   "outputs": [
    {
     "data": {
      "text/plain": [
       "0    62\n",
       "1    63\n",
       "2    58\n",
       "Name: PASSING_TIME3, dtype: int64"
      ]
     },
     "execution_count": 120,
     "metadata": {},
     "output_type": "execute_result"
    }
   ],
   "source": [
    "df[\"PASSING_TIME3\"].head(3)"
   ]
  },
  {
   "cell_type": "code",
   "execution_count": 121,
   "metadata": {},
   "outputs": [
    {
     "data": {
      "text/html": [
       "<div>\n",
       "<style scoped>\n",
       "    .dataframe tbody tr th:only-of-type {\n",
       "        vertical-align: middle;\n",
       "    }\n",
       "\n",
       "    .dataframe tbody tr th {\n",
       "        vertical-align: top;\n",
       "    }\n",
       "\n",
       "    .dataframe thead th {\n",
       "        text-align: right;\n",
       "    }\n",
       "</style>\n",
       "<table border=\"1\" class=\"dataframe\">\n",
       "  <thead>\n",
       "    <tr style=\"text-align: right;\">\n",
       "      <th></th>\n",
       "      <th></th>\n",
       "      <th>PASSING_TIME3</th>\n",
       "    </tr>\n",
       "    <tr>\n",
       "      <th>FICHENO</th>\n",
       "      <th>SUBE_ADI</th>\n",
       "      <th></th>\n",
       "    </tr>\n",
       "  </thead>\n",
       "  <tbody>\n",
       "    <tr>\n",
       "      <th>15560</th>\n",
       "      <th>Batman Subesi</th>\n",
       "      <td>40</td>\n",
       "    </tr>\n",
       "    <tr>\n",
       "      <th>15561</th>\n",
       "      <th>İstanbul Subesi</th>\n",
       "      <td>40</td>\n",
       "    </tr>\n",
       "    <tr>\n",
       "      <th>15562</th>\n",
       "      <th>Adıyaman Subesi</th>\n",
       "      <td>37</td>\n",
       "    </tr>\n",
       "  </tbody>\n",
       "</table>\n",
       "</div>"
      ],
      "text/plain": [
       "                         PASSING_TIME3\n",
       "FICHENO SUBE_ADI                      \n",
       "15560   Batman Subesi               40\n",
       "15561   İstanbul Subesi             40\n",
       "15562   Adıyaman Subesi             37"
      ]
     },
     "execution_count": 121,
     "metadata": {},
     "output_type": "execute_result"
    }
   ],
   "source": [
    "fis=df.groupby([\"FICHENO\",\"SUBE_ADI\"]).agg({\"PASSING_TIME3\":\"mean\"})\n",
    "fis.head(3)"
   ]
  },
  {
   "cell_type": "code",
   "execution_count": 122,
   "metadata": {},
   "outputs": [
    {
     "data": {
      "text/html": [
       "<div>\n",
       "<style scoped>\n",
       "    .dataframe tbody tr th:only-of-type {\n",
       "        vertical-align: middle;\n",
       "    }\n",
       "\n",
       "    .dataframe tbody tr th {\n",
       "        vertical-align: top;\n",
       "    }\n",
       "\n",
       "    .dataframe thead th {\n",
       "        text-align: right;\n",
       "    }\n",
       "</style>\n",
       "<table border=\"1\" class=\"dataframe\">\n",
       "  <thead>\n",
       "    <tr style=\"text-align: right;\">\n",
       "      <th></th>\n",
       "      <th>FICHENO</th>\n",
       "      <th>SUBE_ADI</th>\n",
       "      <th>PASSING_TIME3</th>\n",
       "    </tr>\n",
       "  </thead>\n",
       "  <tbody>\n",
       "    <tr>\n",
       "      <th>0</th>\n",
       "      <td>15560</td>\n",
       "      <td>Batman Subesi</td>\n",
       "      <td>40</td>\n",
       "    </tr>\n",
       "    <tr>\n",
       "      <th>1</th>\n",
       "      <td>15561</td>\n",
       "      <td>İstanbul Subesi</td>\n",
       "      <td>40</td>\n",
       "    </tr>\n",
       "    <tr>\n",
       "      <th>2</th>\n",
       "      <td>15562</td>\n",
       "      <td>Adıyaman Subesi</td>\n",
       "      <td>37</td>\n",
       "    </tr>\n",
       "  </tbody>\n",
       "</table>\n",
       "</div>"
      ],
      "text/plain": [
       "   FICHENO         SUBE_ADI  PASSING_TIME3\n",
       "0    15560    Batman Subesi             40\n",
       "1    15561  İstanbul Subesi             40\n",
       "2    15562  Adıyaman Subesi             37"
      ]
     },
     "execution_count": 122,
     "metadata": {},
     "output_type": "execute_result"
    }
   ],
   "source": [
    "fis = fis.reset_index()\n",
    "fis.head(3)"
   ]
  },
  {
   "cell_type": "code",
   "execution_count": 123,
   "metadata": {},
   "outputs": [
    {
     "data": {
      "text/html": [
       "<div>\n",
       "<style scoped>\n",
       "    .dataframe tbody tr th:only-of-type {\n",
       "        vertical-align: middle;\n",
       "    }\n",
       "\n",
       "    .dataframe tbody tr th {\n",
       "        vertical-align: top;\n",
       "    }\n",
       "\n",
       "    .dataframe thead th {\n",
       "        text-align: right;\n",
       "    }\n",
       "</style>\n",
       "<table border=\"1\" class=\"dataframe\">\n",
       "  <thead>\n",
       "    <tr style=\"text-align: right;\">\n",
       "      <th></th>\n",
       "      <th>PASSING_TIME3</th>\n",
       "    </tr>\n",
       "    <tr>\n",
       "      <th>SUBE_ADI</th>\n",
       "      <th></th>\n",
       "    </tr>\n",
       "  </thead>\n",
       "  <tbody>\n",
       "    <tr>\n",
       "      <th>Hatay Subesi</th>\n",
       "      <td>35.946652</td>\n",
       "    </tr>\n",
       "    <tr>\n",
       "      <th>Kırşehir Subesi</th>\n",
       "      <td>32.310905</td>\n",
       "    </tr>\n",
       "    <tr>\n",
       "      <th>Adıyaman Subesi</th>\n",
       "      <td>31.814359</td>\n",
       "    </tr>\n",
       "    <tr>\n",
       "      <th>Erzincan Subesi</th>\n",
       "      <td>31.616708</td>\n",
       "    </tr>\n",
       "    <tr>\n",
       "      <th>Kayseri Subesi</th>\n",
       "      <td>31.405829</td>\n",
       "    </tr>\n",
       "    <tr>\n",
       "      <th>...</th>\n",
       "      <td>...</td>\n",
       "    </tr>\n",
       "    <tr>\n",
       "      <th>Tunceli Subesi</th>\n",
       "      <td>26.978417</td>\n",
       "    </tr>\n",
       "    <tr>\n",
       "      <th>Gümüşhane Subesi</th>\n",
       "      <td>26.907143</td>\n",
       "    </tr>\n",
       "    <tr>\n",
       "      <th>Bingöl Subesi</th>\n",
       "      <td>26.698482</td>\n",
       "    </tr>\n",
       "    <tr>\n",
       "      <th>Bilecik Subesi</th>\n",
       "      <td>26.558011</td>\n",
       "    </tr>\n",
       "    <tr>\n",
       "      <th>Bolu Subesi</th>\n",
       "      <td>26.399621</td>\n",
       "    </tr>\n",
       "  </tbody>\n",
       "</table>\n",
       "<p>81 rows × 1 columns</p>\n",
       "</div>"
      ],
      "text/plain": [
       "                  PASSING_TIME3\n",
       "SUBE_ADI                       \n",
       "Hatay Subesi          35.946652\n",
       "Kırşehir Subesi       32.310905\n",
       "Adıyaman Subesi       31.814359\n",
       "Erzincan Subesi       31.616708\n",
       "Kayseri Subesi        31.405829\n",
       "...                         ...\n",
       "Tunceli Subesi        26.978417\n",
       "Gümüşhane Subesi      26.907143\n",
       "Bingöl Subesi         26.698482\n",
       "Bilecik Subesi        26.558011\n",
       "Bolu Subesi           26.399621\n",
       "\n",
       "[81 rows x 1 columns]"
      ]
     },
     "execution_count": 123,
     "metadata": {},
     "output_type": "execute_result"
    }
   ],
   "source": [
    "fis.groupby(\"SUBE_ADI\").agg({\"PASSING_TIME3\":\"mean\"}).sort_values(\"PASSING_TIME3\",ascending=False)"
   ]
  },
  {
   "cell_type": "markdown",
   "metadata": {},
   "source": [
    "### 38-Haftanın Günleri Bas Alınarak Ortalama cironun en yüksek olduğu gün hangisi"
   ]
  },
  {
   "cell_type": "code",
   "execution_count": 131,
   "metadata": {
    "collapsed": true,
    "jupyter": {
     "outputs_hidden": true
    }
   },
   "outputs": [
    {
     "name": "stdout",
     "output_type": "stream",
     "text": [
      "<class 'pandas.core.frame.DataFrame'>\n",
      "Int64Index: 592743 entries, 0 to 611107\n",
      "Data columns (total 28 columns):\n",
      " #   Column          Non-Null Count   Dtype          \n",
      "---  ------          --------------   -----          \n",
      " 0   ID              592743 non-null  float64        \n",
      " 1   URUN_ID         592743 non-null  float64        \n",
      " 2   URUN_ADI        592743 non-null  object         \n",
      " 3   FICHENO         592743 non-null  int64          \n",
      " 4   DATE_           592743 non-null  datetime64[ns] \n",
      " 5   AMOUNT          592743 non-null  float64        \n",
      " 6   PRICE           592743 non-null  float64        \n",
      " 7   LINENETTOTAL    592743 non-null  float64        \n",
      " 8   LINENET         592743 non-null  float64        \n",
      " 9   BRANCHNR        592743 non-null  float64        \n",
      " 10  SUBE_ADI        592743 non-null  object         \n",
      " 11  SALESMAN        592743 non-null  object         \n",
      " 12  CITY            592743 non-null  object         \n",
      " 13  REGION          592743 non-null  object         \n",
      " 14  LATITUDE        592743 non-null  float64        \n",
      " 15  LONGITUDE       592743 non-null  float64        \n",
      " 16  CLIENTCODE      592743 non-null  object         \n",
      " 17  CLIENTNAME      592743 non-null  object         \n",
      " 18  BRANDCODE       592743 non-null  object         \n",
      " 19  BRAND           592743 non-null  object         \n",
      " 20  CATEGORY_NAME1  592743 non-null  object         \n",
      " 21  CATEGORY_NAME2  592743 non-null  object         \n",
      " 22  STARTDATE       592743 non-null  datetime64[ns] \n",
      " 23  ENDDATE         592743 non-null  datetime64[ns] \n",
      " 24  GENDER          592743 non-null  object         \n",
      " 25  PASSING_TIME    592743 non-null  timedelta64[ns]\n",
      " 26  PASSING_TIME2   592743 non-null  object         \n",
      " 27  PASSING_TIME3   592743 non-null  int64          \n",
      "dtypes: datetime64[ns](3), float64(9), int64(2), object(13), timedelta64[ns](1)\n",
      "memory usage: 131.1+ MB\n"
     ]
    }
   ],
   "source": [
    "df.info()"
   ]
  },
  {
   "cell_type": "code",
   "execution_count": 146,
   "metadata": {},
   "outputs": [],
   "source": [
    "### verisetinde orjinal sutunlar lazım olur diye baska bir sutun olusturuyoruz type i object olan \n",
    "df[\"DATE_2\"]=df[\"DATE_\"].apply(lambda x: str(x))"
   ]
  },
  {
   "cell_type": "code",
   "execution_count": 143,
   "metadata": {},
   "outputs": [
    {
     "data": {
      "text/plain": [
       "datetime.datetime(2021, 4, 11, 0, 0)"
      ]
     },
     "execution_count": 143,
     "metadata": {},
     "output_type": "execute_result"
    }
   ],
   "source": [
    "datetime.datetime.strptime(\"2021-04-11\",\"%Y-%m-%d\")"
   ]
  },
  {
   "cell_type": "code",
   "execution_count": 138,
   "metadata": {},
   "outputs": [
    {
     "data": {
      "text/plain": [
       "6"
      ]
     },
     "execution_count": 138,
     "metadata": {},
     "output_type": "execute_result"
    }
   ],
   "source": [
    "datetime.datetime.strptime(\"2021-04-11\",\"%Y-%m-%d\").weekday()"
   ]
  },
  {
   "cell_type": "code",
   "execution_count": 141,
   "metadata": {},
   "outputs": [
    {
     "data": {
      "text/plain": [
       "6"
      ]
     },
     "execution_count": 141,
     "metadata": {},
     "output_type": "execute_result"
    }
   ],
   "source": [
    "datetime.date(2021,4,11).weekday()\n"
   ]
  },
  {
   "cell_type": "code",
   "execution_count": 144,
   "metadata": {},
   "outputs": [],
   "source": [
    "### günleri bulacağımız fonksiyonu tanımlıyoruz\n",
    "def day(str_date,date_format):\n",
    "    import datetime \n",
    "    dayName = [\"Pazartesi\",\"Salı\",\"Çarşamba\",\"Perşembe\",\"Cuma\",\"Cumartesi\",\"Pazar\"]\n",
    "    day = datetime.datetime.strptime(str_date, date_format).weekday()\n",
    "    return(dayName[day])"
   ]
  },
  {
   "cell_type": "code",
   "execution_count": 147,
   "metadata": {},
   "outputs": [],
   "source": [
    "### Haftanın Hangi günü olduğunu belirten bir sutun olusturuyoruz\n",
    "df[\"DAY\"]= df[\"DATE_2\"].apply(lambda x: day(x.split()[0],\"%Y-%m-%d\"))"
   ]
  },
  {
   "cell_type": "code",
   "execution_count": 148,
   "metadata": {},
   "outputs": [
    {
     "data": {
      "text/html": [
       "<div>\n",
       "<style scoped>\n",
       "    .dataframe tbody tr th:only-of-type {\n",
       "        vertical-align: middle;\n",
       "    }\n",
       "\n",
       "    .dataframe tbody tr th {\n",
       "        vertical-align: top;\n",
       "    }\n",
       "\n",
       "    .dataframe thead th {\n",
       "        text-align: right;\n",
       "    }\n",
       "</style>\n",
       "<table border=\"1\" class=\"dataframe\">\n",
       "  <thead>\n",
       "    <tr style=\"text-align: right;\">\n",
       "      <th></th>\n",
       "      <th>LINENETTOTAL</th>\n",
       "    </tr>\n",
       "    <tr>\n",
       "      <th>DAY</th>\n",
       "      <th></th>\n",
       "    </tr>\n",
       "  </thead>\n",
       "  <tbody>\n",
       "    <tr>\n",
       "      <th>Salı</th>\n",
       "      <td>414207.45</td>\n",
       "    </tr>\n",
       "    <tr>\n",
       "      <th>Perşembe</th>\n",
       "      <td>387150.51</td>\n",
       "    </tr>\n",
       "    <tr>\n",
       "      <th>Cuma</th>\n",
       "      <td>348014.85</td>\n",
       "    </tr>\n",
       "    <tr>\n",
       "      <th>Cumartesi</th>\n",
       "      <td>343658.36</td>\n",
       "    </tr>\n",
       "    <tr>\n",
       "      <th>Pazartesi</th>\n",
       "      <td>321736.97</td>\n",
       "    </tr>\n",
       "    <tr>\n",
       "      <th>Pazar</th>\n",
       "      <td>308498.59</td>\n",
       "    </tr>\n",
       "    <tr>\n",
       "      <th>Çarşamba</th>\n",
       "      <td>278949.35</td>\n",
       "    </tr>\n",
       "  </tbody>\n",
       "</table>\n",
       "</div>"
      ],
      "text/plain": [
       "           LINENETTOTAL\n",
       "DAY                    \n",
       "Salı          414207.45\n",
       "Perşembe      387150.51\n",
       "Cuma          348014.85\n",
       "Cumartesi     343658.36\n",
       "Pazartesi     321736.97\n",
       "Pazar         308498.59\n",
       "Çarşamba      278949.35"
      ]
     },
     "execution_count": 148,
     "metadata": {},
     "output_type": "execute_result"
    }
   ],
   "source": [
    "### en çok alışveriş yapılan günleri buluyoruz\n",
    "df.groupby(\"DAY\").agg({\"LINENETTOTAL\":\"sum\"}).sort_values(\"LINENETTOTAL\",ascending=False)"
   ]
  },
  {
   "cell_type": "markdown",
   "metadata": {},
   "source": [
    "### 39-Ayın Hangi Günlerinde En Yüksek Çiro Yapılmıs?"
   ]
  },
  {
   "cell_type": "code",
   "execution_count": 149,
   "metadata": {},
   "outputs": [],
   "source": [
    "### ayın günlerinin gösteren bir sutun olusturuyoruz\n",
    "df[\"MONTH_DAY\"] = df[\"DATE_2\"].apply(lambda x: int((x.split()[0]).split(\"-\")[2]))"
   ]
  },
  {
   "cell_type": "code",
   "execution_count": 150,
   "metadata": {
    "collapsed": true,
    "jupyter": {
     "outputs_hidden": true
    }
   },
   "outputs": [
    {
     "data": {
      "text/html": [
       "<div>\n",
       "<style scoped>\n",
       "    .dataframe tbody tr th:only-of-type {\n",
       "        vertical-align: middle;\n",
       "    }\n",
       "\n",
       "    .dataframe tbody tr th {\n",
       "        vertical-align: top;\n",
       "    }\n",
       "\n",
       "    .dataframe thead th {\n",
       "        text-align: right;\n",
       "    }\n",
       "</style>\n",
       "<table border=\"1\" class=\"dataframe\">\n",
       "  <thead>\n",
       "    <tr style=\"text-align: right;\">\n",
       "      <th></th>\n",
       "      <th>LINENETTOTAL</th>\n",
       "    </tr>\n",
       "    <tr>\n",
       "      <th>MONTH_DAY</th>\n",
       "      <th></th>\n",
       "    </tr>\n",
       "  </thead>\n",
       "  <tbody>\n",
       "    <tr>\n",
       "      <th>14</th>\n",
       "      <td>97917.34</td>\n",
       "    </tr>\n",
       "    <tr>\n",
       "      <th>24</th>\n",
       "      <td>95950.73</td>\n",
       "    </tr>\n",
       "    <tr>\n",
       "      <th>28</th>\n",
       "      <td>94921.02</td>\n",
       "    </tr>\n",
       "    <tr>\n",
       "      <th>21</th>\n",
       "      <td>92689.22</td>\n",
       "    </tr>\n",
       "    <tr>\n",
       "      <th>7</th>\n",
       "      <td>90956.57</td>\n",
       "    </tr>\n",
       "    <tr>\n",
       "      <th>23</th>\n",
       "      <td>90813.19</td>\n",
       "    </tr>\n",
       "    <tr>\n",
       "      <th>16</th>\n",
       "      <td>89477.00</td>\n",
       "    </tr>\n",
       "    <tr>\n",
       "      <th>17</th>\n",
       "      <td>89163.03</td>\n",
       "    </tr>\n",
       "    <tr>\n",
       "      <th>10</th>\n",
       "      <td>88953.09</td>\n",
       "    </tr>\n",
       "    <tr>\n",
       "      <th>20</th>\n",
       "      <td>86121.36</td>\n",
       "    </tr>\n",
       "    <tr>\n",
       "      <th>9</th>\n",
       "      <td>85109.51</td>\n",
       "    </tr>\n",
       "    <tr>\n",
       "      <th>19</th>\n",
       "      <td>84259.80</td>\n",
       "    </tr>\n",
       "    <tr>\n",
       "      <th>25</th>\n",
       "      <td>83847.89</td>\n",
       "    </tr>\n",
       "    <tr>\n",
       "      <th>26</th>\n",
       "      <td>82906.26</td>\n",
       "    </tr>\n",
       "    <tr>\n",
       "      <th>18</th>\n",
       "      <td>79331.21</td>\n",
       "    </tr>\n",
       "    <tr>\n",
       "      <th>12</th>\n",
       "      <td>79071.59</td>\n",
       "    </tr>\n",
       "    <tr>\n",
       "      <th>11</th>\n",
       "      <td>75552.29</td>\n",
       "    </tr>\n",
       "    <tr>\n",
       "      <th>27</th>\n",
       "      <td>75513.66</td>\n",
       "    </tr>\n",
       "    <tr>\n",
       "      <th>6</th>\n",
       "      <td>73948.95</td>\n",
       "    </tr>\n",
       "    <tr>\n",
       "      <th>15</th>\n",
       "      <td>72773.38</td>\n",
       "    </tr>\n",
       "    <tr>\n",
       "      <th>13</th>\n",
       "      <td>72711.51</td>\n",
       "    </tr>\n",
       "    <tr>\n",
       "      <th>8</th>\n",
       "      <td>71604.80</td>\n",
       "    </tr>\n",
       "    <tr>\n",
       "      <th>5</th>\n",
       "      <td>71239.24</td>\n",
       "    </tr>\n",
       "    <tr>\n",
       "      <th>4</th>\n",
       "      <td>70642.36</td>\n",
       "    </tr>\n",
       "    <tr>\n",
       "      <th>22</th>\n",
       "      <td>70028.67</td>\n",
       "    </tr>\n",
       "    <tr>\n",
       "      <th>2</th>\n",
       "      <td>67991.69</td>\n",
       "    </tr>\n",
       "    <tr>\n",
       "      <th>31</th>\n",
       "      <td>60697.26</td>\n",
       "    </tr>\n",
       "    <tr>\n",
       "      <th>3</th>\n",
       "      <td>59176.79</td>\n",
       "    </tr>\n",
       "    <tr>\n",
       "      <th>30</th>\n",
       "      <td>53320.46</td>\n",
       "    </tr>\n",
       "    <tr>\n",
       "      <th>29</th>\n",
       "      <td>48645.98</td>\n",
       "    </tr>\n",
       "    <tr>\n",
       "      <th>1</th>\n",
       "      <td>46880.23</td>\n",
       "    </tr>\n",
       "  </tbody>\n",
       "</table>\n",
       "</div>"
      ],
      "text/plain": [
       "           LINENETTOTAL\n",
       "MONTH_DAY              \n",
       "14             97917.34\n",
       "24             95950.73\n",
       "28             94921.02\n",
       "21             92689.22\n",
       "7              90956.57\n",
       "23             90813.19\n",
       "16             89477.00\n",
       "17             89163.03\n",
       "10             88953.09\n",
       "20             86121.36\n",
       "9              85109.51\n",
       "19             84259.80\n",
       "25             83847.89\n",
       "26             82906.26\n",
       "18             79331.21\n",
       "12             79071.59\n",
       "11             75552.29\n",
       "27             75513.66\n",
       "6              73948.95\n",
       "15             72773.38\n",
       "13             72711.51\n",
       "8              71604.80\n",
       "5              71239.24\n",
       "4              70642.36\n",
       "22             70028.67\n",
       "2              67991.69\n",
       "31             60697.26\n",
       "3              59176.79\n",
       "30             53320.46\n",
       "29             48645.98\n",
       "1              46880.23"
      ]
     },
     "execution_count": 150,
     "metadata": {},
     "output_type": "execute_result"
    }
   ],
   "source": [
    "## ve hangi gün ne kadarlık bir alışveriş yapılmıs oan bakıyoruz\n",
    "df.groupby(\"MONTH_DAY\").agg({\"LINENETTOTAL\":\"sum\"}).sort_values(\"LINENETTOTAL\",ascending=False)"
   ]
  },
  {
   "cell_type": "markdown",
   "metadata": {},
   "source": [
    "### 40- Günün Hangi Saatlerinde Yoğunluk daha Fazla Olmakta"
   ]
  },
  {
   "cell_type": "code",
   "execution_count": 151,
   "metadata": {},
   "outputs": [],
   "source": [
    "### part time eleman alacağız ama hangi saatler arasında alırsak daha fazla iş yapar ve maliyeti ve yoğunluğu düşürüz"
   ]
  },
  {
   "cell_type": "code",
   "execution_count": 152,
   "metadata": {},
   "outputs": [],
   "source": [
    "### fişin baslangıç saatlerini string e çevirdik\n",
    "df[\"STARTDATE2\"]=df[\"STARTDATE\"].apply(lambda x: str(x))"
   ]
  },
  {
   "cell_type": "code",
   "execution_count": 153,
   "metadata": {},
   "outputs": [
    {
     "data": {
      "text/plain": [
       "0    2017-01-08 16:16:11\n",
       "1    2017-01-07 11:04:34\n",
       "2    2017-01-04 14:00:03\n",
       "3    2017-01-04 14:00:03\n",
       "4    2017-01-06 14:00:30\n",
       "Name: STARTDATE2, dtype: object"
      ]
     },
     "execution_count": 153,
     "metadata": {},
     "output_type": "execute_result"
    }
   ],
   "source": [
    "### yapacağımız split işlemi için bir göz attık\n",
    "df[\"STARTDATE2\"].head()"
   ]
  },
  {
   "cell_type": "code",
   "execution_count": 154,
   "metadata": {},
   "outputs": [],
   "source": [
    "### sadece saat kısımlarını aldık\n",
    "df[\"SHOPPING_HOUR\"] = df[\"STARTDATE2\"].apply(lambda x : ((x.split()[1]).split(\":\")[0]))"
   ]
  },
  {
   "cell_type": "code",
   "execution_count": 155,
   "metadata": {
    "collapsed": true,
    "jupyter": {
     "outputs_hidden": true
    }
   },
   "outputs": [
    {
     "data": {
      "text/html": [
       "<div>\n",
       "<style scoped>\n",
       "    .dataframe tbody tr th:only-of-type {\n",
       "        vertical-align: middle;\n",
       "    }\n",
       "\n",
       "    .dataframe tbody tr th {\n",
       "        vertical-align: top;\n",
       "    }\n",
       "\n",
       "    .dataframe thead th {\n",
       "        text-align: right;\n",
       "    }\n",
       "</style>\n",
       "<table border=\"1\" class=\"dataframe\">\n",
       "  <thead>\n",
       "    <tr style=\"text-align: right;\">\n",
       "      <th></th>\n",
       "      <th>SHOPPING_HOUR</th>\n",
       "      <th>STARTDATE2</th>\n",
       "    </tr>\n",
       "  </thead>\n",
       "  <tbody>\n",
       "    <tr>\n",
       "      <th>0</th>\n",
       "      <td>16</td>\n",
       "      <td>2017-01-08 16:16:11</td>\n",
       "    </tr>\n",
       "    <tr>\n",
       "      <th>1</th>\n",
       "      <td>11</td>\n",
       "      <td>2017-01-07 11:04:34</td>\n",
       "    </tr>\n",
       "    <tr>\n",
       "      <th>2</th>\n",
       "      <td>14</td>\n",
       "      <td>2017-01-04 14:00:03</td>\n",
       "    </tr>\n",
       "  </tbody>\n",
       "</table>\n",
       "</div>"
      ],
      "text/plain": [
       "  SHOPPING_HOUR           STARTDATE2\n",
       "0            16  2017-01-08 16:16:11\n",
       "1            11  2017-01-07 11:04:34\n",
       "2            14  2017-01-04 14:00:03"
      ]
     },
     "execution_count": 155,
     "metadata": {},
     "output_type": "execute_result"
    }
   ],
   "source": [
    "df[[\"SHOPPING_HOUR\",\"STARTDATE2\"]].head(3)"
   ]
  },
  {
   "cell_type": "code",
   "execution_count": 156,
   "metadata": {
    "collapsed": true,
    "jupyter": {
     "outputs_hidden": true
    }
   },
   "outputs": [
    {
     "data": {
      "text/html": [
       "<div>\n",
       "<style scoped>\n",
       "    .dataframe tbody tr th:only-of-type {\n",
       "        vertical-align: middle;\n",
       "    }\n",
       "\n",
       "    .dataframe tbody tr th {\n",
       "        vertical-align: top;\n",
       "    }\n",
       "\n",
       "    .dataframe thead th {\n",
       "        text-align: right;\n",
       "    }\n",
       "</style>\n",
       "<table border=\"1\" class=\"dataframe\">\n",
       "  <thead>\n",
       "    <tr style=\"text-align: right;\">\n",
       "      <th></th>\n",
       "      <th>CLIENTCODE</th>\n",
       "    </tr>\n",
       "    <tr>\n",
       "      <th>SHOPPING_HOUR</th>\n",
       "      <th></th>\n",
       "    </tr>\n",
       "  </thead>\n",
       "  <tbody>\n",
       "    <tr>\n",
       "      <th>18</th>\n",
       "      <td>14564</td>\n",
       "    </tr>\n",
       "    <tr>\n",
       "      <th>17</th>\n",
       "      <td>14422</td>\n",
       "    </tr>\n",
       "    <tr>\n",
       "      <th>16</th>\n",
       "      <td>13538</td>\n",
       "    </tr>\n",
       "    <tr>\n",
       "      <th>15</th>\n",
       "      <td>12095</td>\n",
       "    </tr>\n",
       "    <tr>\n",
       "      <th>19</th>\n",
       "      <td>11636</td>\n",
       "    </tr>\n",
       "    <tr>\n",
       "      <th>14</th>\n",
       "      <td>10954</td>\n",
       "    </tr>\n",
       "    <tr>\n",
       "      <th>13</th>\n",
       "      <td>10248</td>\n",
       "    </tr>\n",
       "    <tr>\n",
       "      <th>12</th>\n",
       "      <td>8847</td>\n",
       "    </tr>\n",
       "    <tr>\n",
       "      <th>11</th>\n",
       "      <td>7654</td>\n",
       "    </tr>\n",
       "    <tr>\n",
       "      <th>20</th>\n",
       "      <td>6385</td>\n",
       "    </tr>\n",
       "    <tr>\n",
       "      <th>10</th>\n",
       "      <td>6048</td>\n",
       "    </tr>\n",
       "    <tr>\n",
       "      <th>09</th>\n",
       "      <td>3814</td>\n",
       "    </tr>\n",
       "    <tr>\n",
       "      <th>21</th>\n",
       "      <td>1799</td>\n",
       "    </tr>\n",
       "    <tr>\n",
       "      <th>08</th>\n",
       "      <td>1148</td>\n",
       "    </tr>\n",
       "    <tr>\n",
       "      <th>07</th>\n",
       "      <td>122</td>\n",
       "    </tr>\n",
       "    <tr>\n",
       "      <th>22</th>\n",
       "      <td>27</td>\n",
       "    </tr>\n",
       "    <tr>\n",
       "      <th>01</th>\n",
       "      <td>4</td>\n",
       "    </tr>\n",
       "    <tr>\n",
       "      <th>00</th>\n",
       "      <td>2</td>\n",
       "    </tr>\n",
       "  </tbody>\n",
       "</table>\n",
       "</div>"
      ],
      "text/plain": [
       "               CLIENTCODE\n",
       "SHOPPING_HOUR            \n",
       "18                  14564\n",
       "17                  14422\n",
       "16                  13538\n",
       "15                  12095\n",
       "19                  11636\n",
       "14                  10954\n",
       "13                  10248\n",
       "12                   8847\n",
       "11                   7654\n",
       "20                   6385\n",
       "10                   6048\n",
       "09                   3814\n",
       "21                   1799\n",
       "08                   1148\n",
       "07                    122\n",
       "22                     27\n",
       "01                      4\n",
       "00                      2"
      ]
     },
     "execution_count": 156,
     "metadata": {},
     "output_type": "execute_result"
    }
   ],
   "source": [
    "df.groupby(\"SHOPPING_HOUR\").agg({\"CLIENTCODE\":\"nunique\"}).sort_values(\"CLIENTCODE\",ascending=False)"
   ]
  },
  {
   "cell_type": "markdown",
   "metadata": {},
   "source": [
    "### 41-Kategori İsimlerini Yazdırın. İçlerinden Bir Tanesine ait alt urunleri bulup bu kategori arasında urunlerin satış yüzdelerini hesaplayın"
   ]
  },
  {
   "cell_type": "code",
   "execution_count": 90,
   "metadata": {},
   "outputs": [
    {
     "data": {
      "text/plain": [
       "array(['İÇECEK', 'GIDA', 'SÜT KAHVALTILIK', 'MEYVE SEBZE', 'UNKCATG',\n",
       "       'SİGARA', 'KOZMETİK', 'ET TAVUK', 'EV', 'KAĞIT', 'BEBEK',\n",
       "       'DETERJAN TEMİZLİK', 'PET'], dtype=object)"
      ]
     },
     "execution_count": 90,
     "metadata": {},
     "output_type": "execute_result"
    }
   ],
   "source": [
    "### kategorilerin isimleri\n",
    "df[\"CATEGORY_NAME1\"].unique()"
   ]
  },
  {
   "cell_type": "code",
   "execution_count": 91,
   "metadata": {},
   "outputs": [
    {
     "data": {
      "text/plain": [
       "array(['SAKIZ SEKERLEME', 'CORBA BULYON', 'MAKARNA', 'UNLU MAMÜLLER',\n",
       "       'SIVI YAĞLAR', 'TOZ TATLI', 'ÇİKOLATA GOFRET', 'DONDURULMUŞ GIDA',\n",
       "       'HAZIR YEMEKLER', 'BÜSKİVİ ÇEREZ', 'BAKLİYAT', 'TUZ BAHARAT',\n",
       "       'BAYRAMLIK', 'ÇİKOLATA'], dtype=object)"
      ]
     },
     "execution_count": 91,
     "metadata": {},
     "output_type": "execute_result"
    }
   ],
   "source": [
    "## kategorilerden gıdanın alt kategori isimleri\n",
    "df[df[\"CATEGORY_NAME1\"] == \"GIDA\"][\"CATEGORY_NAME2\"].unique()"
   ]
  },
  {
   "cell_type": "code",
   "execution_count": 92,
   "metadata": {},
   "outputs": [
    {
     "data": {
      "text/html": [
       "<div>\n",
       "<style scoped>\n",
       "    .dataframe tbody tr th:only-of-type {\n",
       "        vertical-align: middle;\n",
       "    }\n",
       "\n",
       "    .dataframe tbody tr th {\n",
       "        vertical-align: top;\n",
       "    }\n",
       "\n",
       "    .dataframe thead th {\n",
       "        text-align: right;\n",
       "    }\n",
       "</style>\n",
       "<table border=\"1\" class=\"dataframe\">\n",
       "  <thead>\n",
       "    <tr style=\"text-align: right;\">\n",
       "      <th></th>\n",
       "      <th>AMOUNT</th>\n",
       "    </tr>\n",
       "    <tr>\n",
       "      <th>CATEGORY_NAME2</th>\n",
       "      <th></th>\n",
       "    </tr>\n",
       "  </thead>\n",
       "  <tbody>\n",
       "    <tr>\n",
       "      <th>BAKLİYAT</th>\n",
       "      <td>30577.813</td>\n",
       "    </tr>\n",
       "    <tr>\n",
       "      <th>BAYRAMLIK</th>\n",
       "      <td>249.000</td>\n",
       "    </tr>\n",
       "    <tr>\n",
       "      <th>BÜSKİVİ ÇEREZ</th>\n",
       "      <td>93526.029</td>\n",
       "    </tr>\n",
       "  </tbody>\n",
       "</table>\n",
       "</div>"
      ],
      "text/plain": [
       "                   AMOUNT\n",
       "CATEGORY_NAME2           \n",
       "BAKLİYAT        30577.813\n",
       "BAYRAMLIK         249.000\n",
       "BÜSKİVİ ÇEREZ   93526.029"
      ]
     },
     "execution_count": 92,
     "metadata": {},
     "output_type": "execute_result"
    }
   ],
   "source": [
    "gida_alt_kategori = df[df[\"CATEGORY_NAME1\"] == \"GIDA\"].groupby(\"CATEGORY_NAME2\").agg({\"AMOUNT\":\"sum\"})\n",
    "gida_alt_kategori.head(3)"
   ]
  },
  {
   "cell_type": "code",
   "execution_count": 94,
   "metadata": {},
   "outputs": [],
   "source": [
    "gida_alt_kategori[\"PERCENTAGE\"] = gida_alt_kategori[\"AMOUNT\"] \\\n",
    ".apply(lambda x: 100*(x/(gida_alt_kategori[\"AMOUNT\"].sum())))"
   ]
  },
  {
   "cell_type": "code",
   "execution_count": 95,
   "metadata": {},
   "outputs": [
    {
     "data": {
      "text/plain": [
       "CATEGORY_NAME2\n",
       "BAKLİYAT            10.248462\n",
       "BAYRAMLIK            0.083455\n",
       "BÜSKİVİ ÇEREZ       31.346192\n",
       "CORBA BULYON         2.570343\n",
       "DONDURULMUŞ GIDA     0.673001\n",
       "Name: PERCENTAGE, dtype: float64"
      ]
     },
     "execution_count": 95,
     "metadata": {},
     "output_type": "execute_result"
    }
   ],
   "source": [
    "gida_alt_kategori[\"PERCENTAGE\"].head()"
   ]
  }
 ],
 "metadata": {
  "kernelspec": {
   "display_name": "Python 3 (ipykernel)",
   "language": "python",
   "name": "python3"
  },
  "language_info": {
   "codemirror_mode": {
    "name": "ipython",
    "version": 3
   },
   "file_extension": ".py",
   "mimetype": "text/x-python",
   "name": "python",
   "nbconvert_exporter": "python",
   "pygments_lexer": "ipython3",
   "version": "3.9.7"
  }
 },
 "nbformat": 4,
 "nbformat_minor": 4
}
